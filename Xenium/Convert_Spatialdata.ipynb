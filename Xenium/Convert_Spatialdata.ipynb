{
 "cells": [
  {
   "cell_type": "code",
   "id": "initial_id",
   "metadata": {
    "collapsed": true
   },
   "source": [
    "##\n",
    "from spatialdata_io import xenium\n",
    "import spatialdata as sd\n",
    "\n",
    "##\n",
    "from pathlib import Path\n",
    "import shutil"
   ],
   "outputs": [],
   "execution_count": null
  },
  {
   "metadata": {},
   "cell_type": "code",
   "outputs": [],
   "execution_count": null,
   "source": [
    "##\n",
    "path = Path().resolve()\n",
    "# luca's workaround for pycharm\n",
    "#if not str(path).endswith(\"xenium_2.0.0_io\"):\n",
    "#    path /= \"xenium_2.0.0_io\"\n",
    "#    assert path.exists()\n",
    "path_read = \"C:\\\\Users\\\\User\\\\Desktop\\\\Thesis\\\\Data\\\\Xenium_hPancreas_Cancer\\\\Xenium_V1_hPancreas_Cancer_Add_on_FFPE_xe_outs\"\n",
    "#path_read = path / \"data\"\n",
    "path_write = path / \"data.zarr\""
   ],
   "id": "d4d30b94cb283515"
  },
  {
   "metadata": {},
   "cell_type": "code",
   "outputs": [],
   "execution_count": null,
   "source": [
    "##\n",
    "print(\"parsing the data... \", end=\"\")\n",
    "sdata = xenium(\n",
    "    path=str(path_read),\n",
    "    n_jobs=8,\n",
    "    cell_boundaries=True,\n",
    "    nucleus_boundaries=True,\n",
    "    morphology_focus=True,\n",
    "    cells_as_circles=True,\n",
    ")\n",
    "print(\"done\")\n"
   ],
   "id": "efa2a489f94b81a4"
  },
  {
   "metadata": {},
   "cell_type": "code",
   "outputs": [],
   "execution_count": null,
   "source": [
    "\n",
    "##\n",
    "print(\"writing the data... \", end=\"\")\n",
    "if path_write.exists():\n",
    "    shutil.rmtree(path_write)\n",
    "sdata.write(path_write)\n",
    "print(\"done\")\n"
   ],
   "id": "922b1bec58cdb390"
  },
  {
   "metadata": {},
   "cell_type": "code",
   "outputs": [],
   "execution_count": null,
   "source": [
    "\n",
    "##\n",
    "sdata = sd.SpatialData.read(\"./data.zarr/\")\n",
    "print(sdata)\n",
    "##"
   ],
   "id": "70dd4ec915499f71"
  }
 ],
 "metadata": {
  "kernelspec": {
   "display_name": "Python 3",
   "language": "python",
   "name": "python3"
  },
  "language_info": {
   "codemirror_mode": {
    "name": "ipython",
    "version": 2
   },
   "file_extension": ".py",
   "mimetype": "text/x-python",
   "name": "python",
   "nbconvert_exporter": "python",
   "pygments_lexer": "ipython2",
   "version": "2.7.6"
  }
 },
 "nbformat": 4,
 "nbformat_minor": 5
}
