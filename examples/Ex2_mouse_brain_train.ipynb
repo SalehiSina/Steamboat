{
 "cells": [
  {
   "cell_type": "code",
   "execution_count": null,
   "id": "0",
   "metadata": {
    "colab": {
     "base_uri": "https://localhost:8080/"
    },
    "id": "S6ZlccKO7qvf",
    "outputId": "bc740bf4-c891-4c55-af2d-78274f183607"
   },
   "outputs": [],
   "source": [
    "!git clone https://github.com/SalehiSina/Steamboat.git"
   ]
  },
  {
   "cell_type": "code",
   "execution_count": null,
   "id": "1",
   "metadata": {
    "colab": {
     "base_uri": "https://localhost:8080/"
    },
    "id": "3P7vNqBe70L9",
    "outputId": "69864626-2769-445f-9d0c-6df3ab33644c"
   },
   "outputs": [],
   "source": [
    "from google.colab import drive\n",
    "drive.mount('/content/drive')"
   ]
  },
  {
   "cell_type": "code",
   "execution_count": null,
   "id": "2",
   "metadata": {
    "id": "Eg9rkjQo7-HW"
   },
   "outputs": [],
   "source": [
    "!pip install squidpy scanpy"
   ]
  },
  {
   "cell_type": "markdown",
   "id": "3",
   "metadata": {
    "id": "34225de3-1b63-4b1e-9f3b-661bc57bb979"
   },
   "source": [
    "# Train on mouse brain data\n",
    "\n",
    "This could take several hours. The trained model is provided, which can be used to try the interpretation part without training again."
   ]
  },
  {
   "cell_type": "code",
   "id": "4",
   "metadata": {
    "colab": {
     "base_uri": "https://localhost:8080/"
    },
    "id": "cae23757d9945871",
    "outputId": "03f36a75-259c-4b90-b61b-01944a2bba35",
    "ExecuteTime": {
     "end_time": "2025-08-20T04:03:07.299283Z",
     "start_time": "2025-08-20T04:03:00.618584Z"
    }
   },
   "source": [
    "import torch\n",
    "\n",
    "# Check if CUDA is available\n",
    "print(\"CUDA Available:\", torch.cuda.is_available())"
   ],
   "outputs": [
    {
     "name": "stdout",
     "output_type": "stream",
     "text": [
      "CUDA Available: False\n"
     ]
    }
   ],
   "execution_count": 1
  },
  {
   "cell_type": "code",
   "id": "5",
   "metadata": {
    "colab": {
     "base_uri": "https://localhost:8080/"
    },
    "id": "b2d584e4-d3db-4c08-8bf5-76ab340c225a",
    "outputId": "b364a593-2508-4695-e65a-5319c01ca927",
    "ExecuteTime": {
     "end_time": "2025-08-20T04:03:07.388556Z",
     "start_time": "2025-08-20T04:03:07.378333Z"
    }
   },
   "source": [
    "##Working with google colab\n",
    "import os\n",
    "import sys\n",
    "sys.path.append(\"/content/Steamboat\")\n",
    "if torch.cuda.is_available():\n",
    "    device = \"cuda\"\n",
    "    print(torch.cuda.get_device_name(0))\n",
    "else:\n",
    "    device = \"cpu\"\n",
    "    print(\"Using CPU\")\n"
   ],
   "outputs": [
    {
     "name": "stdout",
     "output_type": "stream",
     "text": [
      "Using CPU\n"
     ]
    }
   ],
   "execution_count": 2
  },
  {
   "metadata": {
    "ExecuteTime": {
     "end_time": "2025-08-20T04:03:56.044304Z",
     "start_time": "2025-08-20T04:03:56.033932Z"
    }
   },
   "cell_type": "code",
   "source": [
    "##Working with laptop\n",
    "import os\n",
    "import sys\n",
    "sys.path.append(\".../\")\n",
    "if torch.cuda.is_available():\n",
    "    device = \"cuda\"\n",
    "    print(torch.cuda.get_device_name(0))\n",
    "else:\n",
    "    device = \"cpu\"\n",
    "    print(\"Using CPU\")\n"
   ],
   "id": "f79036b5056baee",
   "outputs": [
    {
     "name": "stdout",
     "output_type": "stream",
     "text": [
      "Using CPU\n"
     ]
    }
   ],
   "execution_count": 5
  },
  {
   "cell_type": "code",
   "id": "6",
   "metadata": {
    "colab": {
     "base_uri": "https://localhost:8080/"
    },
    "id": "fa4a4014-6a35-415d-baa9-738cc509d53f",
    "outputId": "cc7ea0b0-9628-4a21-a7e6-9b93d6b91113",
    "ExecuteTime": {
     "end_time": "2025-08-20T04:03:36.003245Z",
     "start_time": "2025-08-20T04:03:07.507436Z"
    }
   },
   "source": [
    "import scanpy as sc\n",
    "import squidpy as sq\n",
    "import pandas as pd\n",
    "from tqdm.notebook import tqdm\n",
    "import scipy as sp\n",
    "import numpy as np\n",
    "import multiprocessing\n",
    "import pickle as pkl\n",
    "import torch\n",
    "import gc\n",
    "import sklearn.metrics\n",
    "\n",
    "import matplotlib.pyplot as plt\n",
    "import seaborn as sns\n",
    "import matplotlib\n",
    "\n",
    "plt.rcParams['pdf.fonttype'] = 42\n",
    "plt.rcParams['mathtext.fontset'] = 'dejavuserif'\n",
    "plt.rcParams['font.family'] = 'arial'\n",
    "\n",
    "pltkw = dict(bbox_inches='tight', transparent=True)"
   ],
   "outputs": [
    {
     "name": "stderr",
     "output_type": "stream",
     "text": [
      "C:\\Users\\User\\anaconda3\\Lib\\site-packages\\dask\\dataframe\\__init__.py:31: FutureWarning: The legacy Dask DataFrame implementation is deprecated and will be removed in a future version. Set the configuration option `dataframe.query-planning` to `True` or None to enable the new Dask Dataframe implementation and silence this warning.\n",
      "  warnings.warn(\n",
      "C:\\Users\\User\\anaconda3\\Lib\\site-packages\\spatialdata\\_core\\query\\relational_query.py:532: FutureWarning: functools.partial will be a method descriptor in future Python versions; wrap it in enum.member() if you want to preserve the old behavior\n",
      "  left = partial(_left_join_spatialelement_table)\n",
      "C:\\Users\\User\\anaconda3\\Lib\\site-packages\\spatialdata\\_core\\query\\relational_query.py:533: FutureWarning: functools.partial will be a method descriptor in future Python versions; wrap it in enum.member() if you want to preserve the old behavior\n",
      "  left_exclusive = partial(_left_exclusive_join_spatialelement_table)\n",
      "C:\\Users\\User\\anaconda3\\Lib\\site-packages\\spatialdata\\_core\\query\\relational_query.py:534: FutureWarning: functools.partial will be a method descriptor in future Python versions; wrap it in enum.member() if you want to preserve the old behavior\n",
      "  inner = partial(_inner_join_spatialelement_table)\n",
      "C:\\Users\\User\\anaconda3\\Lib\\site-packages\\spatialdata\\_core\\query\\relational_query.py:535: FutureWarning: functools.partial will be a method descriptor in future Python versions; wrap it in enum.member() if you want to preserve the old behavior\n",
      "  right = partial(_right_join_spatialelement_table)\n",
      "C:\\Users\\User\\anaconda3\\Lib\\site-packages\\spatialdata\\_core\\query\\relational_query.py:536: FutureWarning: functools.partial will be a method descriptor in future Python versions; wrap it in enum.member() if you want to preserve the old behavior\n",
      "  right_exclusive = partial(_right_exclusive_join_spatialelement_table)\n",
      "C:\\Users\\User\\anaconda3\\Lib\\site-packages\\anndata\\__init__.py:44: FutureWarning: Importing read_text from `anndata` is deprecated. Import anndata.io.read_text instead.\n",
      "  return module_get_attr_redirect(attr_name, deprecated_mapping=_DEPRECATED)\n"
     ]
    }
   ],
   "execution_count": 3
  },
  {
   "cell_type": "code",
   "id": "7",
   "metadata": {
    "id": "d606b6a9-01be-44c4-b25a-6d001831dfb3",
    "jupyter": {
     "is_executing": true
    },
    "ExecuteTime": {
     "start_time": "2025-08-20T08:03:17.496978Z"
    }
   },
   "source": [
    "import steamboat as sf\n",
    "import steamboat.model as sm\n",
    "#importlib.reload(sm)\n",
    "#import steamboat.integrated_model\n",
    "# importlib.reload(spaceformer.benchmarks)"
   ],
   "outputs": [],
   "execution_count": null
  },
  {
   "cell_type": "code",
   "execution_count": null,
   "id": "8",
   "metadata": {
    "id": "9df680581574cfd6"
   },
   "outputs": [],
   "source": [
    "import importlib\n",
    "import steamboat.tools\n",
    "#importlib.reload(steamboat.tools)"
   ]
  },
  {
   "cell_type": "code",
   "execution_count": null,
   "id": "9",
   "metadata": {
    "colab": {
     "base_uri": "https://localhost:8080/"
    },
    "id": "3446e53fe9cc2c80",
    "outputId": "f9d559aa-5904-4fd6-cb01-50df7b45f0c6"
   },
   "outputs": [],
   "source": [
    "gc.collect()"
   ]
  },
  {
   "cell_type": "code",
   "execution_count": null,
   "id": "10",
   "metadata": {
    "id": "pSW9ks4M93ww"
   },
   "outputs": [],
   "source": [
    "##Working with google colab\n",
    "if False:\n",
    "    adata = sc.read_h5ad(\"/content/drive/MyDrive/Thesis/Data/Steamboat_Data/Ex2_mouse_brain/Zhuang-ABCA-1-raw.h5ad\")\n",
    "    obs = pd.read_csv(\"/content/drive/MyDrive/Thesis/Data/Steamboat_Data/Ex2_mouse_brain/label.csv/label.csv\", index_col=0)\n",
    "\n",
    "    # obs = obs[obs['brain_section_label'].isin(obs['brain_section_label'].value_counts()[:10].index.tolist())]\n",
    "    # adata = adata[obs.index, :]\n",
    "    # adata.obs = obs\n",
    "    # gc.collect()\n",
    "\n",
    "    adata = adata[obs.index, :]\n",
    "    gc.collect()\n",
    "    adata.obs = obs\n",
    "    gc.collect()\n",
    "\n",
    "    adata.obsm['spatial'] = adata.obs[['x', 'y']].to_numpy()\n",
    "\n",
    "    adata.write_h5ad(\"/content/drive/MyDrive/Thesis/Data/Steamboat_Data/Ex2_mouse_brain/Zhuang-ABCA-1-labeled.h5ad\")\n",
    "elif True:\n",
    "\n",
    "    # Open in backed mode (does not load all data)\n",
    "    adata_backed = sc.read_h5ad(\"/content/drive/MyDrive/Thesis/Data/Steamboat_Data/Ex2_mouse_brain/Zhuang-ABCA-1-labeled.h5ad\", backed=\"r\")\n",
    "\n",
    "    # Load only the first n cells\n",
    "    n = 100000\n",
    "    adata = adata_backed[:n, :].to_memory()\n",
    "else:\n",
    "    adata = sc.read_h5ad(\"/content/drive/MyDrive/Thesis/Data/Steamboat_Data/Ex2_mouse_brain/Zhuang-ABCA-1-labeled.h5ad\")\n"
   ]
  },
  {
   "cell_type": "code",
   "id": "11",
   "metadata": {
    "id": "f139c7d7-44cc-4f39-8567-e602e857041a",
    "ExecuteTime": {
     "end_time": "2025-08-20T04:04:50.771766Z",
     "start_time": "2025-08-20T04:04:35.033563Z"
    }
   },
   "source": [
    "##Working with laptop\n",
    "if False:\n",
    "    adata = sc.read_h5ad(\"C:\\\\Users\\\\User\\Desktop\\Thesis\\Data\\Steamboat_Data\\Ex2_mouse_brain\\Zhuang-ABCA-1-raw.h5ad\")\n",
    "    obs = pd.read_csv(\"C:\\\\Users\\\\User\\Desktop\\Thesis\\Data\\Steamboat_Data\\Ex2_mouse_brain\\label\\label.csv\", index_col=0)\n",
    "\n",
    "    # obs = obs[obs['brain_section_label'].isin(obs['brain_section_label'].value_counts()[:10].index.tolist())]\n",
    "    # adata = adata[obs.index, :]\n",
    "    # adata.obs = obs\n",
    "    # gc.collect()\n",
    "\n",
    "    adata = adata[obs.index, :]\n",
    "    gc.collect()\n",
    "    adata.obs = obs\n",
    "    gc.collect()\n",
    "\n",
    "    adata.obsm['spatial'] = adata.obs[['x', 'y']].to_numpy()\n",
    "\n",
    "    adata.write_h5ad(\"C:\\\\Users\\\\User\\Desktop\\Thesis\\Data\\Steamboat_Data\\Ex2_mouse_brain\\Zhuang-ABCA-1-labeled.h5ad\")\n",
    "\n",
    "elif True:\n",
    "\n",
    "    # Open in backed mode (does not load all data)\n",
    "    adata_backed = sc.read_h5ad(\"C:\\\\Users\\\\User\\Desktop\\Thesis\\Data\\Steamboat_Data\\Ex2_mouse_brain\\Zhuang-ABCA-1-labeled.h5ad\", backed=\"r\")\n",
    "\n",
    "    # Load only the first n cells\n",
    "    n = 100000\n",
    "    adata = adata_backed[:n, :].to_memory()\n",
    "\n",
    "else:\n",
    "    adata = sc.read_h5ad(\"C:\\\\Users\\\\User\\Desktop\\Thesis\\Data\\Steamboat_Data\\Ex2_mouse_brain\\Zhuang-ABCA-1-labeled.h5ad\")\n"
   ],
   "outputs": [],
   "execution_count": 7
  },
  {
   "cell_type": "code",
   "id": "12",
   "metadata": {
    "colab": {
     "base_uri": "https://localhost:8080/"
    },
    "id": "56b62ca6bedc21e9",
    "outputId": "9fe7e2b0-fbf9-4f47-8714-4264650b41e8",
    "ExecuteTime": {
     "end_time": "2025-08-20T04:05:00.824195Z",
     "start_time": "2025-08-20T04:05:00.812780Z"
    }
   },
   "source": [
    "adata"
   ],
   "outputs": [
    {
     "data": {
      "text/plain": [
       "AnnData object with n_obs × n_vars = 100000 × 1122\n",
       "    obs: 'brain_section_label', 'feature_matrix_label', 'donor_label', 'donor_genotype', 'donor_sex', 'cluster_alias', 'x', 'y', 'z', 'subclass_confidence_score', 'cluster_confidence_score', 'high_quality_transfer', 'neurotransmitter', 'class', 'subclass', 'supertype', 'cluster', 'neurotransmitter_color', 'class_color', 'subclass_color', 'supertype_color', 'cluster_color', 'x_ccf', 'y_ccf', 'z_ccf', 'parcellation_index', 'parcellation_organ', 'parcellation_category', 'parcellation_division', 'parcellation_structure', 'parcellation_substructure', 'parcellation_organ_color', 'parcellation_category_color', 'parcellation_division_color', 'parcellation_structure_color', 'parcellation_substructure_color'\n",
       "    var: 'gene_symbol'\n",
       "    obsm: 'spatial'"
      ]
     },
     "execution_count": 8,
     "metadata": {},
     "output_type": "execute_result"
    }
   ],
   "execution_count": 8
  },
  {
   "cell_type": "code",
   "id": "13",
   "metadata": {
    "id": "3c4574c395567498",
    "outputId": "a83c7789-566a-4de3-f92c-78fe1a4909f7",
    "ExecuteTime": {
     "end_time": "2025-08-20T08:00:25.762960Z",
     "start_time": "2025-08-20T08:00:24.273645Z"
    }
   },
   "source": [
    "####SINA\n",
    "# to see what's inside:\n",
    "\n",
    "adata.obs.head()\n",
    "#adata.obs.columns\n",
    "#adata.var[\"gene_symbol\"].unique().shape\n",
    "#adata.var[\"gene_symbol\"].to_list()[:20]"
   ],
   "outputs": [
    {
     "ename": "NameError",
     "evalue": "name 'adata' is not defined",
     "output_type": "error",
     "traceback": [
      "\u001B[1;31m---------------------------------------------------------------------------\u001B[0m",
      "\u001B[1;31mNameError\u001B[0m                                 Traceback (most recent call last)",
      "Cell \u001B[1;32mIn[1], line 4\u001B[0m\n\u001B[0;32m      1\u001B[0m \u001B[38;5;66;03m####SINA\u001B[39;00m\n\u001B[0;32m      2\u001B[0m \u001B[38;5;66;03m# to see what's inside:\u001B[39;00m\n\u001B[1;32m----> 4\u001B[0m adata\u001B[38;5;241m.\u001B[39mobs\u001B[38;5;241m.\u001B[39mhead()\n",
      "\u001B[1;31mNameError\u001B[0m: name 'adata' is not defined"
     ]
    }
   ],
   "execution_count": 1
  },
  {
   "cell_type": "code",
   "execution_count": null,
   "id": "14",
   "metadata": {
    "id": "a1bf3e49d83209d1",
    "outputId": "aa8e756e-c22b-453d-82e9-938d7329e092"
   },
   "outputs": [],
   "source": [
    "####SINA\n",
    "adata.var_names.to_list()[-5:]"
   ]
  },
  {
   "cell_type": "code",
   "execution_count": null,
   "id": "15",
   "metadata": {
    "id": "f2d53db196a10729",
    "outputId": "f849f9d7-1150-4da0-ae26-a01a2c235093"
   },
   "outputs": [],
   "source": [
    "####SINA\n",
    "\n",
    "adata.X[20:30, -5:]"
   ]
  },
  {
   "cell_type": "code",
   "execution_count": null,
   "id": "16",
   "metadata": {
    "id": "bcb442cd9b46eb36",
    "outputId": "1286daad-58e3-4fb8-94f4-6f0b8d099c90"
   },
   "outputs": [],
   "source": [
    "####SINA\n",
    "\n",
    "adata.shape      # (cells, genes)\n",
    "#adata.n_vars"
   ]
  },
  {
   "cell_type": "code",
   "execution_count": null,
   "id": "17",
   "metadata": {
    "id": "85a5fb92b42fecff",
    "outputId": "9297d159-13aa-4c6f-bb82-f87ea1ecf382"
   },
   "outputs": [],
   "source": [
    "####SINA\n",
    "\n",
    "adata.obsm.keys()"
   ]
  },
  {
   "cell_type": "code",
   "execution_count": null,
   "id": "18",
   "metadata": {
    "colab": {
     "base_uri": "https://localhost:8080/"
    },
    "id": "f7096a319af0faa0",
    "outputId": "1fc83bde-d3e0-4235-ae1f-8a120d95c5b0"
   },
   "outputs": [],
   "source": [
    "####SINA\n",
    "\n",
    "adata.obs['brain_section_label'].unique()"
   ]
  },
  {
   "cell_type": "code",
   "id": "19",
   "metadata": {
    "id": "cefa36b9-eae5-4f0f-8d17-b05cc49380cc",
    "ExecuteTime": {
     "end_time": "2025-08-20T04:05:23.261960Z",
     "start_time": "2025-08-20T04:05:22.133218Z"
    }
   },
   "source": [
    "if False:\n",
    "    n_genes = 100\n",
    "    np.random.seed(0)\n",
    "    chosen_gene_mask = np.zeros(adata.shape[1])\n",
    "    chosen_gene_mask[:n_genes] = 1.\n",
    "    np.random.shuffle(chosen_gene_mask)\n",
    "    chosen_gene_mask = chosen_gene_mask > 0.\n",
    "    adata = adata[:, chosen_gene_mask]\n",
    "gc.collect()\n",
    "\n",
    "# Normalizing to median total counts\n",
    "sc.pp.normalize_total(adata)\n",
    "# Logarithmize the data\n",
    "sc.pp.log1p(adata)"
   ],
   "outputs": [],
   "execution_count": 9
  },
  {
   "cell_type": "code",
   "id": "20",
   "metadata": {
    "colab": {
     "base_uri": "https://localhost:8080/"
    },
    "id": "b7d2abae-2ea1-47cd-bebc-b8cd8e60be5f",
    "outputId": "8654f3ce-94a4-4537-a6b0-5167100ccc9e",
    "ExecuteTime": {
     "end_time": "2025-08-20T04:05:25.602013Z",
     "start_time": "2025-08-20T04:05:24.788541Z"
    }
   },
   "source": [
    "adatas = []\n",
    "for i in adata.obs['brain_section_label'].unique():\n",
    "    adatas.append(adata[adata.obs['brain_section_label'] == i])\n",
    "    adatas[-1].obs['global'] = 0"
   ],
   "outputs": [
    {
     "name": "stderr",
     "output_type": "stream",
     "text": [
      "C:\\Users\\User\\AppData\\Local\\Temp\\ipykernel_15484\\3630113596.py:4: ImplicitModificationWarning: Trying to modify attribute `.obs` of view, initializing view as actual.\n",
      "  adatas[-1].obs['global'] = 0\n",
      "C:\\Users\\User\\AppData\\Local\\Temp\\ipykernel_15484\\3630113596.py:4: ImplicitModificationWarning: Trying to modify attribute `.obs` of view, initializing view as actual.\n",
      "  adatas[-1].obs['global'] = 0\n",
      "C:\\Users\\User\\AppData\\Local\\Temp\\ipykernel_15484\\3630113596.py:4: ImplicitModificationWarning: Trying to modify attribute `.obs` of view, initializing view as actual.\n",
      "  adatas[-1].obs['global'] = 0\n",
      "C:\\Users\\User\\AppData\\Local\\Temp\\ipykernel_15484\\3630113596.py:4: ImplicitModificationWarning: Trying to modify attribute `.obs` of view, initializing view as actual.\n",
      "  adatas[-1].obs['global'] = 0\n"
     ]
    }
   ],
   "execution_count": 10
  },
  {
   "cell_type": "code",
   "id": "21",
   "metadata": {
    "colab": {
     "base_uri": "https://localhost:8080/",
     "height": 49,
     "referenced_widgets": [
      "2e4727cccefb4502b8861409a9d92723",
      "4ca7aa042490456691ea1289453243c5",
      "ae5e18c66537441a99e9993887455d74",
      "4748da8ce4b24da9988c27fa1185741b",
      "757a8ef218be4d76a1eeb855e6020f4d",
      "977a5383d87c447bbf956fb3eeb6cb1b",
      "b148747fbac84e668a091c92332293fa",
      "c50f1b62168141708250cef674809e3b",
      "ca435d1f4dc6487db734b5536ced3d3f",
      "05e1ad4b4704452fbffcbf29db15f330",
      "c87a6408f070465fac643b9b9a69ba5d"
     ]
    },
    "id": "d9e0acc3223233e",
    "outputId": "a7d15827-2839-4f85-a491-7ca88995bf04",
    "ExecuteTime": {
     "end_time": "2025-08-20T04:05:29.287469Z",
     "start_time": "2025-08-20T04:05:28.540011Z"
    }
   },
   "source": [
    "adatas = sf.prep_adatas(adatas, norm=False, log1p=False)"
   ],
   "outputs": [
    {
     "data": {
      "text/plain": [
       "  0%|          | 0/4 [00:00<?, ?it/s]"
      ],
      "application/vnd.jupyter.widget-view+json": {
       "version_major": 2,
       "version_minor": 0,
       "model_id": "9e56ea7154d8449b92459b205013669d"
      }
     },
     "metadata": {},
     "output_type": "display_data"
    }
   ],
   "execution_count": 11
  },
  {
   "cell_type": "code",
   "id": "22",
   "metadata": {
    "colab": {
     "base_uri": "https://localhost:8080/",
     "height": 67,
     "referenced_widgets": [
      "5d1038b6483a4f11aa94b7c322918184",
      "c8d4af8584c74ed9b9d4ededba5e0975",
      "05cb8052483444a6b60763c903348d14",
      "302362e63b264a3987c79b173cf7825b",
      "ae04d93c407e41259de17de0fd5a0cb1",
      "9fb36812bc3242b0b44733d265c1e6a2",
      "9b8b08a70a814c5ab07113a6767d364d",
      "d59a532bab564600bf57f327f920ae84",
      "be6a3dec8b7b428c90a617630fdb2997",
      "90bcdab92376424dbbd6ac9eb9702d3e",
      "6c4f59b04a8543589b7834d24717a7bb"
     ]
    },
    "id": "87160bdcb6728b7b",
    "outputId": "1420aadc-8f23-4692-8263-64f550bd6d25",
    "ExecuteTime": {
     "end_time": "2025-08-20T04:05:31.190128Z",
     "start_time": "2025-08-20T04:05:30.623167Z"
    }
   },
   "source": [
    "dataset = sf.make_dataset(adatas, sparse_graph=True, regional_obs=['global'])"
   ],
   "outputs": [
    {
     "name": "stdout",
     "output_type": "stream",
     "text": [
      "Using ['global'] as regional annotations.\n"
     ]
    },
    {
     "data": {
      "text/plain": [
       "  0%|          | 0/4 [00:00<?, ?it/s]"
      ],
      "application/vnd.jupyter.widget-view+json": {
       "version_major": 2,
       "version_minor": 0,
       "model_id": "d30aaee7d7ac4b6c9425cd5626fed6e7"
      }
     },
     "metadata": {},
     "output_type": "display_data"
    }
   ],
   "execution_count": 12
  },
  {
   "cell_type": "code",
   "id": "23",
   "metadata": {
    "id": "75854034-e22e-478e-b6e0-f182c9707f95",
    "ExecuteTime": {
     "end_time": "2025-08-20T04:05:35.176629Z",
     "start_time": "2025-08-20T04:05:35.131842Z"
    }
   },
   "source": [
    "sf.set_random_seed(0)\n",
    "model = sm.Steamboat(adata.var_names.tolist(), n_heads=50, n_scales=3)\n",
    "model = model.to(device)\n",
    "# model.load_state_dict(torch.load('saved_models/mmbrain_new.pth', weights_only=True))\n"
   ],
   "outputs": [],
   "execution_count": 13
  },
  {
   "cell_type": "code",
   "execution_count": null,
   "id": "24",
   "metadata": {
    "id": "533597d80c4c8259"
   },
   "outputs": [],
   "source": [
    "model.fit(dataset, entry_masking_rate=0.1, feature_masking_rate=0.1,\n",
    "          max_epoch=10000,\n",
    "          loss_fun=torch.nn.MSELoss(reduction='sum'),\n",
    "          opt=torch.optim.Adam, opt_args=dict(lr=0.1), stop_eps=1e-3, report_per=200, stop_tol=200, device=device)"
   ]
  },
  {
   "cell_type": "code",
   "id": "25",
   "metadata": {
    "colab": {
     "base_uri": "https://localhost:8080/"
    },
    "id": "776efe8fe38973bf",
    "outputId": "fd2828f7-3b52-4fdf-ff4f-d90168811121",
    "ExecuteTime": {
     "end_time": "2025-08-20T04:05:39.160259Z",
     "start_time": "2025-08-20T04:05:39.150121Z"
    }
   },
   "source": [
    "\"\"\"\n",
    "Input and Output of the model:\n",
    "\n",
    "Input:\n",
    "\n",
    "Graph structure (adj_list, regional_adj_lists)\n",
    "\n",
    "Cell features (x, masked_x)\n",
    "\n",
    "Regional features (regional_xs)\n",
    "\n",
    "Output:\n",
    "\n",
    "Reconstructed cell features ([n_cells, n_genes])\n",
    "\n",
    "attention weights + embeddings (dict)\n",
    "\n",
    "\"\"\"\n",
    "\n",
    "model"
   ],
   "outputs": [
    {
     "data": {
      "text/plain": [
       "Steamboat(\n",
       "  (spatial_gather): BilinearAttention(\n",
       "    (bias): NonNegBias(\n",
       "      (elu): ELU(alpha=1.0)\n",
       "    )\n",
       "    (q): NonNegLinear(\n",
       "      (elu): ELU(alpha=1.0)\n",
       "    )\n",
       "    (k_local): NonNegLinear(\n",
       "      (elu): ELU(alpha=1.0)\n",
       "    )\n",
       "    (k_regionals): ModuleList(\n",
       "      (0): NonNegLinear(\n",
       "        (elu): ELU(alpha=1.0)\n",
       "      )\n",
       "    )\n",
       "    (w_ego): NonNegScale(\n",
       "      (elu): ELU(alpha=1.0)\n",
       "    )\n",
       "    (w_local): NonNegScale3(\n",
       "      (elu): ELU(alpha=1.0)\n",
       "    )\n",
       "    (w_global): NonNegScale3(\n",
       "      (elu): ELU(alpha=1.0)\n",
       "    )\n",
       "    (tanh): Tanh()\n",
       "    (v): NonNegLinear(\n",
       "      (elu): ELU(alpha=1.0)\n",
       "    )\n",
       "    (cosine_similarity): CosineSimilarity()\n",
       "  )\n",
       ")"
      ]
     },
     "execution_count": 14,
     "metadata": {},
     "output_type": "execute_result"
    }
   ],
   "execution_count": 14
  },
  {
   "cell_type": "code",
   "execution_count": null,
   "id": "26",
   "metadata": {
    "id": "6b464f55-99b0-486f-a026-a5cca20df976"
   },
   "outputs": [],
   "source": [
    "##working with google colab\n",
    "if False:\n",
    "    torch.save(model.state_dict(), '/content/Steamboat/examples/saved_models/mmbrain_new.pth')\n",
    "else:\n",
    "    model.load_state_dict(torch.load('/content/Steamboat/examples/saved_models/mmbrain.pth',weights_only=True))"
   ]
  },
  {
   "cell_type": "code",
   "id": "27",
   "metadata": {
    "id": "CxjyC5FVANJC",
    "ExecuteTime": {
     "end_time": "2025-08-20T04:05:44.356918Z",
     "start_time": "2025-08-20T04:05:44.311506Z"
    }
   },
   "source": [
    "##working with laptop\n",
    "if False:\n",
    "    torch.save(model.state_dict(), 'saved_models/mmbrain_new.pth')\n",
    "else:\n",
    "    model.load_state_dict(torch.load('saved_models/mmbrain.pth', map_location=torch.device('cpu'),weights_only=True))"
   ],
   "outputs": [],
   "execution_count": 15
  },
  {
   "cell_type": "code",
   "id": "28",
   "metadata": {
    "id": "4abd7cc9-8de0-4479-8b5c-de04be84fbc5",
    "ExecuteTime": {
     "end_time": "2025-08-20T04:05:49.260652Z",
     "start_time": "2025-08-20T04:05:49.238299Z"
    }
   },
   "source": [
    "# Ego, local, or global?\n",
    "\n",
    "def annotate_adatas(adatas: list[sc.AnnData], dataset, model,\n",
    "                    device=device, get_recon=False):\n",
    "    \"\"\"_summary_\n",
    "\n",
    "    :param adatas: _description_\n",
    "    :param dataset: _description_\n",
    "    :param model: _description_\n",
    "    :param device: _description_, defaults to 'cuda'\n",
    "    \"\"\"\n",
    "    # Safeguards\n",
    "    assert len(adatas) == len(dataset), \"mismatch in lenghths of adatas and dataset\"\n",
    "    for adata, data in zip(adatas, dataset):\n",
    "        assert adata.shape[0] == data[0].shape[0], f\"adata[{i}] has {adata.shape[0]} cells but dataset[{i}] has {data[0].shape[0]}.\"\n",
    "\n",
    "    for i, (x, adj_list, regional_xs, regional_adj_lists) in tqdm(enumerate(dataset), total=len(dataset)):\n",
    "        adj_list = adj_list.squeeze(0).to(device)\n",
    "        x = x.squeeze(0).to(device)\n",
    "        regional_adj_lists = [regional_adj_list.to(device) for regional_adj_list in regional_adj_lists]\n",
    "        regional_xs = [regional_x.to(device) for regional_x in regional_xs]\n",
    "\n",
    "        with torch.no_grad():\n",
    "            res, details = model(adj_list, x, x, regional_adj_lists, regional_xs, get_details=True)\n",
    "\n",
    "            if get_recon:\n",
    "                adatas[i].obsm['X_recon'] = res.cpu().numpy()\n",
    "\n",
    "            adatas[i].obsm['q_score'] = details['embq'].cpu().numpy()\n",
    "\n",
    "            adatas[i].obsm['k_score'] = details['embk'][0].cpu().numpy()\n",
    "            adatas[i].obsm['k_score_global'] = model.spatial_gather.k_regionals[0](x).cpu().numpy()\n",
    "            for j, emb in enumerate(details['embk'][1]):\n",
    "                adatas[i].uns[f'embk_{j}'] = emb.cpu().numpy()\n",
    "            adatas[i].obsm['attn'] = details['attn'].cpu().numpy()\n",
    "            adatas[i].obsm['ego_attn'] = details['attnm'][0].cpu().numpy()\n",
    "            adatas[i].obsm['local_attn'] = details['attnm'][1].cpu().numpy()\n",
    "            for j, matrix in enumerate(details['attnm'][2]):\n",
    "                adatas[i].obsm[f'regional_attn_{j}'] = matrix.cpu().numpy()\n",
    "\n",
    "            # local attention (as graph)\n",
    "            for j in range(model.spatial_gather.n_heads):\n",
    "                w = details['attnp'][1].cpu().numpy()[:, j, :].flatten()\n",
    "                # print(details['attnp'][1].cpu().shape)\n",
    "                # print(len(w))\n",
    "                uv = adj_list.cpu().numpy()\n",
    "                u = uv[0]\n",
    "                v = uv[1]\n",
    "                # print(len(u))\n",
    "                # print(len(v))\n",
    "                if uv.shape[0] == 3: # masked for unequal neighbors\n",
    "                    m = (uv[2] > 0)\n",
    "                    w, u, v = w[m], u[m], v[m]\n",
    "                adatas[i].obsp[f'local_attn_{j}'] = sp.sparse.csr_matrix((w, (u, v)),\n",
    "                                                                            shape=(adatas[i].shape[0],\n",
    "                                                                                adatas[i].shape[0]))"
   ],
   "outputs": [],
   "execution_count": 16
  },
  {
   "cell_type": "code",
   "id": "29",
   "metadata": {
    "colab": {
     "base_uri": "https://localhost:8080/",
     "height": 49,
     "referenced_widgets": [
      "61a3518269a14575852a49283162d224",
      "ce52158c1cf84aa7bd02dd730b6bd11a",
      "f753f0af992842f9ab87b02cbce64755",
      "ecdb0595f73a4d6a835e735f34f995c4",
      "d01358da034649a78e2e7b486714f7d1",
      "fd5bf853f8e347df9a4f7146dd89894d",
      "817f656c5c4e438e9cac4689fb850944",
      "b4bd70714fa9466fbc3cd3235fb33ce8",
      "1b4fd8e6164b4b2ab5517ed27b9e3cf3",
      "43196399859b4b9cb89c448732e217d2",
      "cdd44522688041cbb6336f623d831163"
     ]
    },
    "id": "6ed4fdd36447201d",
    "outputId": "fc33c9e8-dc19-4c29-f15d-e161ea897230",
    "ExecuteTime": {
     "end_time": "2025-08-20T04:05:56.801024Z",
     "start_time": "2025-08-20T04:05:53.708186Z"
    }
   },
   "source": [
    "annotate_adatas(adatas, dataset, model, get_recon=True)"
   ],
   "outputs": [
    {
     "data": {
      "text/plain": [
       "  0%|          | 0/4 [00:00<?, ?it/s]"
      ],
      "application/vnd.jupyter.widget-view+json": {
       "version_major": 2,
       "version_minor": 0,
       "model_id": "c0b09eb582f645468e807f17ebd881eb"
      }
     },
     "metadata": {},
     "output_type": "display_data"
    }
   ],
   "execution_count": 17
  },
  {
   "cell_type": "code",
   "id": "30",
   "metadata": {
    "id": "e39a1e19-6ae0-42e3-97e5-220d324d761f",
    "ExecuteTime": {
     "end_time": "2025-08-20T04:06:02.192889Z",
     "start_time": "2025-08-20T04:06:02.175865Z"
    }
   },
   "source": [
    "v_weights = model.spatial_gather.v.weight.detach().cpu().numpy().sum(axis=0)\n",
    "adata.uns['steamboat_v_weights'] = v_weights"
   ],
   "outputs": [],
   "execution_count": 18
  },
  {
   "cell_type": "code",
   "id": "31",
   "metadata": {
    "id": "8a201243-bcca-4cde-9b2e-22ccf90d5560",
    "ExecuteTime": {
     "end_time": "2025-08-20T04:06:07.944564Z",
     "start_time": "2025-08-20T04:06:07.651498Z"
    }
   },
   "source": [
    "## For all samples:\n",
    "def gather_obs(adata, adatas):\n",
    "    all_embq = []\n",
    "    all_embk = []\n",
    "    all_embk_glb = []\n",
    "    all_ego_attn = []\n",
    "    all_local_attn = []\n",
    "    all_global_attn = []\n",
    "    all_attn = []\n",
    "    all_recon = []\n",
    "    for i in range(len(adatas)):\n",
    "        all_embq.append(adatas[i].obsm['q_score'])\n",
    "        all_embk.append(adatas[i].obsm['k_score'])\n",
    "        all_ego_attn.append(adatas[i].obsm['ego_attn'])\n",
    "        all_local_attn.append(adatas[i].obsm['local_attn'])\n",
    "        all_global_attn.append(adatas[i].obsm['regional_attn_0'])\n",
    "        all_recon.append(adatas[i].obsm['X_recon'])\n",
    "        all_attn.append(adatas[i].obsm['attn'])\n",
    "        all_embk_glb.append(adatas[i].obsm['k_score_global'])\n",
    "    adata.obsm['q_score'] = np.vstack(all_embq)\n",
    "    adata.obsm['k_score'] = np.vstack(all_embk)\n",
    "    adata.obsm['ego_attn'] = np.vstack(all_ego_attn)\n",
    "    adata.obsm['local_attn'] = np.vstack(all_local_attn)\n",
    "    adata.obsm['global_attn'] = np.vstack(all_global_attn)\n",
    "    adata.obsm['X_recon'] = np.vstack(all_recon)\n",
    "    adata.obsm['attn'] = np.vstack(all_attn)\n",
    "    adata.obsm['k_score_global'] = np.vstack(all_embk_glb)\n",
    "gather_obs(adata, adatas)"
   ],
   "outputs": [],
   "execution_count": 19
  },
  {
   "cell_type": "code",
   "id": "32",
   "metadata": {
    "id": "bc2364f1-bad5-4ba8-bc1c-8ce87b460650",
    "ExecuteTime": {
     "end_time": "2025-08-20T04:07:06.243585Z",
     "start_time": "2025-08-20T04:07:04.416143Z"
    }
   },
   "source": [
    "adata.write_h5ad(\"saved_h5ad/mmbrain.h5ad\")"
   ],
   "outputs": [],
   "execution_count": 21
  },
  {
   "cell_type": "code",
   "id": "33",
   "metadata": {
    "colab": {
     "referenced_widgets": [
      "ac03c39d52f34dbe88c07a4874d7d08e"
     ]
    },
    "id": "5fa04e78-bd41-415d-ab68-0749c2eda6a9",
    "outputId": "6cfaaaf9-a6b0-43b1-862c-9cc4c030d476",
    "ExecuteTime": {
     "end_time": "2025-08-20T04:07:19.795733Z",
     "start_time": "2025-08-20T04:07:16.196123Z"
    }
   },
   "source": [
    "for i, adata in enumerate(tqdm(adatas)):\n",
    "    adata.write_h5ad(f\"saved_h5ad/mmbrain_{i}.h5ad\")"
   ],
   "outputs": [
    {
     "data": {
      "text/plain": [
       "  0%|          | 0/4 [00:00<?, ?it/s]"
      ],
      "application/vnd.jupyter.widget-view+json": {
       "version_major": 2,
       "version_minor": 0,
       "model_id": "7a2b44f02bdd47df80b905cd7ae74e98"
      }
     },
     "metadata": {},
     "output_type": "display_data"
    }
   ],
   "execution_count": 22
  },
  {
   "cell_type": "code",
   "execution_count": null,
   "id": "34",
   "metadata": {
    "id": "a1gRyRG3l9xT"
   },
   "outputs": [],
   "source": []
  }
 ],
 "metadata": {
  "accelerator": "GPU",
  "colab": {
   "gpuType": "T4",
   "machine_shape": "hm",
   "provenance": []
  },
  "kernelspec": {
   "display_name": "Python 3 (ipykernel)",
   "name": "python3",
   "language": "python"
  },
  "language_info": {
   "codemirror_mode": {
    "name": "ipython",
    "version": 3
   },
   "file_extension": ".py",
   "mimetype": "text/x-python",
   "name": "python",
   "nbconvert_exporter": "python",
   "pygments_lexer": "ipython3",
   "version": "3.11.5"
  }
 },
 "nbformat": 4,
 "nbformat_minor": 5
}
