{
 "cells": [
  {
   "cell_type": "markdown",
   "id": "34225de3-1b63-4b1e-9f3b-661bc57bb979",
   "metadata": {},
   "source": [
    "# Train on mouse brain data\n",
    "\n",
    "This could take several hours. The trained model is provided, which can be used to try the interpretation part without training again."
   ]
  },
  {
   "metadata": {
    "ExecuteTime": {
     "end_time": "2025-08-19T16:56:42.128778Z",
     "start_time": "2025-08-19T16:56:34.821784Z"
    }
   },
   "cell_type": "code",
   "source": [
    "import torch\n",
    "\n",
    "# Check if CUDA is available\n",
    "print(\"CUDA Available:\", torch.cuda.is_available())"
   ],
   "id": "cae23757d9945871",
   "outputs": [
    {
     "name": "stdout",
     "output_type": "stream",
     "text": [
      "CUDA Available: False\n"
     ]
    }
   ],
   "execution_count": 1
  },
  {
   "cell_type": "code",
   "id": "b2d584e4-d3db-4c08-8bf5-76ab340c225a",
   "metadata": {
    "ExecuteTime": {
     "end_time": "2025-08-19T16:56:54.094543Z",
     "start_time": "2025-08-19T16:56:54.082619Z"
    }
   },
   "source": [
    "import os\n",
    "import sys\n",
    "sys.path.append(\"../\")\n",
    "if torch.cuda.is_available():\n",
    "    device = \"cuda\"\n",
    "else:\n",
    "    device = \"cpu\"\n",
    "print(device)\n",
    "import importlib\n"
   ],
   "outputs": [
    {
     "name": "stdout",
     "output_type": "stream",
     "text": [
      "cpu\n"
     ]
    }
   ],
   "execution_count": 2
  },
  {
   "cell_type": "code",
   "id": "fa4a4014-6a35-415d-baa9-738cc509d53f",
   "metadata": {
    "ExecuteTime": {
     "end_time": "2025-08-19T16:57:40.835013Z",
     "start_time": "2025-08-19T16:56:57.425947Z"
    }
   },
   "source": [
    "import scanpy as sc\n",
    "import squidpy as sq\n",
    "import pandas as pd\n",
    "from tqdm.notebook import tqdm\n",
    "import scipy as sp\n",
    "import numpy as np\n",
    "import multiprocessing\n",
    "import pickle as pkl\n",
    "import torch\n",
    "import gc\n",
    "import sklearn.metrics\n",
    "\n",
    "import matplotlib.pyplot as plt\n",
    "import seaborn as sns\n",
    "import matplotlib\n",
    "\n",
    "plt.rcParams['pdf.fonttype'] = 42\n",
    "plt.rcParams['mathtext.fontset'] = 'dejavuserif'\n",
    "plt.rcParams['font.family'] = 'arial'\n",
    "\n",
    "pltkw = dict(bbox_inches='tight', transparent=True)"
   ],
   "outputs": [
    {
     "name": "stderr",
     "output_type": "stream",
     "text": [
      "C:\\Users\\User\\anaconda3\\Lib\\site-packages\\dask\\dataframe\\__init__.py:31: FutureWarning: The legacy Dask DataFrame implementation is deprecated and will be removed in a future version. Set the configuration option `dataframe.query-planning` to `True` or None to enable the new Dask Dataframe implementation and silence this warning.\n",
      "  warnings.warn(\n",
      "C:\\Users\\User\\anaconda3\\Lib\\site-packages\\spatialdata\\_core\\query\\relational_query.py:532: FutureWarning: functools.partial will be a method descriptor in future Python versions; wrap it in enum.member() if you want to preserve the old behavior\n",
      "  left = partial(_left_join_spatialelement_table)\n",
      "C:\\Users\\User\\anaconda3\\Lib\\site-packages\\spatialdata\\_core\\query\\relational_query.py:533: FutureWarning: functools.partial will be a method descriptor in future Python versions; wrap it in enum.member() if you want to preserve the old behavior\n",
      "  left_exclusive = partial(_left_exclusive_join_spatialelement_table)\n",
      "C:\\Users\\User\\anaconda3\\Lib\\site-packages\\spatialdata\\_core\\query\\relational_query.py:534: FutureWarning: functools.partial will be a method descriptor in future Python versions; wrap it in enum.member() if you want to preserve the old behavior\n",
      "  inner = partial(_inner_join_spatialelement_table)\n",
      "C:\\Users\\User\\anaconda3\\Lib\\site-packages\\spatialdata\\_core\\query\\relational_query.py:535: FutureWarning: functools.partial will be a method descriptor in future Python versions; wrap it in enum.member() if you want to preserve the old behavior\n",
      "  right = partial(_right_join_spatialelement_table)\n",
      "C:\\Users\\User\\anaconda3\\Lib\\site-packages\\spatialdata\\_core\\query\\relational_query.py:536: FutureWarning: functools.partial will be a method descriptor in future Python versions; wrap it in enum.member() if you want to preserve the old behavior\n",
      "  right_exclusive = partial(_right_exclusive_join_spatialelement_table)\n",
      "C:\\Users\\User\\anaconda3\\Lib\\site-packages\\anndata\\__init__.py:44: FutureWarning: Importing read_text from `anndata` is deprecated. Import anndata.io.read_text instead.\n",
      "  return module_get_attr_redirect(attr_name, deprecated_mapping=_DEPRECATED)\n"
     ]
    }
   ],
   "execution_count": 3
  },
  {
   "cell_type": "code",
   "id": "d606b6a9-01be-44c4-b25a-6d001831dfb3",
   "metadata": {
    "ExecuteTime": {
     "end_time": "2025-08-19T16:57:40.891894Z",
     "start_time": "2025-08-19T16:57:40.860884Z"
    }
   },
   "source": [
    "import steamboat as sf\n",
    "import steamboat.model as sm\n",
    "#importlib.reload(sm)\n",
    "#import steamboat.integrated_model\n",
    "# importlib.reload(spaceformer.benchmarks)"
   ],
   "outputs": [
    {
     "data": {
      "text/plain": [
       "<module 'steamboat.model' from 'C:\\\\Users\\\\User\\\\PycharmProjects\\\\Steamboat\\\\steamboat\\\\model.py'>"
      ]
     },
     "execution_count": 4,
     "metadata": {},
     "output_type": "execute_result"
    }
   ],
   "execution_count": 4
  },
  {
   "metadata": {
    "ExecuteTime": {
     "end_time": "2025-08-19T16:57:43.241704Z",
     "start_time": "2025-08-19T16:57:43.231644Z"
    }
   },
   "cell_type": "code",
   "source": [
    "import importlib\n",
    "import steamboat.tools\n",
    "#importlib.reload(steamboat.tools)"
   ],
   "id": "9df680581574cfd6",
   "outputs": [],
   "execution_count": 5
  },
  {
   "metadata": {
    "ExecuteTime": {
     "end_time": "2025-08-19T16:57:46.852015Z",
     "start_time": "2025-08-19T16:57:46.610883Z"
    }
   },
   "cell_type": "code",
   "source": "gc.collect()",
   "id": "3446e53fe9cc2c80",
   "outputs": [
    {
     "data": {
      "text/plain": [
       "28141"
      ]
     },
     "execution_count": 6,
     "metadata": {},
     "output_type": "execute_result"
    }
   ],
   "execution_count": 6
  },
  {
   "cell_type": "code",
   "id": "f139c7d7-44cc-4f39-8567-e602e857041a",
   "metadata": {
    "ExecuteTime": {
     "end_time": "2025-08-19T16:58:31.556510Z",
     "start_time": "2025-08-19T16:58:00.791094Z"
    }
   },
   "source": [
    "if False:\n",
    "    adata = sc.read_h5ad(\"C:\\\\Users\\\\User\\Desktop\\Thesis\\Data\\Steamboat_Data\\Ex2_mouse_brain\\Zhuang-ABCA-1-raw.h5ad\")\n",
    "    obs = pd.read_csv(\"C:\\\\Users\\\\User\\Desktop\\Thesis\\Data\\Steamboat_Data\\Ex2_mouse_brain\\label\\label.csv\", index_col=0)\n",
    "    \n",
    "    # obs = obs[obs['brain_section_label'].isin(obs['brain_section_label'].value_counts()[:10].index.tolist())]\n",
    "    # adata = adata[obs.index, :]\n",
    "    # adata.obs = obs\n",
    "    # gc.collect()\n",
    "    \n",
    "    adata = adata[obs.index, :]\n",
    "    gc.collect()\n",
    "    adata.obs = obs\n",
    "    gc.collect()\n",
    "    \n",
    "    adata.obsm['spatial'] = adata.obs[['x', 'y']].to_numpy()\n",
    "    \n",
    "    adata.write_h5ad(\"C:\\\\Users\\\\User\\Desktop\\Thesis\\Data\\Steamboat_Data\\Ex2_mouse_brain\\Zhuang-ABCA-1-labeled.h5ad\")\n",
    "\n",
    "else:\n",
    "    adata = sc.read_h5ad(\"C:\\\\Users\\\\User\\Desktop\\Thesis\\Data\\Steamboat_Data\\Ex2_mouse_brain\\Zhuang-ABCA-1-labeled.h5ad\")\n"
   ],
   "outputs": [],
   "execution_count": 7
  },
  {
   "metadata": {
    "ExecuteTime": {
     "end_time": "2025-08-19T16:59:23.650310Z",
     "start_time": "2025-08-19T16:59:23.620884Z"
    }
   },
   "cell_type": "code",
   "source": "adata",
   "id": "56b62ca6bedc21e9",
   "outputs": [
    {
     "data": {
      "text/plain": [
       "AnnData object with n_obs × n_vars = 2616328 × 1122\n",
       "    obs: 'brain_section_label', 'feature_matrix_label', 'donor_label', 'donor_genotype', 'donor_sex', 'cluster_alias', 'x', 'y', 'z', 'subclass_confidence_score', 'cluster_confidence_score', 'high_quality_transfer', 'neurotransmitter', 'class', 'subclass', 'supertype', 'cluster', 'neurotransmitter_color', 'class_color', 'subclass_color', 'supertype_color', 'cluster_color', 'x_ccf', 'y_ccf', 'z_ccf', 'parcellation_index', 'parcellation_organ', 'parcellation_category', 'parcellation_division', 'parcellation_structure', 'parcellation_substructure', 'parcellation_organ_color', 'parcellation_category_color', 'parcellation_division_color', 'parcellation_structure_color', 'parcellation_substructure_color'\n",
       "    var: 'gene_symbol'\n",
       "    obsm: 'spatial'"
      ]
     },
     "execution_count": 8,
     "metadata": {},
     "output_type": "execute_result"
    }
   ],
   "execution_count": 8
  },
  {
   "metadata": {
    "ExecuteTime": {
     "end_time": "2025-08-19T11:11:59.861054Z",
     "start_time": "2025-08-19T11:11:59.581926Z"
    }
   },
   "cell_type": "code",
   "source": [
    "####SINA\n",
    "# to see what's inside:\n",
    "\n",
    "adata.obs.head()\n",
    "#adata.obs.columns\n",
    "#adata.var[\"gene_symbol\"].unique().shape\n",
    "#adata.var[\"gene_symbol\"].to_list()[:20]"
   ],
   "id": "3c4574c395567498",
   "outputs": [
    {
     "data": {
      "text/plain": [
       "                                        brain_section_label  \\\n",
       "cell_label                                                    \n",
       "182941331246012878296807398333956011710   Zhuang-ABCA-1.089   \n",
       "221260934538535633595532020856387724686   Zhuang-ABCA-1.089   \n",
       "22228792606814781533240955623030943708    Zhuang-ABCA-1.089   \n",
       "272043042552227961220474294517855477150   Zhuang-ABCA-1.089   \n",
       "110116287883089187971185374239350249328   Zhuang-ABCA-1.089   \n",
       "\n",
       "                                        feature_matrix_label    donor_label  \\\n",
       "cell_label                                                                    \n",
       "182941331246012878296807398333956011710        Zhuang-ABCA-1  Zhuang-ABCA-1   \n",
       "221260934538535633595532020856387724686        Zhuang-ABCA-1  Zhuang-ABCA-1   \n",
       "22228792606814781533240955623030943708         Zhuang-ABCA-1  Zhuang-ABCA-1   \n",
       "272043042552227961220474294517855477150        Zhuang-ABCA-1  Zhuang-ABCA-1   \n",
       "110116287883089187971185374239350249328        Zhuang-ABCA-1  Zhuang-ABCA-1   \n",
       "\n",
       "                                        donor_genotype donor_sex  \\\n",
       "cell_label                                                         \n",
       "182941331246012878296807398333956011710          wt/wt         F   \n",
       "221260934538535633595532020856387724686          wt/wt         F   \n",
       "22228792606814781533240955623030943708           wt/wt         F   \n",
       "272043042552227961220474294517855477150          wt/wt         F   \n",
       "110116287883089187971185374239350249328          wt/wt         F   \n",
       "\n",
       "                                         cluster_alias         x         y  \\\n",
       "cell_label                                                                   \n",
       "182941331246012878296807398333956011710            704  0.682522  3.366483   \n",
       "221260934538535633595532020856387724686           5243  0.667690  3.442241   \n",
       "22228792606814781533240955623030943708           14939  0.638731  3.474328   \n",
       "272043042552227961220474294517855477150          14939  0.653425  3.433218   \n",
       "110116287883089187971185374239350249328           5254  0.623896  3.513574   \n",
       "\n",
       "                                               z  subclass_confidence_score  \\\n",
       "cell_label                                                                    \n",
       "182941331246012878296807398333956011710  7.82953                   0.969933   \n",
       "221260934538535633595532020856387724686  7.82953                   0.850554   \n",
       "22228792606814781533240955623030943708   7.82953                   0.888285   \n",
       "272043042552227961220474294517855477150  7.82953                   0.900000   \n",
       "110116287883089187971185374239350249328  7.82953                   0.999978   \n",
       "\n",
       "                                         ...  parcellation_organ  \\\n",
       "cell_label                               ...                       \n",
       "182941331246012878296807398333956011710  ...          unassigned   \n",
       "221260934538535633595532020856387724686  ...          unassigned   \n",
       "22228792606814781533240955623030943708   ...          unassigned   \n",
       "272043042552227961220474294517855477150  ...          unassigned   \n",
       "110116287883089187971185374239350249328  ...          unassigned   \n",
       "\n",
       "                                         parcellation_category  \\\n",
       "cell_label                                                       \n",
       "182941331246012878296807398333956011710             unassigned   \n",
       "221260934538535633595532020856387724686             unassigned   \n",
       "22228792606814781533240955623030943708              unassigned   \n",
       "272043042552227961220474294517855477150             unassigned   \n",
       "110116287883089187971185374239350249328             unassigned   \n",
       "\n",
       "                                        parcellation_division  \\\n",
       "cell_label                                                      \n",
       "182941331246012878296807398333956011710            unassigned   \n",
       "221260934538535633595532020856387724686            unassigned   \n",
       "22228792606814781533240955623030943708             unassigned   \n",
       "272043042552227961220474294517855477150            unassigned   \n",
       "110116287883089187971185374239350249328            unassigned   \n",
       "\n",
       "                                        parcellation_structure  \\\n",
       "cell_label                                                       \n",
       "182941331246012878296807398333956011710             unassigned   \n",
       "221260934538535633595532020856387724686             unassigned   \n",
       "22228792606814781533240955623030943708              unassigned   \n",
       "272043042552227961220474294517855477150             unassigned   \n",
       "110116287883089187971185374239350249328             unassigned   \n",
       "\n",
       "                                        parcellation_substructure  \\\n",
       "cell_label                                                          \n",
       "182941331246012878296807398333956011710                unassigned   \n",
       "221260934538535633595532020856387724686                unassigned   \n",
       "22228792606814781533240955623030943708                 unassigned   \n",
       "272043042552227961220474294517855477150                unassigned   \n",
       "110116287883089187971185374239350249328                unassigned   \n",
       "\n",
       "                                        parcellation_organ_color  \\\n",
       "cell_label                                                         \n",
       "182941331246012878296807398333956011710                  #000000   \n",
       "221260934538535633595532020856387724686                  #000000   \n",
       "22228792606814781533240955623030943708                   #000000   \n",
       "272043042552227961220474294517855477150                  #000000   \n",
       "110116287883089187971185374239350249328                  #000000   \n",
       "\n",
       "                                        parcellation_category_color  \\\n",
       "cell_label                                                            \n",
       "182941331246012878296807398333956011710                     #000000   \n",
       "221260934538535633595532020856387724686                     #000000   \n",
       "22228792606814781533240955623030943708                      #000000   \n",
       "272043042552227961220474294517855477150                     #000000   \n",
       "110116287883089187971185374239350249328                     #000000   \n",
       "\n",
       "                                        parcellation_division_color  \\\n",
       "cell_label                                                            \n",
       "182941331246012878296807398333956011710                     #000000   \n",
       "221260934538535633595532020856387724686                     #000000   \n",
       "22228792606814781533240955623030943708                      #000000   \n",
       "272043042552227961220474294517855477150                     #000000   \n",
       "110116287883089187971185374239350249328                     #000000   \n",
       "\n",
       "                                        parcellation_structure_color  \\\n",
       "cell_label                                                             \n",
       "182941331246012878296807398333956011710                      #000000   \n",
       "221260934538535633595532020856387724686                      #000000   \n",
       "22228792606814781533240955623030943708                       #000000   \n",
       "272043042552227961220474294517855477150                      #000000   \n",
       "110116287883089187971185374239350249328                      #000000   \n",
       "\n",
       "                                        parcellation_substructure_color  \n",
       "cell_label                                                               \n",
       "182941331246012878296807398333956011710                         #000000  \n",
       "221260934538535633595532020856387724686                         #000000  \n",
       "22228792606814781533240955623030943708                          #000000  \n",
       "272043042552227961220474294517855477150                         #000000  \n",
       "110116287883089187971185374239350249328                         #000000  \n",
       "\n",
       "[5 rows x 36 columns]"
      ],
      "text/html": [
       "<div>\n",
       "<style scoped>\n",
       "    .dataframe tbody tr th:only-of-type {\n",
       "        vertical-align: middle;\n",
       "    }\n",
       "\n",
       "    .dataframe tbody tr th {\n",
       "        vertical-align: top;\n",
       "    }\n",
       "\n",
       "    .dataframe thead th {\n",
       "        text-align: right;\n",
       "    }\n",
       "</style>\n",
       "<table border=\"1\" class=\"dataframe\">\n",
       "  <thead>\n",
       "    <tr style=\"text-align: right;\">\n",
       "      <th></th>\n",
       "      <th>brain_section_label</th>\n",
       "      <th>feature_matrix_label</th>\n",
       "      <th>donor_label</th>\n",
       "      <th>donor_genotype</th>\n",
       "      <th>donor_sex</th>\n",
       "      <th>cluster_alias</th>\n",
       "      <th>x</th>\n",
       "      <th>y</th>\n",
       "      <th>z</th>\n",
       "      <th>subclass_confidence_score</th>\n",
       "      <th>...</th>\n",
       "      <th>parcellation_organ</th>\n",
       "      <th>parcellation_category</th>\n",
       "      <th>parcellation_division</th>\n",
       "      <th>parcellation_structure</th>\n",
       "      <th>parcellation_substructure</th>\n",
       "      <th>parcellation_organ_color</th>\n",
       "      <th>parcellation_category_color</th>\n",
       "      <th>parcellation_division_color</th>\n",
       "      <th>parcellation_structure_color</th>\n",
       "      <th>parcellation_substructure_color</th>\n",
       "    </tr>\n",
       "    <tr>\n",
       "      <th>cell_label</th>\n",
       "      <th></th>\n",
       "      <th></th>\n",
       "      <th></th>\n",
       "      <th></th>\n",
       "      <th></th>\n",
       "      <th></th>\n",
       "      <th></th>\n",
       "      <th></th>\n",
       "      <th></th>\n",
       "      <th></th>\n",
       "      <th></th>\n",
       "      <th></th>\n",
       "      <th></th>\n",
       "      <th></th>\n",
       "      <th></th>\n",
       "      <th></th>\n",
       "      <th></th>\n",
       "      <th></th>\n",
       "      <th></th>\n",
       "      <th></th>\n",
       "      <th></th>\n",
       "    </tr>\n",
       "  </thead>\n",
       "  <tbody>\n",
       "    <tr>\n",
       "      <th>182941331246012878296807398333956011710</th>\n",
       "      <td>Zhuang-ABCA-1.089</td>\n",
       "      <td>Zhuang-ABCA-1</td>\n",
       "      <td>Zhuang-ABCA-1</td>\n",
       "      <td>wt/wt</td>\n",
       "      <td>F</td>\n",
       "      <td>704</td>\n",
       "      <td>0.682522</td>\n",
       "      <td>3.366483</td>\n",
       "      <td>7.82953</td>\n",
       "      <td>0.969933</td>\n",
       "      <td>...</td>\n",
       "      <td>unassigned</td>\n",
       "      <td>unassigned</td>\n",
       "      <td>unassigned</td>\n",
       "      <td>unassigned</td>\n",
       "      <td>unassigned</td>\n",
       "      <td>#000000</td>\n",
       "      <td>#000000</td>\n",
       "      <td>#000000</td>\n",
       "      <td>#000000</td>\n",
       "      <td>#000000</td>\n",
       "    </tr>\n",
       "    <tr>\n",
       "      <th>221260934538535633595532020856387724686</th>\n",
       "      <td>Zhuang-ABCA-1.089</td>\n",
       "      <td>Zhuang-ABCA-1</td>\n",
       "      <td>Zhuang-ABCA-1</td>\n",
       "      <td>wt/wt</td>\n",
       "      <td>F</td>\n",
       "      <td>5243</td>\n",
       "      <td>0.667690</td>\n",
       "      <td>3.442241</td>\n",
       "      <td>7.82953</td>\n",
       "      <td>0.850554</td>\n",
       "      <td>...</td>\n",
       "      <td>unassigned</td>\n",
       "      <td>unassigned</td>\n",
       "      <td>unassigned</td>\n",
       "      <td>unassigned</td>\n",
       "      <td>unassigned</td>\n",
       "      <td>#000000</td>\n",
       "      <td>#000000</td>\n",
       "      <td>#000000</td>\n",
       "      <td>#000000</td>\n",
       "      <td>#000000</td>\n",
       "    </tr>\n",
       "    <tr>\n",
       "      <th>22228792606814781533240955623030943708</th>\n",
       "      <td>Zhuang-ABCA-1.089</td>\n",
       "      <td>Zhuang-ABCA-1</td>\n",
       "      <td>Zhuang-ABCA-1</td>\n",
       "      <td>wt/wt</td>\n",
       "      <td>F</td>\n",
       "      <td>14939</td>\n",
       "      <td>0.638731</td>\n",
       "      <td>3.474328</td>\n",
       "      <td>7.82953</td>\n",
       "      <td>0.888285</td>\n",
       "      <td>...</td>\n",
       "      <td>unassigned</td>\n",
       "      <td>unassigned</td>\n",
       "      <td>unassigned</td>\n",
       "      <td>unassigned</td>\n",
       "      <td>unassigned</td>\n",
       "      <td>#000000</td>\n",
       "      <td>#000000</td>\n",
       "      <td>#000000</td>\n",
       "      <td>#000000</td>\n",
       "      <td>#000000</td>\n",
       "    </tr>\n",
       "    <tr>\n",
       "      <th>272043042552227961220474294517855477150</th>\n",
       "      <td>Zhuang-ABCA-1.089</td>\n",
       "      <td>Zhuang-ABCA-1</td>\n",
       "      <td>Zhuang-ABCA-1</td>\n",
       "      <td>wt/wt</td>\n",
       "      <td>F</td>\n",
       "      <td>14939</td>\n",
       "      <td>0.653425</td>\n",
       "      <td>3.433218</td>\n",
       "      <td>7.82953</td>\n",
       "      <td>0.900000</td>\n",
       "      <td>...</td>\n",
       "      <td>unassigned</td>\n",
       "      <td>unassigned</td>\n",
       "      <td>unassigned</td>\n",
       "      <td>unassigned</td>\n",
       "      <td>unassigned</td>\n",
       "      <td>#000000</td>\n",
       "      <td>#000000</td>\n",
       "      <td>#000000</td>\n",
       "      <td>#000000</td>\n",
       "      <td>#000000</td>\n",
       "    </tr>\n",
       "    <tr>\n",
       "      <th>110116287883089187971185374239350249328</th>\n",
       "      <td>Zhuang-ABCA-1.089</td>\n",
       "      <td>Zhuang-ABCA-1</td>\n",
       "      <td>Zhuang-ABCA-1</td>\n",
       "      <td>wt/wt</td>\n",
       "      <td>F</td>\n",
       "      <td>5254</td>\n",
       "      <td>0.623896</td>\n",
       "      <td>3.513574</td>\n",
       "      <td>7.82953</td>\n",
       "      <td>0.999978</td>\n",
       "      <td>...</td>\n",
       "      <td>unassigned</td>\n",
       "      <td>unassigned</td>\n",
       "      <td>unassigned</td>\n",
       "      <td>unassigned</td>\n",
       "      <td>unassigned</td>\n",
       "      <td>#000000</td>\n",
       "      <td>#000000</td>\n",
       "      <td>#000000</td>\n",
       "      <td>#000000</td>\n",
       "      <td>#000000</td>\n",
       "    </tr>\n",
       "  </tbody>\n",
       "</table>\n",
       "<p>5 rows × 36 columns</p>\n",
       "</div>"
      ]
     },
     "execution_count": 8,
     "metadata": {},
     "output_type": "execute_result"
    }
   ],
   "execution_count": 8
  },
  {
   "metadata": {
    "ExecuteTime": {
     "end_time": "2025-08-19T11:12:22.236630Z",
     "start_time": "2025-08-19T11:12:22.224282Z"
    }
   },
   "cell_type": "code",
   "source": [
    "####SINA\n",
    "adata.var_names.to_list()[-5:]"
   ],
   "id": "a1bf3e49d83209d1",
   "outputs": [
    {
     "data": {
      "text/plain": [
       "['ENSMUSG00000015619',\n",
       " 'ENSMUSG00000070047',\n",
       " 'ENSMUSG00000002266',\n",
       " 'ENSMUSG00000036111',\n",
       " 'ENSMUSG00000033063']"
      ]
     },
     "execution_count": 9,
     "metadata": {},
     "output_type": "execute_result"
    }
   ],
   "execution_count": 9
  },
  {
   "metadata": {
    "ExecuteTime": {
     "end_time": "2025-08-19T11:12:27.295444Z",
     "start_time": "2025-08-19T11:12:27.275684Z"
    }
   },
   "cell_type": "code",
   "source": [
    "####SINA\n",
    "\n",
    "adata.X[20:30, -5:]"
   ],
   "id": "f2d53db196a10729",
   "outputs": [
    {
     "data": {
      "text/plain": [
       "array([[0., 0., 0., 0., 0.],\n",
       "       [0., 0., 0., 0., 0.],\n",
       "       [0., 1., 0., 0., 0.],\n",
       "       [0., 0., 0., 0., 0.],\n",
       "       [0., 0., 0., 0., 0.],\n",
       "       [0., 0., 0., 0., 0.],\n",
       "       [0., 0., 0., 0., 1.],\n",
       "       [0., 0., 0., 0., 0.],\n",
       "       [0., 0., 0., 0., 0.],\n",
       "       [0., 0., 0., 0., 0.]], dtype=float32)"
      ]
     },
     "execution_count": 10,
     "metadata": {},
     "output_type": "execute_result"
    }
   ],
   "execution_count": 10
  },
  {
   "metadata": {
    "ExecuteTime": {
     "end_time": "2025-08-19T11:12:32.707631Z",
     "start_time": "2025-08-19T11:12:32.699051Z"
    }
   },
   "cell_type": "code",
   "source": [
    "####SINA\n",
    "\n",
    "adata.shape      # (cells, genes)\n",
    "#adata.n_vars"
   ],
   "id": "bcb442cd9b46eb36",
   "outputs": [
    {
     "data": {
      "text/plain": [
       "(2616328, 1122)"
      ]
     },
     "execution_count": 11,
     "metadata": {},
     "output_type": "execute_result"
    }
   ],
   "execution_count": 11
  },
  {
   "metadata": {
    "ExecuteTime": {
     "end_time": "2025-08-19T11:12:54.111967Z",
     "start_time": "2025-08-19T11:12:54.106341Z"
    }
   },
   "cell_type": "code",
   "source": [
    "####SINA\n",
    "\n",
    "adata.obsm.keys()"
   ],
   "id": "85a5fb92b42fecff",
   "outputs": [
    {
     "data": {
      "text/plain": [
       "KeysView(AxisArrays with keys: spatial)"
      ]
     },
     "execution_count": 13,
     "metadata": {},
     "output_type": "execute_result"
    }
   ],
   "execution_count": 13
  },
  {
   "metadata": {
    "ExecuteTime": {
     "end_time": "2025-08-18T22:37:00.848454Z",
     "start_time": "2025-08-18T22:37:00.688630Z"
    }
   },
   "cell_type": "code",
   "source": [
    "####SINA\n",
    "\n",
    "adata.obs['brain_section_label'].unique()"
   ],
   "id": "f7096a319af0faa0",
   "outputs": [
    {
     "data": {
      "text/plain": [
       "['Zhuang-ABCA-1.079', 'Zhuang-ABCA-1.089', 'Zhuang-ABCA-1.085', 'Zhuang-ABCA-1.077', 'Zhuang-ABCA-1.087', ..., 'Zhuang-ABCA-1.128', 'Zhuang-ABCA-1.120', 'Zhuang-ABCA-1.118', 'Zhuang-ABCA-1.126', 'Zhuang-ABCA-1.134']\n",
       "Length: 129\n",
       "Categories (129, object): ['Zhuang-ABCA-1.010', 'Zhuang-ABCA-1.011', 'Zhuang-ABCA-1.012', 'Zhuang-ABCA-1.013', ..., 'Zhuang-ABCA-1.138', 'Zhuang-ABCA-1.139', 'Zhuang-ABCA-1.140', 'Zhuang-ABCA-1.141']"
      ]
     },
     "execution_count": 15,
     "metadata": {},
     "output_type": "execute_result"
    }
   ],
   "execution_count": 15
  },
  {
   "cell_type": "code",
   "id": "cefa36b9-eae5-4f0f-8d17-b05cc49380cc",
   "metadata": {
    "ExecuteTime": {
     "end_time": "2025-08-19T17:01:34.662714Z",
     "start_time": "2025-08-19T16:59:36.277231Z"
    }
   },
   "source": [
    "if False:\n",
    "    n_genes = 100\n",
    "    np.random.seed(0)\n",
    "    chosen_gene_mask = np.zeros(adata.shape[1])\n",
    "    chosen_gene_mask[:n_genes] = 1.\n",
    "    np.random.shuffle(chosen_gene_mask)\n",
    "    chosen_gene_mask = chosen_gene_mask > 0.\n",
    "    adata = adata[:, chosen_gene_mask]\n",
    "gc.collect()\n",
    "\n",
    "# Normalizing to median total counts\n",
    "sc.pp.normalize_total(adata)\n",
    "# Logarithmize the data\n",
    "sc.pp.log1p(adata)"
   ],
   "outputs": [],
   "execution_count": 9
  },
  {
   "cell_type": "code",
   "id": "b7d2abae-2ea1-47cd-bebc-b8cd8e60be5f",
   "metadata": {
    "ExecuteTime": {
     "end_time": "2025-08-19T17:03:54.778301Z",
     "start_time": "2025-08-19T17:02:03.176688Z"
    }
   },
   "source": [
    "adatas = []\n",
    "for i in adata.obs['brain_section_label'].unique():\n",
    "    adatas.append(adata[adata.obs['brain_section_label'] == i])\n",
    "    adatas[-1].obs['global'] = 0"
   ],
   "outputs": [
    {
     "name": "stderr",
     "output_type": "stream",
     "text": [
      "C:\\Users\\User\\AppData\\Local\\Temp\\ipykernel_6668\\3630113596.py:4: ImplicitModificationWarning: Trying to modify attribute `.obs` of view, initializing view as actual.\n",
      "  adatas[-1].obs['global'] = 0\n",
      "C:\\Users\\User\\AppData\\Local\\Temp\\ipykernel_6668\\3630113596.py:4: ImplicitModificationWarning: Trying to modify attribute `.obs` of view, initializing view as actual.\n",
      "  adatas[-1].obs['global'] = 0\n",
      "C:\\Users\\User\\AppData\\Local\\Temp\\ipykernel_6668\\3630113596.py:4: ImplicitModificationWarning: Trying to modify attribute `.obs` of view, initializing view as actual.\n",
      "  adatas[-1].obs['global'] = 0\n",
      "C:\\Users\\User\\AppData\\Local\\Temp\\ipykernel_6668\\3630113596.py:4: ImplicitModificationWarning: Trying to modify attribute `.obs` of view, initializing view as actual.\n",
      "  adatas[-1].obs['global'] = 0\n",
      "C:\\Users\\User\\AppData\\Local\\Temp\\ipykernel_6668\\3630113596.py:4: ImplicitModificationWarning: Trying to modify attribute `.obs` of view, initializing view as actual.\n",
      "  adatas[-1].obs['global'] = 0\n",
      "C:\\Users\\User\\AppData\\Local\\Temp\\ipykernel_6668\\3630113596.py:4: ImplicitModificationWarning: Trying to modify attribute `.obs` of view, initializing view as actual.\n",
      "  adatas[-1].obs['global'] = 0\n",
      "C:\\Users\\User\\AppData\\Local\\Temp\\ipykernel_6668\\3630113596.py:4: ImplicitModificationWarning: Trying to modify attribute `.obs` of view, initializing view as actual.\n",
      "  adatas[-1].obs['global'] = 0\n",
      "C:\\Users\\User\\AppData\\Local\\Temp\\ipykernel_6668\\3630113596.py:4: ImplicitModificationWarning: Trying to modify attribute `.obs` of view, initializing view as actual.\n",
      "  adatas[-1].obs['global'] = 0\n",
      "C:\\Users\\User\\AppData\\Local\\Temp\\ipykernel_6668\\3630113596.py:4: ImplicitModificationWarning: Trying to modify attribute `.obs` of view, initializing view as actual.\n",
      "  adatas[-1].obs['global'] = 0\n",
      "C:\\Users\\User\\AppData\\Local\\Temp\\ipykernel_6668\\3630113596.py:4: ImplicitModificationWarning: Trying to modify attribute `.obs` of view, initializing view as actual.\n",
      "  adatas[-1].obs['global'] = 0\n",
      "C:\\Users\\User\\AppData\\Local\\Temp\\ipykernel_6668\\3630113596.py:4: ImplicitModificationWarning: Trying to modify attribute `.obs` of view, initializing view as actual.\n",
      "  adatas[-1].obs['global'] = 0\n",
      "C:\\Users\\User\\AppData\\Local\\Temp\\ipykernel_6668\\3630113596.py:4: ImplicitModificationWarning: Trying to modify attribute `.obs` of view, initializing view as actual.\n",
      "  adatas[-1].obs['global'] = 0\n",
      "C:\\Users\\User\\AppData\\Local\\Temp\\ipykernel_6668\\3630113596.py:4: ImplicitModificationWarning: Trying to modify attribute `.obs` of view, initializing view as actual.\n",
      "  adatas[-1].obs['global'] = 0\n",
      "C:\\Users\\User\\AppData\\Local\\Temp\\ipykernel_6668\\3630113596.py:4: ImplicitModificationWarning: Trying to modify attribute `.obs` of view, initializing view as actual.\n",
      "  adatas[-1].obs['global'] = 0\n",
      "C:\\Users\\User\\AppData\\Local\\Temp\\ipykernel_6668\\3630113596.py:4: ImplicitModificationWarning: Trying to modify attribute `.obs` of view, initializing view as actual.\n",
      "  adatas[-1].obs['global'] = 0\n",
      "C:\\Users\\User\\AppData\\Local\\Temp\\ipykernel_6668\\3630113596.py:4: ImplicitModificationWarning: Trying to modify attribute `.obs` of view, initializing view as actual.\n",
      "  adatas[-1].obs['global'] = 0\n",
      "C:\\Users\\User\\AppData\\Local\\Temp\\ipykernel_6668\\3630113596.py:4: ImplicitModificationWarning: Trying to modify attribute `.obs` of view, initializing view as actual.\n",
      "  adatas[-1].obs['global'] = 0\n",
      "C:\\Users\\User\\AppData\\Local\\Temp\\ipykernel_6668\\3630113596.py:4: ImplicitModificationWarning: Trying to modify attribute `.obs` of view, initializing view as actual.\n",
      "  adatas[-1].obs['global'] = 0\n",
      "C:\\Users\\User\\AppData\\Local\\Temp\\ipykernel_6668\\3630113596.py:4: ImplicitModificationWarning: Trying to modify attribute `.obs` of view, initializing view as actual.\n",
      "  adatas[-1].obs['global'] = 0\n",
      "C:\\Users\\User\\AppData\\Local\\Temp\\ipykernel_6668\\3630113596.py:4: ImplicitModificationWarning: Trying to modify attribute `.obs` of view, initializing view as actual.\n",
      "  adatas[-1].obs['global'] = 0\n",
      "C:\\Users\\User\\AppData\\Local\\Temp\\ipykernel_6668\\3630113596.py:4: ImplicitModificationWarning: Trying to modify attribute `.obs` of view, initializing view as actual.\n",
      "  adatas[-1].obs['global'] = 0\n",
      "C:\\Users\\User\\AppData\\Local\\Temp\\ipykernel_6668\\3630113596.py:4: ImplicitModificationWarning: Trying to modify attribute `.obs` of view, initializing view as actual.\n",
      "  adatas[-1].obs['global'] = 0\n",
      "C:\\Users\\User\\AppData\\Local\\Temp\\ipykernel_6668\\3630113596.py:4: ImplicitModificationWarning: Trying to modify attribute `.obs` of view, initializing view as actual.\n",
      "  adatas[-1].obs['global'] = 0\n",
      "C:\\Users\\User\\AppData\\Local\\Temp\\ipykernel_6668\\3630113596.py:4: ImplicitModificationWarning: Trying to modify attribute `.obs` of view, initializing view as actual.\n",
      "  adatas[-1].obs['global'] = 0\n",
      "C:\\Users\\User\\AppData\\Local\\Temp\\ipykernel_6668\\3630113596.py:4: ImplicitModificationWarning: Trying to modify attribute `.obs` of view, initializing view as actual.\n",
      "  adatas[-1].obs['global'] = 0\n",
      "C:\\Users\\User\\AppData\\Local\\Temp\\ipykernel_6668\\3630113596.py:4: ImplicitModificationWarning: Trying to modify attribute `.obs` of view, initializing view as actual.\n",
      "  adatas[-1].obs['global'] = 0\n",
      "C:\\Users\\User\\AppData\\Local\\Temp\\ipykernel_6668\\3630113596.py:4: ImplicitModificationWarning: Trying to modify attribute `.obs` of view, initializing view as actual.\n",
      "  adatas[-1].obs['global'] = 0\n",
      "C:\\Users\\User\\AppData\\Local\\Temp\\ipykernel_6668\\3630113596.py:4: ImplicitModificationWarning: Trying to modify attribute `.obs` of view, initializing view as actual.\n",
      "  adatas[-1].obs['global'] = 0\n",
      "C:\\Users\\User\\AppData\\Local\\Temp\\ipykernel_6668\\3630113596.py:4: ImplicitModificationWarning: Trying to modify attribute `.obs` of view, initializing view as actual.\n",
      "  adatas[-1].obs['global'] = 0\n",
      "C:\\Users\\User\\AppData\\Local\\Temp\\ipykernel_6668\\3630113596.py:4: ImplicitModificationWarning: Trying to modify attribute `.obs` of view, initializing view as actual.\n",
      "  adatas[-1].obs['global'] = 0\n",
      "C:\\Users\\User\\AppData\\Local\\Temp\\ipykernel_6668\\3630113596.py:4: ImplicitModificationWarning: Trying to modify attribute `.obs` of view, initializing view as actual.\n",
      "  adatas[-1].obs['global'] = 0\n",
      "C:\\Users\\User\\AppData\\Local\\Temp\\ipykernel_6668\\3630113596.py:4: ImplicitModificationWarning: Trying to modify attribute `.obs` of view, initializing view as actual.\n",
      "  adatas[-1].obs['global'] = 0\n",
      "C:\\Users\\User\\AppData\\Local\\Temp\\ipykernel_6668\\3630113596.py:4: ImplicitModificationWarning: Trying to modify attribute `.obs` of view, initializing view as actual.\n",
      "  adatas[-1].obs['global'] = 0\n",
      "C:\\Users\\User\\AppData\\Local\\Temp\\ipykernel_6668\\3630113596.py:4: ImplicitModificationWarning: Trying to modify attribute `.obs` of view, initializing view as actual.\n",
      "  adatas[-1].obs['global'] = 0\n",
      "C:\\Users\\User\\AppData\\Local\\Temp\\ipykernel_6668\\3630113596.py:4: ImplicitModificationWarning: Trying to modify attribute `.obs` of view, initializing view as actual.\n",
      "  adatas[-1].obs['global'] = 0\n",
      "C:\\Users\\User\\AppData\\Local\\Temp\\ipykernel_6668\\3630113596.py:4: ImplicitModificationWarning: Trying to modify attribute `.obs` of view, initializing view as actual.\n",
      "  adatas[-1].obs['global'] = 0\n",
      "C:\\Users\\User\\AppData\\Local\\Temp\\ipykernel_6668\\3630113596.py:4: ImplicitModificationWarning: Trying to modify attribute `.obs` of view, initializing view as actual.\n",
      "  adatas[-1].obs['global'] = 0\n",
      "C:\\Users\\User\\AppData\\Local\\Temp\\ipykernel_6668\\3630113596.py:4: ImplicitModificationWarning: Trying to modify attribute `.obs` of view, initializing view as actual.\n",
      "  adatas[-1].obs['global'] = 0\n",
      "C:\\Users\\User\\AppData\\Local\\Temp\\ipykernel_6668\\3630113596.py:4: ImplicitModificationWarning: Trying to modify attribute `.obs` of view, initializing view as actual.\n",
      "  adatas[-1].obs['global'] = 0\n",
      "C:\\Users\\User\\AppData\\Local\\Temp\\ipykernel_6668\\3630113596.py:4: ImplicitModificationWarning: Trying to modify attribute `.obs` of view, initializing view as actual.\n",
      "  adatas[-1].obs['global'] = 0\n",
      "C:\\Users\\User\\AppData\\Local\\Temp\\ipykernel_6668\\3630113596.py:4: ImplicitModificationWarning: Trying to modify attribute `.obs` of view, initializing view as actual.\n",
      "  adatas[-1].obs['global'] = 0\n",
      "C:\\Users\\User\\AppData\\Local\\Temp\\ipykernel_6668\\3630113596.py:4: ImplicitModificationWarning: Trying to modify attribute `.obs` of view, initializing view as actual.\n",
      "  adatas[-1].obs['global'] = 0\n",
      "C:\\Users\\User\\AppData\\Local\\Temp\\ipykernel_6668\\3630113596.py:4: ImplicitModificationWarning: Trying to modify attribute `.obs` of view, initializing view as actual.\n",
      "  adatas[-1].obs['global'] = 0\n",
      "C:\\Users\\User\\AppData\\Local\\Temp\\ipykernel_6668\\3630113596.py:4: ImplicitModificationWarning: Trying to modify attribute `.obs` of view, initializing view as actual.\n",
      "  adatas[-1].obs['global'] = 0\n",
      "C:\\Users\\User\\AppData\\Local\\Temp\\ipykernel_6668\\3630113596.py:4: ImplicitModificationWarning: Trying to modify attribute `.obs` of view, initializing view as actual.\n",
      "  adatas[-1].obs['global'] = 0\n",
      "C:\\Users\\User\\AppData\\Local\\Temp\\ipykernel_6668\\3630113596.py:4: ImplicitModificationWarning: Trying to modify attribute `.obs` of view, initializing view as actual.\n",
      "  adatas[-1].obs['global'] = 0\n",
      "C:\\Users\\User\\AppData\\Local\\Temp\\ipykernel_6668\\3630113596.py:4: ImplicitModificationWarning: Trying to modify attribute `.obs` of view, initializing view as actual.\n",
      "  adatas[-1].obs['global'] = 0\n",
      "C:\\Users\\User\\AppData\\Local\\Temp\\ipykernel_6668\\3630113596.py:4: ImplicitModificationWarning: Trying to modify attribute `.obs` of view, initializing view as actual.\n",
      "  adatas[-1].obs['global'] = 0\n",
      "C:\\Users\\User\\AppData\\Local\\Temp\\ipykernel_6668\\3630113596.py:4: ImplicitModificationWarning: Trying to modify attribute `.obs` of view, initializing view as actual.\n",
      "  adatas[-1].obs['global'] = 0\n",
      "C:\\Users\\User\\AppData\\Local\\Temp\\ipykernel_6668\\3630113596.py:4: ImplicitModificationWarning: Trying to modify attribute `.obs` of view, initializing view as actual.\n",
      "  adatas[-1].obs['global'] = 0\n",
      "C:\\Users\\User\\AppData\\Local\\Temp\\ipykernel_6668\\3630113596.py:4: ImplicitModificationWarning: Trying to modify attribute `.obs` of view, initializing view as actual.\n",
      "  adatas[-1].obs['global'] = 0\n",
      "C:\\Users\\User\\AppData\\Local\\Temp\\ipykernel_6668\\3630113596.py:4: ImplicitModificationWarning: Trying to modify attribute `.obs` of view, initializing view as actual.\n",
      "  adatas[-1].obs['global'] = 0\n",
      "C:\\Users\\User\\AppData\\Local\\Temp\\ipykernel_6668\\3630113596.py:4: ImplicitModificationWarning: Trying to modify attribute `.obs` of view, initializing view as actual.\n",
      "  adatas[-1].obs['global'] = 0\n",
      "C:\\Users\\User\\AppData\\Local\\Temp\\ipykernel_6668\\3630113596.py:4: ImplicitModificationWarning: Trying to modify attribute `.obs` of view, initializing view as actual.\n",
      "  adatas[-1].obs['global'] = 0\n",
      "C:\\Users\\User\\AppData\\Local\\Temp\\ipykernel_6668\\3630113596.py:4: ImplicitModificationWarning: Trying to modify attribute `.obs` of view, initializing view as actual.\n",
      "  adatas[-1].obs['global'] = 0\n",
      "C:\\Users\\User\\AppData\\Local\\Temp\\ipykernel_6668\\3630113596.py:4: ImplicitModificationWarning: Trying to modify attribute `.obs` of view, initializing view as actual.\n",
      "  adatas[-1].obs['global'] = 0\n",
      "C:\\Users\\User\\AppData\\Local\\Temp\\ipykernel_6668\\3630113596.py:4: ImplicitModificationWarning: Trying to modify attribute `.obs` of view, initializing view as actual.\n",
      "  adatas[-1].obs['global'] = 0\n",
      "C:\\Users\\User\\AppData\\Local\\Temp\\ipykernel_6668\\3630113596.py:4: ImplicitModificationWarning: Trying to modify attribute `.obs` of view, initializing view as actual.\n",
      "  adatas[-1].obs['global'] = 0\n",
      "C:\\Users\\User\\AppData\\Local\\Temp\\ipykernel_6668\\3630113596.py:4: ImplicitModificationWarning: Trying to modify attribute `.obs` of view, initializing view as actual.\n",
      "  adatas[-1].obs['global'] = 0\n",
      "C:\\Users\\User\\AppData\\Local\\Temp\\ipykernel_6668\\3630113596.py:4: ImplicitModificationWarning: Trying to modify attribute `.obs` of view, initializing view as actual.\n",
      "  adatas[-1].obs['global'] = 0\n",
      "C:\\Users\\User\\AppData\\Local\\Temp\\ipykernel_6668\\3630113596.py:4: ImplicitModificationWarning: Trying to modify attribute `.obs` of view, initializing view as actual.\n",
      "  adatas[-1].obs['global'] = 0\n",
      "C:\\Users\\User\\AppData\\Local\\Temp\\ipykernel_6668\\3630113596.py:4: ImplicitModificationWarning: Trying to modify attribute `.obs` of view, initializing view as actual.\n",
      "  adatas[-1].obs['global'] = 0\n",
      "C:\\Users\\User\\AppData\\Local\\Temp\\ipykernel_6668\\3630113596.py:4: ImplicitModificationWarning: Trying to modify attribute `.obs` of view, initializing view as actual.\n",
      "  adatas[-1].obs['global'] = 0\n",
      "C:\\Users\\User\\AppData\\Local\\Temp\\ipykernel_6668\\3630113596.py:4: ImplicitModificationWarning: Trying to modify attribute `.obs` of view, initializing view as actual.\n",
      "  adatas[-1].obs['global'] = 0\n",
      "C:\\Users\\User\\AppData\\Local\\Temp\\ipykernel_6668\\3630113596.py:4: ImplicitModificationWarning: Trying to modify attribute `.obs` of view, initializing view as actual.\n",
      "  adatas[-1].obs['global'] = 0\n",
      "C:\\Users\\User\\AppData\\Local\\Temp\\ipykernel_6668\\3630113596.py:4: ImplicitModificationWarning: Trying to modify attribute `.obs` of view, initializing view as actual.\n",
      "  adatas[-1].obs['global'] = 0\n",
      "C:\\Users\\User\\AppData\\Local\\Temp\\ipykernel_6668\\3630113596.py:4: ImplicitModificationWarning: Trying to modify attribute `.obs` of view, initializing view as actual.\n",
      "  adatas[-1].obs['global'] = 0\n",
      "C:\\Users\\User\\AppData\\Local\\Temp\\ipykernel_6668\\3630113596.py:4: ImplicitModificationWarning: Trying to modify attribute `.obs` of view, initializing view as actual.\n",
      "  adatas[-1].obs['global'] = 0\n",
      "C:\\Users\\User\\AppData\\Local\\Temp\\ipykernel_6668\\3630113596.py:4: ImplicitModificationWarning: Trying to modify attribute `.obs` of view, initializing view as actual.\n",
      "  adatas[-1].obs['global'] = 0\n",
      "C:\\Users\\User\\AppData\\Local\\Temp\\ipykernel_6668\\3630113596.py:4: ImplicitModificationWarning: Trying to modify attribute `.obs` of view, initializing view as actual.\n",
      "  adatas[-1].obs['global'] = 0\n",
      "C:\\Users\\User\\AppData\\Local\\Temp\\ipykernel_6668\\3630113596.py:4: ImplicitModificationWarning: Trying to modify attribute `.obs` of view, initializing view as actual.\n",
      "  adatas[-1].obs['global'] = 0\n",
      "C:\\Users\\User\\AppData\\Local\\Temp\\ipykernel_6668\\3630113596.py:4: ImplicitModificationWarning: Trying to modify attribute `.obs` of view, initializing view as actual.\n",
      "  adatas[-1].obs['global'] = 0\n",
      "C:\\Users\\User\\AppData\\Local\\Temp\\ipykernel_6668\\3630113596.py:4: ImplicitModificationWarning: Trying to modify attribute `.obs` of view, initializing view as actual.\n",
      "  adatas[-1].obs['global'] = 0\n",
      "C:\\Users\\User\\AppData\\Local\\Temp\\ipykernel_6668\\3630113596.py:4: ImplicitModificationWarning: Trying to modify attribute `.obs` of view, initializing view as actual.\n",
      "  adatas[-1].obs['global'] = 0\n",
      "C:\\Users\\User\\AppData\\Local\\Temp\\ipykernel_6668\\3630113596.py:4: ImplicitModificationWarning: Trying to modify attribute `.obs` of view, initializing view as actual.\n",
      "  adatas[-1].obs['global'] = 0\n",
      "C:\\Users\\User\\AppData\\Local\\Temp\\ipykernel_6668\\3630113596.py:4: ImplicitModificationWarning: Trying to modify attribute `.obs` of view, initializing view as actual.\n",
      "  adatas[-1].obs['global'] = 0\n",
      "C:\\Users\\User\\AppData\\Local\\Temp\\ipykernel_6668\\3630113596.py:4: ImplicitModificationWarning: Trying to modify attribute `.obs` of view, initializing view as actual.\n",
      "  adatas[-1].obs['global'] = 0\n",
      "C:\\Users\\User\\AppData\\Local\\Temp\\ipykernel_6668\\3630113596.py:4: ImplicitModificationWarning: Trying to modify attribute `.obs` of view, initializing view as actual.\n",
      "  adatas[-1].obs['global'] = 0\n",
      "C:\\Users\\User\\AppData\\Local\\Temp\\ipykernel_6668\\3630113596.py:4: ImplicitModificationWarning: Trying to modify attribute `.obs` of view, initializing view as actual.\n",
      "  adatas[-1].obs['global'] = 0\n",
      "C:\\Users\\User\\AppData\\Local\\Temp\\ipykernel_6668\\3630113596.py:4: ImplicitModificationWarning: Trying to modify attribute `.obs` of view, initializing view as actual.\n",
      "  adatas[-1].obs['global'] = 0\n",
      "C:\\Users\\User\\AppData\\Local\\Temp\\ipykernel_6668\\3630113596.py:4: ImplicitModificationWarning: Trying to modify attribute `.obs` of view, initializing view as actual.\n",
      "  adatas[-1].obs['global'] = 0\n",
      "C:\\Users\\User\\AppData\\Local\\Temp\\ipykernel_6668\\3630113596.py:4: ImplicitModificationWarning: Trying to modify attribute `.obs` of view, initializing view as actual.\n",
      "  adatas[-1].obs['global'] = 0\n",
      "C:\\Users\\User\\AppData\\Local\\Temp\\ipykernel_6668\\3630113596.py:4: ImplicitModificationWarning: Trying to modify attribute `.obs` of view, initializing view as actual.\n",
      "  adatas[-1].obs['global'] = 0\n",
      "C:\\Users\\User\\AppData\\Local\\Temp\\ipykernel_6668\\3630113596.py:4: ImplicitModificationWarning: Trying to modify attribute `.obs` of view, initializing view as actual.\n",
      "  adatas[-1].obs['global'] = 0\n",
      "C:\\Users\\User\\AppData\\Local\\Temp\\ipykernel_6668\\3630113596.py:4: ImplicitModificationWarning: Trying to modify attribute `.obs` of view, initializing view as actual.\n",
      "  adatas[-1].obs['global'] = 0\n",
      "C:\\Users\\User\\AppData\\Local\\Temp\\ipykernel_6668\\3630113596.py:4: ImplicitModificationWarning: Trying to modify attribute `.obs` of view, initializing view as actual.\n",
      "  adatas[-1].obs['global'] = 0\n",
      "C:\\Users\\User\\AppData\\Local\\Temp\\ipykernel_6668\\3630113596.py:4: ImplicitModificationWarning: Trying to modify attribute `.obs` of view, initializing view as actual.\n",
      "  adatas[-1].obs['global'] = 0\n",
      "C:\\Users\\User\\AppData\\Local\\Temp\\ipykernel_6668\\3630113596.py:4: ImplicitModificationWarning: Trying to modify attribute `.obs` of view, initializing view as actual.\n",
      "  adatas[-1].obs['global'] = 0\n",
      "C:\\Users\\User\\AppData\\Local\\Temp\\ipykernel_6668\\3630113596.py:4: ImplicitModificationWarning: Trying to modify attribute `.obs` of view, initializing view as actual.\n",
      "  adatas[-1].obs['global'] = 0\n",
      "C:\\Users\\User\\AppData\\Local\\Temp\\ipykernel_6668\\3630113596.py:4: ImplicitModificationWarning: Trying to modify attribute `.obs` of view, initializing view as actual.\n",
      "  adatas[-1].obs['global'] = 0\n",
      "C:\\Users\\User\\AppData\\Local\\Temp\\ipykernel_6668\\3630113596.py:4: ImplicitModificationWarning: Trying to modify attribute `.obs` of view, initializing view as actual.\n",
      "  adatas[-1].obs['global'] = 0\n",
      "C:\\Users\\User\\AppData\\Local\\Temp\\ipykernel_6668\\3630113596.py:4: ImplicitModificationWarning: Trying to modify attribute `.obs` of view, initializing view as actual.\n",
      "  adatas[-1].obs['global'] = 0\n",
      "C:\\Users\\User\\AppData\\Local\\Temp\\ipykernel_6668\\3630113596.py:4: ImplicitModificationWarning: Trying to modify attribute `.obs` of view, initializing view as actual.\n",
      "  adatas[-1].obs['global'] = 0\n",
      "C:\\Users\\User\\AppData\\Local\\Temp\\ipykernel_6668\\3630113596.py:4: ImplicitModificationWarning: Trying to modify attribute `.obs` of view, initializing view as actual.\n",
      "  adatas[-1].obs['global'] = 0\n",
      "C:\\Users\\User\\AppData\\Local\\Temp\\ipykernel_6668\\3630113596.py:4: ImplicitModificationWarning: Trying to modify attribute `.obs` of view, initializing view as actual.\n",
      "  adatas[-1].obs['global'] = 0\n",
      "C:\\Users\\User\\AppData\\Local\\Temp\\ipykernel_6668\\3630113596.py:4: ImplicitModificationWarning: Trying to modify attribute `.obs` of view, initializing view as actual.\n",
      "  adatas[-1].obs['global'] = 0\n",
      "C:\\Users\\User\\AppData\\Local\\Temp\\ipykernel_6668\\3630113596.py:4: ImplicitModificationWarning: Trying to modify attribute `.obs` of view, initializing view as actual.\n",
      "  adatas[-1].obs['global'] = 0\n",
      "C:\\Users\\User\\AppData\\Local\\Temp\\ipykernel_6668\\3630113596.py:4: ImplicitModificationWarning: Trying to modify attribute `.obs` of view, initializing view as actual.\n",
      "  adatas[-1].obs['global'] = 0\n",
      "C:\\Users\\User\\AppData\\Local\\Temp\\ipykernel_6668\\3630113596.py:4: ImplicitModificationWarning: Trying to modify attribute `.obs` of view, initializing view as actual.\n",
      "  adatas[-1].obs['global'] = 0\n",
      "C:\\Users\\User\\AppData\\Local\\Temp\\ipykernel_6668\\3630113596.py:4: ImplicitModificationWarning: Trying to modify attribute `.obs` of view, initializing view as actual.\n",
      "  adatas[-1].obs['global'] = 0\n",
      "C:\\Users\\User\\AppData\\Local\\Temp\\ipykernel_6668\\3630113596.py:4: ImplicitModificationWarning: Trying to modify attribute `.obs` of view, initializing view as actual.\n",
      "  adatas[-1].obs['global'] = 0\n",
      "C:\\Users\\User\\AppData\\Local\\Temp\\ipykernel_6668\\3630113596.py:4: ImplicitModificationWarning: Trying to modify attribute `.obs` of view, initializing view as actual.\n",
      "  adatas[-1].obs['global'] = 0\n",
      "C:\\Users\\User\\AppData\\Local\\Temp\\ipykernel_6668\\3630113596.py:4: ImplicitModificationWarning: Trying to modify attribute `.obs` of view, initializing view as actual.\n",
      "  adatas[-1].obs['global'] = 0\n",
      "C:\\Users\\User\\AppData\\Local\\Temp\\ipykernel_6668\\3630113596.py:4: ImplicitModificationWarning: Trying to modify attribute `.obs` of view, initializing view as actual.\n",
      "  adatas[-1].obs['global'] = 0\n",
      "C:\\Users\\User\\AppData\\Local\\Temp\\ipykernel_6668\\3630113596.py:4: ImplicitModificationWarning: Trying to modify attribute `.obs` of view, initializing view as actual.\n",
      "  adatas[-1].obs['global'] = 0\n",
      "C:\\Users\\User\\AppData\\Local\\Temp\\ipykernel_6668\\3630113596.py:4: ImplicitModificationWarning: Trying to modify attribute `.obs` of view, initializing view as actual.\n",
      "  adatas[-1].obs['global'] = 0\n",
      "C:\\Users\\User\\AppData\\Local\\Temp\\ipykernel_6668\\3630113596.py:4: ImplicitModificationWarning: Trying to modify attribute `.obs` of view, initializing view as actual.\n",
      "  adatas[-1].obs['global'] = 0\n",
      "C:\\Users\\User\\AppData\\Local\\Temp\\ipykernel_6668\\3630113596.py:4: ImplicitModificationWarning: Trying to modify attribute `.obs` of view, initializing view as actual.\n",
      "  adatas[-1].obs['global'] = 0\n",
      "C:\\Users\\User\\AppData\\Local\\Temp\\ipykernel_6668\\3630113596.py:4: ImplicitModificationWarning: Trying to modify attribute `.obs` of view, initializing view as actual.\n",
      "  adatas[-1].obs['global'] = 0\n",
      "C:\\Users\\User\\AppData\\Local\\Temp\\ipykernel_6668\\3630113596.py:4: ImplicitModificationWarning: Trying to modify attribute `.obs` of view, initializing view as actual.\n",
      "  adatas[-1].obs['global'] = 0\n",
      "C:\\Users\\User\\AppData\\Local\\Temp\\ipykernel_6668\\3630113596.py:4: ImplicitModificationWarning: Trying to modify attribute `.obs` of view, initializing view as actual.\n",
      "  adatas[-1].obs['global'] = 0\n",
      "C:\\Users\\User\\AppData\\Local\\Temp\\ipykernel_6668\\3630113596.py:4: ImplicitModificationWarning: Trying to modify attribute `.obs` of view, initializing view as actual.\n",
      "  adatas[-1].obs['global'] = 0\n",
      "C:\\Users\\User\\AppData\\Local\\Temp\\ipykernel_6668\\3630113596.py:4: ImplicitModificationWarning: Trying to modify attribute `.obs` of view, initializing view as actual.\n",
      "  adatas[-1].obs['global'] = 0\n",
      "C:\\Users\\User\\AppData\\Local\\Temp\\ipykernel_6668\\3630113596.py:4: ImplicitModificationWarning: Trying to modify attribute `.obs` of view, initializing view as actual.\n",
      "  adatas[-1].obs['global'] = 0\n",
      "C:\\Users\\User\\AppData\\Local\\Temp\\ipykernel_6668\\3630113596.py:4: ImplicitModificationWarning: Trying to modify attribute `.obs` of view, initializing view as actual.\n",
      "  adatas[-1].obs['global'] = 0\n",
      "C:\\Users\\User\\AppData\\Local\\Temp\\ipykernel_6668\\3630113596.py:4: ImplicitModificationWarning: Trying to modify attribute `.obs` of view, initializing view as actual.\n",
      "  adatas[-1].obs['global'] = 0\n",
      "C:\\Users\\User\\AppData\\Local\\Temp\\ipykernel_6668\\3630113596.py:4: ImplicitModificationWarning: Trying to modify attribute `.obs` of view, initializing view as actual.\n",
      "  adatas[-1].obs['global'] = 0\n",
      "C:\\Users\\User\\AppData\\Local\\Temp\\ipykernel_6668\\3630113596.py:4: ImplicitModificationWarning: Trying to modify attribute `.obs` of view, initializing view as actual.\n",
      "  adatas[-1].obs['global'] = 0\n",
      "C:\\Users\\User\\AppData\\Local\\Temp\\ipykernel_6668\\3630113596.py:4: ImplicitModificationWarning: Trying to modify attribute `.obs` of view, initializing view as actual.\n",
      "  adatas[-1].obs['global'] = 0\n",
      "C:\\Users\\User\\AppData\\Local\\Temp\\ipykernel_6668\\3630113596.py:4: ImplicitModificationWarning: Trying to modify attribute `.obs` of view, initializing view as actual.\n",
      "  adatas[-1].obs['global'] = 0\n",
      "C:\\Users\\User\\AppData\\Local\\Temp\\ipykernel_6668\\3630113596.py:4: ImplicitModificationWarning: Trying to modify attribute `.obs` of view, initializing view as actual.\n",
      "  adatas[-1].obs['global'] = 0\n",
      "C:\\Users\\User\\AppData\\Local\\Temp\\ipykernel_6668\\3630113596.py:4: ImplicitModificationWarning: Trying to modify attribute `.obs` of view, initializing view as actual.\n",
      "  adatas[-1].obs['global'] = 0\n",
      "C:\\Users\\User\\AppData\\Local\\Temp\\ipykernel_6668\\3630113596.py:4: ImplicitModificationWarning: Trying to modify attribute `.obs` of view, initializing view as actual.\n",
      "  adatas[-1].obs['global'] = 0\n",
      "C:\\Users\\User\\AppData\\Local\\Temp\\ipykernel_6668\\3630113596.py:4: ImplicitModificationWarning: Trying to modify attribute `.obs` of view, initializing view as actual.\n",
      "  adatas[-1].obs['global'] = 0\n",
      "C:\\Users\\User\\AppData\\Local\\Temp\\ipykernel_6668\\3630113596.py:4: ImplicitModificationWarning: Trying to modify attribute `.obs` of view, initializing view as actual.\n",
      "  adatas[-1].obs['global'] = 0\n",
      "C:\\Users\\User\\AppData\\Local\\Temp\\ipykernel_6668\\3630113596.py:4: ImplicitModificationWarning: Trying to modify attribute `.obs` of view, initializing view as actual.\n",
      "  adatas[-1].obs['global'] = 0\n",
      "C:\\Users\\User\\AppData\\Local\\Temp\\ipykernel_6668\\3630113596.py:4: ImplicitModificationWarning: Trying to modify attribute `.obs` of view, initializing view as actual.\n",
      "  adatas[-1].obs['global'] = 0\n",
      "C:\\Users\\User\\AppData\\Local\\Temp\\ipykernel_6668\\3630113596.py:4: ImplicitModificationWarning: Trying to modify attribute `.obs` of view, initializing view as actual.\n",
      "  adatas[-1].obs['global'] = 0\n",
      "C:\\Users\\User\\AppData\\Local\\Temp\\ipykernel_6668\\3630113596.py:4: ImplicitModificationWarning: Trying to modify attribute `.obs` of view, initializing view as actual.\n",
      "  adatas[-1].obs['global'] = 0\n"
     ]
    }
   ],
   "execution_count": 10
  },
  {
   "metadata": {
    "ExecuteTime": {
     "end_time": "2025-08-19T17:04:14.536099Z",
     "start_time": "2025-08-19T17:03:55.735749Z"
    }
   },
   "cell_type": "code",
   "source": "adatas = sf.prep_adatas(adatas, norm=False, log1p=False)",
   "id": "d9e0acc3223233e",
   "outputs": [
    {
     "data": {
      "text/plain": [
       "  0%|          | 0/129 [00:00<?, ?it/s]"
      ],
      "application/vnd.jupyter.widget-view+json": {
       "version_major": 2,
       "version_minor": 0,
       "model_id": "6da8af1ea5ba4c8b99ce706dad552063"
      }
     },
     "metadata": {},
     "output_type": "display_data"
    }
   ],
   "execution_count": 11
  },
  {
   "metadata": {
    "ExecuteTime": {
     "end_time": "2025-08-19T17:05:59.910609Z",
     "start_time": "2025-08-19T17:04:14.561072Z"
    }
   },
   "cell_type": "code",
   "source": "dataset = sf.make_dataset(adatas, sparse_graph=True, regional_obs=['global'])",
   "id": "87160bdcb6728b7b",
   "outputs": [
    {
     "name": "stdout",
     "output_type": "stream",
     "text": [
      "Using ['global'] as regional annotations.\n"
     ]
    },
    {
     "data": {
      "text/plain": [
       "  0%|          | 0/129 [00:00<?, ?it/s]"
      ],
      "application/vnd.jupyter.widget-view+json": {
       "version_major": 2,
       "version_minor": 0,
       "model_id": "1ce83b3573b64026b1839e747a69b362"
      }
     },
     "metadata": {},
     "output_type": "display_data"
    }
   ],
   "execution_count": 12
  },
  {
   "cell_type": "code",
   "id": "75854034-e22e-478e-b6e0-f182c9707f95",
   "metadata": {
    "ExecuteTime": {
     "end_time": "2025-08-19T17:06:03.046858Z",
     "start_time": "2025-08-19T17:06:01.527276Z"
    }
   },
   "source": [
    "sf.set_random_seed(0)\n",
    "model = sm.Steamboat(adata.var_names.tolist(), n_heads=50, n_scales=3)\n",
    "model = model.to(device)\n",
    "# model.load_state_dict(torch.load('saved_models/mmbrain_new.pth', weights_only=True))\n"
   ],
   "outputs": [],
   "execution_count": 13
  },
  {
   "metadata": {},
   "cell_type": "code",
   "outputs": [],
   "execution_count": null,
   "source": [
    "model.fit(dataset, entry_masking_rate=0.1, feature_masking_rate=0.1,\n",
    "          max_epoch=10000,\n",
    "          loss_fun=torch.nn.MSELoss(reduction='sum'),\n",
    "          opt=torch.optim.Adam, opt_args=dict(lr=0.1), stop_eps=1e-3, report_per=200, stop_tol=200, device=device)"
   ],
   "id": "533597d80c4c8259"
  },
  {
   "metadata": {
    "ExecuteTime": {
     "end_time": "2025-08-19T17:06:03.645937Z",
     "start_time": "2025-08-19T17:06:03.389641Z"
    }
   },
   "cell_type": "code",
   "source": "model",
   "id": "776efe8fe38973bf",
   "outputs": [
    {
     "data": {
      "text/plain": [
       "Steamboat(\n",
       "  (spatial_gather): BilinearAttention(\n",
       "    (bias): NonNegBias(\n",
       "      (elu): ELU(alpha=1.0)\n",
       "    )\n",
       "    (q): NonNegLinear(\n",
       "      (elu): ELU(alpha=1.0)\n",
       "    )\n",
       "    (k_local): NonNegLinear(\n",
       "      (elu): ELU(alpha=1.0)\n",
       "    )\n",
       "    (k_regionals): ModuleList(\n",
       "      (0): NonNegLinear(\n",
       "        (elu): ELU(alpha=1.0)\n",
       "      )\n",
       "    )\n",
       "    (w_ego): NonNegScale(\n",
       "      (elu): ELU(alpha=1.0)\n",
       "    )\n",
       "    (w_local): NonNegScale3(\n",
       "      (elu): ELU(alpha=1.0)\n",
       "    )\n",
       "    (w_global): NonNegScale3(\n",
       "      (elu): ELU(alpha=1.0)\n",
       "    )\n",
       "    (tanh): Tanh()\n",
       "    (v): NonNegLinear(\n",
       "      (elu): ELU(alpha=1.0)\n",
       "    )\n",
       "    (cosine_similarity): CosineSimilarity()\n",
       "  )\n",
       ")"
      ]
     },
     "execution_count": 14,
     "metadata": {},
     "output_type": "execute_result"
    }
   ],
   "execution_count": 14
  },
  {
   "cell_type": "code",
   "id": "6b464f55-99b0-486f-a026-a5cca20df976",
   "metadata": {
    "ExecuteTime": {
     "end_time": "2025-08-19T17:08:59.403273Z",
     "start_time": "2025-08-19T17:08:59.209670Z"
    }
   },
   "source": [
    "if False:\n",
    "    torch.save(model.state_dict(), 'saved_models/mmbrain_new.pth')\n",
    "else:\n",
    "    model.load_state_dict(torch.load('saved_models/mmbrain.pth', map_location=torch.device('cpu'),weights_only=True))"
   ],
   "outputs": [],
   "execution_count": 15
  },
  {
   "cell_type": "code",
   "id": "4abd7cc9-8de0-4479-8b5c-de04be84fbc5",
   "metadata": {
    "ExecuteTime": {
     "end_time": "2025-08-19T17:09:09.729457Z",
     "start_time": "2025-08-19T17:09:09.635149Z"
    }
   },
   "source": [
    "# Ego, local, or global?\n",
    "\n",
    "def annotate_adatas(adatas: list[sc.AnnData], dataset, model,\n",
    "                    device=device, get_recon=False):\n",
    "    \"\"\"_summary_\n",
    "\n",
    "    :param adatas: _description_\n",
    "    :param dataset: _description_\n",
    "    :param model: _description_\n",
    "    :param device: _description_, defaults to 'cuda'\n",
    "    \"\"\"\n",
    "    # Safeguards\n",
    "    assert len(adatas) == len(dataset), \"mismatch in lenghths of adatas and dataset\"\n",
    "    for adata, data in zip(adatas, dataset):\n",
    "        assert adata.shape[0] == data[0].shape[0], f\"adata[{i}] has {adata.shape[0]} cells but dataset[{i}] has {data[0].shape[0]}.\"\n",
    "\n",
    "    for i, (x, adj_list, regional_xs, regional_adj_lists) in tqdm(enumerate(dataset), total=len(dataset)):\n",
    "        adj_list = adj_list.squeeze(0).to(device)\n",
    "        x = x.squeeze(0).to(device)\n",
    "        regional_adj_lists = [regional_adj_list.to(device) for regional_adj_list in regional_adj_lists]\n",
    "        regional_xs = [regional_x.to(device) for regional_x in regional_xs]\n",
    "        \n",
    "        with torch.no_grad():\n",
    "            res, details = model(adj_list, x, x, regional_adj_lists, regional_xs, get_details=True)\n",
    "            \n",
    "            if get_recon:\n",
    "                adatas[i].obsm['X_recon'] = res.cpu().numpy()\n",
    "\n",
    "            adatas[i].obsm['q_score'] = details['embq'].cpu().numpy()\n",
    "            \n",
    "            adatas[i].obsm['k_score'] = details['embk'][0].cpu().numpy()\n",
    "            adatas[i].obsm['k_score_global'] = model.spatial_gather.k_regionals[0](x).cpu().numpy()\n",
    "            for j, emb in enumerate(details['embk'][1]):\n",
    "                adatas[i].uns[f'embk_{j}'] = emb.cpu().numpy()\n",
    "            adatas[i].obsm['attn'] = details['attn'].cpu().numpy()\n",
    "            adatas[i].obsm['ego_attn'] = details['attnm'][0].cpu().numpy()\n",
    "            adatas[i].obsm['local_attn'] = details['attnm'][1].cpu().numpy()\n",
    "            for j, matrix in enumerate(details['attnm'][2]):\n",
    "                adatas[i].obsm[f'regional_attn_{j}'] = matrix.cpu().numpy()\n",
    "\n",
    "            # local attention (as graph)\n",
    "            for j in range(model.spatial_gather.n_heads):\n",
    "                w = details['attnp'][1].cpu().numpy()[:, j, :].flatten()\n",
    "                # print(details['attnp'][1].cpu().shape)\n",
    "                # print(len(w))\n",
    "                uv = adj_list.cpu().numpy()\n",
    "                u = uv[0]\n",
    "                v = uv[1]\n",
    "                # print(len(u))\n",
    "                # print(len(v))\n",
    "                if uv.shape[0] == 3: # masked for unequal neighbors\n",
    "                    m = (uv[2] > 0)\n",
    "                    w, u, v = w[m], u[m], v[m]\n",
    "                adatas[i].obsp[f'local_attn_{j}'] = sp.sparse.csr_matrix((w, (u, v)), \n",
    "                                                                            shape=(adatas[i].shape[0], \n",
    "                                                                                adatas[i].shape[0]))"
   ],
   "outputs": [],
   "execution_count": 16
  },
  {
   "metadata": {
    "jupyter": {
     "is_executing": true
    },
    "ExecuteTime": {
     "start_time": "2025-08-19T17:09:11.958652Z"
    }
   },
   "cell_type": "code",
   "source": "annotate_adatas(adatas, dataset, model, get_recon=True)",
   "id": "6ed4fdd36447201d",
   "outputs": [
    {
     "data": {
      "text/plain": [
       "  0%|          | 0/129 [00:00<?, ?it/s]"
      ],
      "application/vnd.jupyter.widget-view+json": {
       "version_major": 2,
       "version_minor": 0,
       "model_id": "e5426c467e624591a8dcd7fd9c336948"
      }
     },
     "metadata": {},
     "output_type": "display_data"
    }
   ],
   "execution_count": null
  },
  {
   "cell_type": "code",
   "execution_count": 13,
   "id": "e39a1e19-6ae0-42e3-97e5-220d324d761f",
   "metadata": {},
   "outputs": [],
   "source": [
    "v_weights = model.spatial_gather.v.weight.detach().cpu().numpy().sum(axis=0)\n",
    "adata.uns['steamboat_v_weights'] = v_weights"
   ]
  },
  {
   "cell_type": "code",
   "execution_count": 14,
   "id": "8a201243-bcca-4cde-9b2e-22ccf90d5560",
   "metadata": {},
   "outputs": [],
   "source": [
    "## For all samples:\n",
    "def gather_obs(adata, adatas):\n",
    "    all_embq = []\n",
    "    all_embk = []\n",
    "    all_embk_glb = []\n",
    "    all_ego_attn = []\n",
    "    all_local_attn = []\n",
    "    all_global_attn = []\n",
    "    all_attn = []\n",
    "    all_recon = []\n",
    "    for i in range(len(adatas)):\n",
    "        all_embq.append(adatas[i].obsm['q_score'])\n",
    "        all_embk.append(adatas[i].obsm['k_score'])\n",
    "        all_ego_attn.append(adatas[i].obsm['ego_attn'])\n",
    "        all_local_attn.append(adatas[i].obsm['local_attn'])\n",
    "        all_global_attn.append(adatas[i].obsm['regional_attn_0'])\n",
    "        all_recon.append(adatas[i].obsm['X_recon'])\n",
    "        all_attn.append(adatas[i].obsm['attn'])\n",
    "        all_embk_glb.append(adatas[i].obsm['k_score_global'])\n",
    "    adata.obsm['q_score'] = np.vstack(all_embq)\n",
    "    adata.obsm['k_score'] = np.vstack(all_embk)\n",
    "    adata.obsm['ego_attn'] = np.vstack(all_ego_attn)\n",
    "    adata.obsm['local_attn'] = np.vstack(all_local_attn)\n",
    "    adata.obsm['global_attn'] = np.vstack(all_global_attn)\n",
    "    adata.obsm['X_recon'] = np.vstack(all_recon)\n",
    "    adata.obsm['attn'] = np.vstack(all_attn)\n",
    "    adata.obsm['k_score_global'] = np.vstack(all_embk_glb)\n",
    "gather_obs(adata, adatas)"
   ]
  },
  {
   "cell_type": "code",
   "execution_count": 15,
   "id": "bc2364f1-bad5-4ba8-bc1c-8ce87b460650",
   "metadata": {},
   "outputs": [],
   "source": [
    "adata.write_h5ad(\"saved_h5ad/mmbrain.h5ad\")"
   ]
  },
  {
   "cell_type": "code",
   "execution_count": 17,
   "id": "5fa04e78-bd41-415d-ab68-0749c2eda6a9",
   "metadata": {},
   "outputs": [
    {
     "data": {
      "application/vnd.jupyter.widget-view+json": {
       "model_id": "ac03c39d52f34dbe88c07a4874d7d08e",
       "version_major": 2,
       "version_minor": 0
      },
      "text/plain": [
       "  0%|          | 0/129 [00:00<?, ?it/s]"
      ]
     },
     "metadata": {},
     "output_type": "display_data"
    }
   ],
   "source": [
    "for i, adata in enumerate(tqdm(adatas)):\n",
    "    adata.write_h5ad(f\"saved_h5ad/mmbrain_{i}.h5ad\")"
   ]
  }
 ],
 "metadata": {
  "kernelspec": {
   "display_name": "Python 3 (ipykernel)",
   "language": "python",
   "name": "python3"
  },
  "language_info": {
   "codemirror_mode": {
    "name": "ipython",
    "version": 3
   },
   "file_extension": ".py",
   "mimetype": "text/x-python",
   "name": "python",
   "nbconvert_exporter": "python",
   "pygments_lexer": "ipython3",
   "version": "3.11.5"
  }
 },
 "nbformat": 4,
 "nbformat_minor": 5
}
