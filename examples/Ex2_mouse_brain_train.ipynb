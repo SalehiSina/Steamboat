{
  "cells": [
    {
      "cell_type": "code",
      "source": [
        "!git clone https://github.com/SalehiSina/Steamboat.git"
      ],
      "metadata": {
        "id": "S6ZlccKO7qvf",
        "outputId": "bc740bf4-c891-4c55-af2d-78274f183607",
        "colab": {
          "base_uri": "https://localhost:8080/"
        }
      },
      "id": "S6ZlccKO7qvf",
      "execution_count": 1,
      "outputs": [
        {
          "output_type": "stream",
          "name": "stdout",
          "text": [
            "Cloning into 'Steamboat'...\n",
            "remote: Enumerating objects: 463, done.\u001b[K\n",
            "remote: Counting objects: 100% (131/131), done.\u001b[K\n",
            "remote: Compressing objects: 100% (89/89), done.\u001b[K\n",
            "remote: Total 463 (delta 70), reused 74 (delta 36), pack-reused 332 (from 1)\u001b[K\n",
            "Receiving objects: 100% (463/463), 9.17 MiB | 18.59 MiB/s, done.\n",
            "Resolving deltas: 100% (250/250), done.\n"
          ]
        }
      ]
    },
    {
      "cell_type": "code",
      "source": [
        "from google.colab import drive\n",
        "drive.mount('/content/drive')"
      ],
      "metadata": {
        "id": "3P7vNqBe70L9",
        "outputId": "69864626-2769-445f-9d0c-6df3ab33644c",
        "colab": {
          "base_uri": "https://localhost:8080/"
        }
      },
      "id": "3P7vNqBe70L9",
      "execution_count": 2,
      "outputs": [
        {
          "output_type": "stream",
          "name": "stdout",
          "text": [
            "Mounted at /content/drive\n"
          ]
        }
      ]
    },
    {
      "cell_type": "code",
      "source": [
        "!pip install squidpy scanpy"
      ],
      "metadata": {
        "id": "Eg9rkjQo7-HW"
      },
      "id": "Eg9rkjQo7-HW",
      "execution_count": null,
      "outputs": []
    },
    {
      "cell_type": "markdown",
      "id": "34225de3-1b63-4b1e-9f3b-661bc57bb979",
      "metadata": {
        "id": "34225de3-1b63-4b1e-9f3b-661bc57bb979"
      },
      "source": [
        "# Train on mouse brain data\n",
        "\n",
        "This could take several hours. The trained model is provided, which can be used to try the interpretation part without training again."
      ]
    },
    {
      "metadata": {
        "ExecuteTime": {
          "end_time": "2025-08-19T16:56:42.128778Z",
          "start_time": "2025-08-19T16:56:34.821784Z"
        },
        "id": "cae23757d9945871",
        "outputId": "03f36a75-259c-4b90-b61b-01944a2bba35",
        "colab": {
          "base_uri": "https://localhost:8080/"
        }
      },
      "cell_type": "code",
      "source": [
        "import torch\n",
        "\n",
        "# Check if CUDA is available\n",
        "print(\"CUDA Available:\", torch.cuda.is_available())"
      ],
      "id": "cae23757d9945871",
      "outputs": [
        {
          "output_type": "stream",
          "name": "stdout",
          "text": [
            "CUDA Available: True\n"
          ]
        }
      ],
      "execution_count": 4
    },
    {
      "cell_type": "code",
      "id": "b2d584e4-d3db-4c08-8bf5-76ab340c225a",
      "metadata": {
        "ExecuteTime": {
          "end_time": "2025-08-19T16:56:54.094543Z",
          "start_time": "2025-08-19T16:56:54.082619Z"
        },
        "id": "b2d584e4-d3db-4c08-8bf5-76ab340c225a",
        "outputId": "b364a593-2508-4695-e65a-5319c01ca927",
        "colab": {
          "base_uri": "https://localhost:8080/"
        }
      },
      "source": [
        "import os\n",
        "import sys\n",
        "sys.path.append(\"/content/Steamboat\")\n",
        "if torch.cuda.is_available():\n",
        "    device = \"cuda\"\n",
        "    print(torch.cuda.get_device_name(0))\n",
        "else:\n",
        "    device = \"cpu\"\n",
        "    print(\"Using CPU\")\n"
      ],
      "outputs": [
        {
          "output_type": "stream",
          "name": "stdout",
          "text": [
            "Tesla T4\n"
          ]
        }
      ],
      "execution_count": 5
    },
    {
      "cell_type": "code",
      "id": "fa4a4014-6a35-415d-baa9-738cc509d53f",
      "metadata": {
        "ExecuteTime": {
          "end_time": "2025-08-19T16:57:40.835013Z",
          "start_time": "2025-08-19T16:56:57.425947Z"
        },
        "id": "fa4a4014-6a35-415d-baa9-738cc509d53f",
        "outputId": "cc7ea0b0-9628-4a21-a7e6-9b93d6b91113",
        "colab": {
          "base_uri": "https://localhost:8080/"
        }
      },
      "source": [
        "import scanpy as sc\n",
        "import squidpy as sq\n",
        "import pandas as pd\n",
        "from tqdm.notebook import tqdm\n",
        "import scipy as sp\n",
        "import numpy as np\n",
        "import multiprocessing\n",
        "import pickle as pkl\n",
        "import torch\n",
        "import gc\n",
        "import sklearn.metrics\n",
        "\n",
        "import matplotlib.pyplot as plt\n",
        "import seaborn as sns\n",
        "import matplotlib\n",
        "\n",
        "plt.rcParams['pdf.fonttype'] = 42\n",
        "plt.rcParams['mathtext.fontset'] = 'dejavuserif'\n",
        "plt.rcParams['font.family'] = 'arial'\n",
        "\n",
        "pltkw = dict(bbox_inches='tight', transparent=True)"
      ],
      "outputs": [
        {
          "output_type": "stream",
          "name": "stderr",
          "text": [
            "/usr/lib/python3.12/importlib/__init__.py:90: FutureWarning: The legacy Dask DataFrame implementation is deprecated and will be removed in a future version. Set the configuration option `dataframe.query-planning` to `True` or None to enable the new Dask Dataframe implementation and silence this warning.\n",
            "  return _bootstrap._gcd_import(name[level:], package, level)\n",
            "/usr/local/lib/python3.12/dist-packages/anndata/__init__.py:44: FutureWarning: Importing read_text from `anndata` is deprecated. Import anndata.io.read_text instead.\n",
            "  return module_get_attr_redirect(attr_name, deprecated_mapping=_DEPRECATED)\n"
          ]
        }
      ],
      "execution_count": 6
    },
    {
      "cell_type": "code",
      "id": "d606b6a9-01be-44c4-b25a-6d001831dfb3",
      "metadata": {
        "ExecuteTime": {
          "end_time": "2025-08-19T16:57:40.891894Z",
          "start_time": "2025-08-19T16:57:40.860884Z"
        },
        "id": "d606b6a9-01be-44c4-b25a-6d001831dfb3"
      },
      "source": [
        "import steamboat as sf\n",
        "import steamboat.model as sm\n",
        "#importlib.reload(sm)\n",
        "#import steamboat.integrated_model\n",
        "# importlib.reload(spaceformer.benchmarks)"
      ],
      "outputs": [],
      "execution_count": 7
    },
    {
      "metadata": {
        "ExecuteTime": {
          "end_time": "2025-08-19T16:57:43.241704Z",
          "start_time": "2025-08-19T16:57:43.231644Z"
        },
        "id": "9df680581574cfd6"
      },
      "cell_type": "code",
      "source": [
        "import importlib\n",
        "import steamboat.tools\n",
        "#importlib.reload(steamboat.tools)"
      ],
      "id": "9df680581574cfd6",
      "outputs": [],
      "execution_count": 8
    },
    {
      "metadata": {
        "ExecuteTime": {
          "end_time": "2025-08-19T16:57:46.852015Z",
          "start_time": "2025-08-19T16:57:46.610883Z"
        },
        "id": "3446e53fe9cc2c80",
        "outputId": "f9d559aa-5904-4fd6-cb01-50df7b45f0c6",
        "colab": {
          "base_uri": "https://localhost:8080/"
        }
      },
      "cell_type": "code",
      "source": [
        "gc.collect()"
      ],
      "id": "3446e53fe9cc2c80",
      "outputs": [
        {
          "output_type": "execute_result",
          "data": {
            "text/plain": [
              "40209"
            ]
          },
          "metadata": {},
          "execution_count": 9
        }
      ],
      "execution_count": 9
    },
    {
      "cell_type": "code",
      "source": [
        "##Working with google colab\n",
        "if False:\n",
        "    adata = sc.read_h5ad(\"/content/drive/MyDrive/Thesis/Data/Steamboat_Data/Ex2_mouse_brain/Zhuang-ABCA-1-raw.h5ad\")\n",
        "    obs = pd.read_csv(\"/content/drive/MyDrive/Thesis/Data/Steamboat_Data/Ex2_mouse_brain/label.csv/label.csv\", index_col=0)\n",
        "\n",
        "    # obs = obs[obs['brain_section_label'].isin(obs['brain_section_label'].value_counts()[:10].index.tolist())]\n",
        "    # adata = adata[obs.index, :]\n",
        "    # adata.obs = obs\n",
        "    # gc.collect()\n",
        "\n",
        "    adata = adata[obs.index, :]\n",
        "    gc.collect()\n",
        "    adata.obs = obs\n",
        "    gc.collect()\n",
        "\n",
        "    adata.obsm['spatial'] = adata.obs[['x', 'y']].to_numpy()\n",
        "\n",
        "    adata.write_h5ad(\"/content/drive/MyDrive/Thesis/Data/Steamboat_Data/Ex2_mouse_brain/Zhuang-ABCA-1-labeled.h5ad\")\n",
        "elif True:\n",
        "\n",
        "    # Open in backed mode (does not load all data)\n",
        "    adata_backed = sc.read_h5ad(\"/content/drive/MyDrive/Thesis/Data/Steamboat_Data/Ex2_mouse_brain/Zhuang-ABCA-1-labeled.h5ad\", backed=\"r\")\n",
        "\n",
        "    # Load only the first n cells\n",
        "    n = 100000\n",
        "    adata = adata_backed[:n, :].to_memory()\n",
        "else:\n",
        "    adata = sc.read_h5ad(\"/content/drive/MyDrive/Thesis/Data/Steamboat_Data/Ex2_mouse_brain/Zhuang-ABCA-1-labeled.h5ad\")\n"
      ],
      "metadata": {
        "id": "pSW9ks4M93ww"
      },
      "id": "pSW9ks4M93ww",
      "execution_count": 15,
      "outputs": []
    },
    {
      "cell_type": "code",
      "id": "f139c7d7-44cc-4f39-8567-e602e857041a",
      "metadata": {
        "ExecuteTime": {
          "end_time": "2025-08-19T16:58:31.556510Z",
          "start_time": "2025-08-19T16:58:00.791094Z"
        },
        "id": "f139c7d7-44cc-4f39-8567-e602e857041a"
      },
      "source": [
        "##Working with laptop\n",
        "if False:\n",
        "    adata = sc.read_h5ad(\"C:\\\\Users\\\\User\\Desktop\\Thesis\\Data\\Steamboat_Data\\Ex2_mouse_brain\\Zhuang-ABCA-1-raw.h5ad\")\n",
        "    obs = pd.read_csv(\"C:\\\\Users\\\\User\\Desktop\\Thesis\\Data\\Steamboat_Data\\Ex2_mouse_brain\\label\\label.csv\", index_col=0)\n",
        "\n",
        "    # obs = obs[obs['brain_section_label'].isin(obs['brain_section_label'].value_counts()[:10].index.tolist())]\n",
        "    # adata = adata[obs.index, :]\n",
        "    # adata.obs = obs\n",
        "    # gc.collect()\n",
        "\n",
        "    adata = adata[obs.index, :]\n",
        "    gc.collect()\n",
        "    adata.obs = obs\n",
        "    gc.collect()\n",
        "\n",
        "    adata.obsm['spatial'] = adata.obs[['x', 'y']].to_numpy()\n",
        "\n",
        "    adata.write_h5ad(\"C:\\\\Users\\\\User\\Desktop\\Thesis\\Data\\Steamboat_Data\\Ex2_mouse_brain\\Zhuang-ABCA-1-labeled.h5ad\")\n",
        "\n",
        "elif True:\n",
        "\n",
        "    # Open in backed mode (does not load all data)\n",
        "    adata_backed = sc.read_h5ad(\"C:\\\\Users\\\\User\\Desktop\\Thesis\\Data\\Steamboat_Data\\Ex2_mouse_brain\\Zhuang-ABCA-1-labeled.h5ad\", backed=\"r\")\n",
        "\n",
        "    # Load only the first n cells\n",
        "    n = 1000\n",
        "    adata = adata_backed[:n, :].to_memory()\n",
        "\n",
        "else:\n",
        "    adata = sc.read_h5ad(\"C:\\\\Users\\\\User\\Desktop\\Thesis\\Data\\Steamboat_Data\\Ex2_mouse_brain\\Zhuang-ABCA-1-labeled.h5ad\")\n"
      ],
      "outputs": [],
      "execution_count": null
    },
    {
      "metadata": {
        "ExecuteTime": {
          "end_time": "2025-08-19T16:59:23.650310Z",
          "start_time": "2025-08-19T16:59:23.620884Z"
        },
        "id": "56b62ca6bedc21e9",
        "outputId": "9fe7e2b0-fbf9-4f47-8714-4264650b41e8",
        "colab": {
          "base_uri": "https://localhost:8080/"
        }
      },
      "cell_type": "code",
      "source": [
        "adata"
      ],
      "id": "56b62ca6bedc21e9",
      "outputs": [
        {
          "output_type": "execute_result",
          "data": {
            "text/plain": [
              "AnnData object with n_obs × n_vars = 100000 × 1122\n",
              "    obs: 'brain_section_label', 'feature_matrix_label', 'donor_label', 'donor_genotype', 'donor_sex', 'cluster_alias', 'x', 'y', 'z', 'subclass_confidence_score', 'cluster_confidence_score', 'high_quality_transfer', 'neurotransmitter', 'class', 'subclass', 'supertype', 'cluster', 'neurotransmitter_color', 'class_color', 'subclass_color', 'supertype_color', 'cluster_color', 'x_ccf', 'y_ccf', 'z_ccf', 'parcellation_index', 'parcellation_organ', 'parcellation_category', 'parcellation_division', 'parcellation_structure', 'parcellation_substructure', 'parcellation_organ_color', 'parcellation_category_color', 'parcellation_division_color', 'parcellation_structure_color', 'parcellation_substructure_color'\n",
              "    var: 'gene_symbol'\n",
              "    obsm: 'spatial'"
            ]
          },
          "metadata": {},
          "execution_count": 16
        }
      ],
      "execution_count": 16
    },
    {
      "metadata": {
        "ExecuteTime": {
          "end_time": "2025-08-19T11:11:59.861054Z",
          "start_time": "2025-08-19T11:11:59.581926Z"
        },
        "id": "3c4574c395567498",
        "outputId": "a83c7789-566a-4de3-f92c-78fe1a4909f7"
      },
      "cell_type": "code",
      "source": [
        "####SINA\n",
        "# to see what's inside:\n",
        "\n",
        "adata.obs.head()\n",
        "#adata.obs.columns\n",
        "#adata.var[\"gene_symbol\"].unique().shape\n",
        "#adata.var[\"gene_symbol\"].to_list()[:20]"
      ],
      "id": "3c4574c395567498",
      "outputs": [
        {
          "data": {
            "text/plain": [
              "                                        brain_section_label  \\\n",
              "cell_label                                                    \n",
              "182941331246012878296807398333956011710   Zhuang-ABCA-1.089   \n",
              "221260934538535633595532020856387724686   Zhuang-ABCA-1.089   \n",
              "22228792606814781533240955623030943708    Zhuang-ABCA-1.089   \n",
              "272043042552227961220474294517855477150   Zhuang-ABCA-1.089   \n",
              "110116287883089187971185374239350249328   Zhuang-ABCA-1.089   \n",
              "\n",
              "                                        feature_matrix_label    donor_label  \\\n",
              "cell_label                                                                    \n",
              "182941331246012878296807398333956011710        Zhuang-ABCA-1  Zhuang-ABCA-1   \n",
              "221260934538535633595532020856387724686        Zhuang-ABCA-1  Zhuang-ABCA-1   \n",
              "22228792606814781533240955623030943708         Zhuang-ABCA-1  Zhuang-ABCA-1   \n",
              "272043042552227961220474294517855477150        Zhuang-ABCA-1  Zhuang-ABCA-1   \n",
              "110116287883089187971185374239350249328        Zhuang-ABCA-1  Zhuang-ABCA-1   \n",
              "\n",
              "                                        donor_genotype donor_sex  \\\n",
              "cell_label                                                         \n",
              "182941331246012878296807398333956011710          wt/wt         F   \n",
              "221260934538535633595532020856387724686          wt/wt         F   \n",
              "22228792606814781533240955623030943708           wt/wt         F   \n",
              "272043042552227961220474294517855477150          wt/wt         F   \n",
              "110116287883089187971185374239350249328          wt/wt         F   \n",
              "\n",
              "                                         cluster_alias         x         y  \\\n",
              "cell_label                                                                   \n",
              "182941331246012878296807398333956011710            704  0.682522  3.366483   \n",
              "221260934538535633595532020856387724686           5243  0.667690  3.442241   \n",
              "22228792606814781533240955623030943708           14939  0.638731  3.474328   \n",
              "272043042552227961220474294517855477150          14939  0.653425  3.433218   \n",
              "110116287883089187971185374239350249328           5254  0.623896  3.513574   \n",
              "\n",
              "                                               z  subclass_confidence_score  \\\n",
              "cell_label                                                                    \n",
              "182941331246012878296807398333956011710  7.82953                   0.969933   \n",
              "221260934538535633595532020856387724686  7.82953                   0.850554   \n",
              "22228792606814781533240955623030943708   7.82953                   0.888285   \n",
              "272043042552227961220474294517855477150  7.82953                   0.900000   \n",
              "110116287883089187971185374239350249328  7.82953                   0.999978   \n",
              "\n",
              "                                         ...  parcellation_organ  \\\n",
              "cell_label                               ...                       \n",
              "182941331246012878296807398333956011710  ...          unassigned   \n",
              "221260934538535633595532020856387724686  ...          unassigned   \n",
              "22228792606814781533240955623030943708   ...          unassigned   \n",
              "272043042552227961220474294517855477150  ...          unassigned   \n",
              "110116287883089187971185374239350249328  ...          unassigned   \n",
              "\n",
              "                                         parcellation_category  \\\n",
              "cell_label                                                       \n",
              "182941331246012878296807398333956011710             unassigned   \n",
              "221260934538535633595532020856387724686             unassigned   \n",
              "22228792606814781533240955623030943708              unassigned   \n",
              "272043042552227961220474294517855477150             unassigned   \n",
              "110116287883089187971185374239350249328             unassigned   \n",
              "\n",
              "                                        parcellation_division  \\\n",
              "cell_label                                                      \n",
              "182941331246012878296807398333956011710            unassigned   \n",
              "221260934538535633595532020856387724686            unassigned   \n",
              "22228792606814781533240955623030943708             unassigned   \n",
              "272043042552227961220474294517855477150            unassigned   \n",
              "110116287883089187971185374239350249328            unassigned   \n",
              "\n",
              "                                        parcellation_structure  \\\n",
              "cell_label                                                       \n",
              "182941331246012878296807398333956011710             unassigned   \n",
              "221260934538535633595532020856387724686             unassigned   \n",
              "22228792606814781533240955623030943708              unassigned   \n",
              "272043042552227961220474294517855477150             unassigned   \n",
              "110116287883089187971185374239350249328             unassigned   \n",
              "\n",
              "                                        parcellation_substructure  \\\n",
              "cell_label                                                          \n",
              "182941331246012878296807398333956011710                unassigned   \n",
              "221260934538535633595532020856387724686                unassigned   \n",
              "22228792606814781533240955623030943708                 unassigned   \n",
              "272043042552227961220474294517855477150                unassigned   \n",
              "110116287883089187971185374239350249328                unassigned   \n",
              "\n",
              "                                        parcellation_organ_color  \\\n",
              "cell_label                                                         \n",
              "182941331246012878296807398333956011710                  #000000   \n",
              "221260934538535633595532020856387724686                  #000000   \n",
              "22228792606814781533240955623030943708                   #000000   \n",
              "272043042552227961220474294517855477150                  #000000   \n",
              "110116287883089187971185374239350249328                  #000000   \n",
              "\n",
              "                                        parcellation_category_color  \\\n",
              "cell_label                                                            \n",
              "182941331246012878296807398333956011710                     #000000   \n",
              "221260934538535633595532020856387724686                     #000000   \n",
              "22228792606814781533240955623030943708                      #000000   \n",
              "272043042552227961220474294517855477150                     #000000   \n",
              "110116287883089187971185374239350249328                     #000000   \n",
              "\n",
              "                                        parcellation_division_color  \\\n",
              "cell_label                                                            \n",
              "182941331246012878296807398333956011710                     #000000   \n",
              "221260934538535633595532020856387724686                     #000000   \n",
              "22228792606814781533240955623030943708                      #000000   \n",
              "272043042552227961220474294517855477150                     #000000   \n",
              "110116287883089187971185374239350249328                     #000000   \n",
              "\n",
              "                                        parcellation_structure_color  \\\n",
              "cell_label                                                             \n",
              "182941331246012878296807398333956011710                      #000000   \n",
              "221260934538535633595532020856387724686                      #000000   \n",
              "22228792606814781533240955623030943708                       #000000   \n",
              "272043042552227961220474294517855477150                      #000000   \n",
              "110116287883089187971185374239350249328                      #000000   \n",
              "\n",
              "                                        parcellation_substructure_color  \n",
              "cell_label                                                               \n",
              "182941331246012878296807398333956011710                         #000000  \n",
              "221260934538535633595532020856387724686                         #000000  \n",
              "22228792606814781533240955623030943708                          #000000  \n",
              "272043042552227961220474294517855477150                         #000000  \n",
              "110116287883089187971185374239350249328                         #000000  \n",
              "\n",
              "[5 rows x 36 columns]"
            ],
            "text/html": [
              "<div>\n",
              "<style scoped>\n",
              "    .dataframe tbody tr th:only-of-type {\n",
              "        vertical-align: middle;\n",
              "    }\n",
              "\n",
              "    .dataframe tbody tr th {\n",
              "        vertical-align: top;\n",
              "    }\n",
              "\n",
              "    .dataframe thead th {\n",
              "        text-align: right;\n",
              "    }\n",
              "</style>\n",
              "<table border=\"1\" class=\"dataframe\">\n",
              "  <thead>\n",
              "    <tr style=\"text-align: right;\">\n",
              "      <th></th>\n",
              "      <th>brain_section_label</th>\n",
              "      <th>feature_matrix_label</th>\n",
              "      <th>donor_label</th>\n",
              "      <th>donor_genotype</th>\n",
              "      <th>donor_sex</th>\n",
              "      <th>cluster_alias</th>\n",
              "      <th>x</th>\n",
              "      <th>y</th>\n",
              "      <th>z</th>\n",
              "      <th>subclass_confidence_score</th>\n",
              "      <th>...</th>\n",
              "      <th>parcellation_organ</th>\n",
              "      <th>parcellation_category</th>\n",
              "      <th>parcellation_division</th>\n",
              "      <th>parcellation_structure</th>\n",
              "      <th>parcellation_substructure</th>\n",
              "      <th>parcellation_organ_color</th>\n",
              "      <th>parcellation_category_color</th>\n",
              "      <th>parcellation_division_color</th>\n",
              "      <th>parcellation_structure_color</th>\n",
              "      <th>parcellation_substructure_color</th>\n",
              "    </tr>\n",
              "    <tr>\n",
              "      <th>cell_label</th>\n",
              "      <th></th>\n",
              "      <th></th>\n",
              "      <th></th>\n",
              "      <th></th>\n",
              "      <th></th>\n",
              "      <th></th>\n",
              "      <th></th>\n",
              "      <th></th>\n",
              "      <th></th>\n",
              "      <th></th>\n",
              "      <th></th>\n",
              "      <th></th>\n",
              "      <th></th>\n",
              "      <th></th>\n",
              "      <th></th>\n",
              "      <th></th>\n",
              "      <th></th>\n",
              "      <th></th>\n",
              "      <th></th>\n",
              "      <th></th>\n",
              "      <th></th>\n",
              "    </tr>\n",
              "  </thead>\n",
              "  <tbody>\n",
              "    <tr>\n",
              "      <th>182941331246012878296807398333956011710</th>\n",
              "      <td>Zhuang-ABCA-1.089</td>\n",
              "      <td>Zhuang-ABCA-1</td>\n",
              "      <td>Zhuang-ABCA-1</td>\n",
              "      <td>wt/wt</td>\n",
              "      <td>F</td>\n",
              "      <td>704</td>\n",
              "      <td>0.682522</td>\n",
              "      <td>3.366483</td>\n",
              "      <td>7.82953</td>\n",
              "      <td>0.969933</td>\n",
              "      <td>...</td>\n",
              "      <td>unassigned</td>\n",
              "      <td>unassigned</td>\n",
              "      <td>unassigned</td>\n",
              "      <td>unassigned</td>\n",
              "      <td>unassigned</td>\n",
              "      <td>#000000</td>\n",
              "      <td>#000000</td>\n",
              "      <td>#000000</td>\n",
              "      <td>#000000</td>\n",
              "      <td>#000000</td>\n",
              "    </tr>\n",
              "    <tr>\n",
              "      <th>221260934538535633595532020856387724686</th>\n",
              "      <td>Zhuang-ABCA-1.089</td>\n",
              "      <td>Zhuang-ABCA-1</td>\n",
              "      <td>Zhuang-ABCA-1</td>\n",
              "      <td>wt/wt</td>\n",
              "      <td>F</td>\n",
              "      <td>5243</td>\n",
              "      <td>0.667690</td>\n",
              "      <td>3.442241</td>\n",
              "      <td>7.82953</td>\n",
              "      <td>0.850554</td>\n",
              "      <td>...</td>\n",
              "      <td>unassigned</td>\n",
              "      <td>unassigned</td>\n",
              "      <td>unassigned</td>\n",
              "      <td>unassigned</td>\n",
              "      <td>unassigned</td>\n",
              "      <td>#000000</td>\n",
              "      <td>#000000</td>\n",
              "      <td>#000000</td>\n",
              "      <td>#000000</td>\n",
              "      <td>#000000</td>\n",
              "    </tr>\n",
              "    <tr>\n",
              "      <th>22228792606814781533240955623030943708</th>\n",
              "      <td>Zhuang-ABCA-1.089</td>\n",
              "      <td>Zhuang-ABCA-1</td>\n",
              "      <td>Zhuang-ABCA-1</td>\n",
              "      <td>wt/wt</td>\n",
              "      <td>F</td>\n",
              "      <td>14939</td>\n",
              "      <td>0.638731</td>\n",
              "      <td>3.474328</td>\n",
              "      <td>7.82953</td>\n",
              "      <td>0.888285</td>\n",
              "      <td>...</td>\n",
              "      <td>unassigned</td>\n",
              "      <td>unassigned</td>\n",
              "      <td>unassigned</td>\n",
              "      <td>unassigned</td>\n",
              "      <td>unassigned</td>\n",
              "      <td>#000000</td>\n",
              "      <td>#000000</td>\n",
              "      <td>#000000</td>\n",
              "      <td>#000000</td>\n",
              "      <td>#000000</td>\n",
              "    </tr>\n",
              "    <tr>\n",
              "      <th>272043042552227961220474294517855477150</th>\n",
              "      <td>Zhuang-ABCA-1.089</td>\n",
              "      <td>Zhuang-ABCA-1</td>\n",
              "      <td>Zhuang-ABCA-1</td>\n",
              "      <td>wt/wt</td>\n",
              "      <td>F</td>\n",
              "      <td>14939</td>\n",
              "      <td>0.653425</td>\n",
              "      <td>3.433218</td>\n",
              "      <td>7.82953</td>\n",
              "      <td>0.900000</td>\n",
              "      <td>...</td>\n",
              "      <td>unassigned</td>\n",
              "      <td>unassigned</td>\n",
              "      <td>unassigned</td>\n",
              "      <td>unassigned</td>\n",
              "      <td>unassigned</td>\n",
              "      <td>#000000</td>\n",
              "      <td>#000000</td>\n",
              "      <td>#000000</td>\n",
              "      <td>#000000</td>\n",
              "      <td>#000000</td>\n",
              "    </tr>\n",
              "    <tr>\n",
              "      <th>110116287883089187971185374239350249328</th>\n",
              "      <td>Zhuang-ABCA-1.089</td>\n",
              "      <td>Zhuang-ABCA-1</td>\n",
              "      <td>Zhuang-ABCA-1</td>\n",
              "      <td>wt/wt</td>\n",
              "      <td>F</td>\n",
              "      <td>5254</td>\n",
              "      <td>0.623896</td>\n",
              "      <td>3.513574</td>\n",
              "      <td>7.82953</td>\n",
              "      <td>0.999978</td>\n",
              "      <td>...</td>\n",
              "      <td>unassigned</td>\n",
              "      <td>unassigned</td>\n",
              "      <td>unassigned</td>\n",
              "      <td>unassigned</td>\n",
              "      <td>unassigned</td>\n",
              "      <td>#000000</td>\n",
              "      <td>#000000</td>\n",
              "      <td>#000000</td>\n",
              "      <td>#000000</td>\n",
              "      <td>#000000</td>\n",
              "    </tr>\n",
              "  </tbody>\n",
              "</table>\n",
              "<p>5 rows × 36 columns</p>\n",
              "</div>"
            ]
          },
          "execution_count": 8,
          "metadata": {},
          "output_type": "execute_result"
        }
      ],
      "execution_count": null
    },
    {
      "metadata": {
        "ExecuteTime": {
          "end_time": "2025-08-19T11:12:22.236630Z",
          "start_time": "2025-08-19T11:12:22.224282Z"
        },
        "id": "a1bf3e49d83209d1",
        "outputId": "aa8e756e-c22b-453d-82e9-938d7329e092"
      },
      "cell_type": "code",
      "source": [
        "####SINA\n",
        "adata.var_names.to_list()[-5:]"
      ],
      "id": "a1bf3e49d83209d1",
      "outputs": [
        {
          "data": {
            "text/plain": [
              "['ENSMUSG00000015619',\n",
              " 'ENSMUSG00000070047',\n",
              " 'ENSMUSG00000002266',\n",
              " 'ENSMUSG00000036111',\n",
              " 'ENSMUSG00000033063']"
            ]
          },
          "execution_count": 9,
          "metadata": {},
          "output_type": "execute_result"
        }
      ],
      "execution_count": null
    },
    {
      "metadata": {
        "ExecuteTime": {
          "end_time": "2025-08-19T11:12:27.295444Z",
          "start_time": "2025-08-19T11:12:27.275684Z"
        },
        "id": "f2d53db196a10729",
        "outputId": "f849f9d7-1150-4da0-ae26-a01a2c235093"
      },
      "cell_type": "code",
      "source": [
        "####SINA\n",
        "\n",
        "adata.X[20:30, -5:]"
      ],
      "id": "f2d53db196a10729",
      "outputs": [
        {
          "data": {
            "text/plain": [
              "array([[0., 0., 0., 0., 0.],\n",
              "       [0., 0., 0., 0., 0.],\n",
              "       [0., 1., 0., 0., 0.],\n",
              "       [0., 0., 0., 0., 0.],\n",
              "       [0., 0., 0., 0., 0.],\n",
              "       [0., 0., 0., 0., 0.],\n",
              "       [0., 0., 0., 0., 1.],\n",
              "       [0., 0., 0., 0., 0.],\n",
              "       [0., 0., 0., 0., 0.],\n",
              "       [0., 0., 0., 0., 0.]], dtype=float32)"
            ]
          },
          "execution_count": 10,
          "metadata": {},
          "output_type": "execute_result"
        }
      ],
      "execution_count": null
    },
    {
      "metadata": {
        "ExecuteTime": {
          "end_time": "2025-08-19T11:12:32.707631Z",
          "start_time": "2025-08-19T11:12:32.699051Z"
        },
        "id": "bcb442cd9b46eb36",
        "outputId": "1286daad-58e3-4fb8-94f4-6f0b8d099c90"
      },
      "cell_type": "code",
      "source": [
        "####SINA\n",
        "\n",
        "adata.shape      # (cells, genes)\n",
        "#adata.n_vars"
      ],
      "id": "bcb442cd9b46eb36",
      "outputs": [
        {
          "data": {
            "text/plain": [
              "(2616328, 1122)"
            ]
          },
          "execution_count": 11,
          "metadata": {},
          "output_type": "execute_result"
        }
      ],
      "execution_count": null
    },
    {
      "metadata": {
        "ExecuteTime": {
          "end_time": "2025-08-19T11:12:54.111967Z",
          "start_time": "2025-08-19T11:12:54.106341Z"
        },
        "id": "85a5fb92b42fecff",
        "outputId": "9297d159-13aa-4c6f-bb82-f87ea1ecf382"
      },
      "cell_type": "code",
      "source": [
        "####SINA\n",
        "\n",
        "adata.obsm.keys()"
      ],
      "id": "85a5fb92b42fecff",
      "outputs": [
        {
          "data": {
            "text/plain": [
              "KeysView(AxisArrays with keys: spatial)"
            ]
          },
          "execution_count": 13,
          "metadata": {},
          "output_type": "execute_result"
        }
      ],
      "execution_count": null
    },
    {
      "metadata": {
        "ExecuteTime": {
          "end_time": "2025-08-18T22:37:00.848454Z",
          "start_time": "2025-08-18T22:37:00.688630Z"
        },
        "id": "f7096a319af0faa0",
        "outputId": "1fc83bde-d3e0-4235-ae1f-8a120d95c5b0",
        "colab": {
          "base_uri": "https://localhost:8080/"
        }
      },
      "cell_type": "code",
      "source": [
        "####SINA\n",
        "\n",
        "adata.obs['brain_section_label'].unique()"
      ],
      "id": "f7096a319af0faa0",
      "outputs": [
        {
          "output_type": "execute_result",
          "data": {
            "text/plain": [
              "['Zhuang-ABCA-1.089', 'Zhuang-ABCA-1.077', 'Zhuang-ABCA-1.087', 'Zhuang-ABCA-1.072']\n",
              "Categories (4, object): ['Zhuang-ABCA-1.072', 'Zhuang-ABCA-1.077', 'Zhuang-ABCA-1.087',\n",
              "                         'Zhuang-ABCA-1.089']"
            ]
          },
          "metadata": {},
          "execution_count": 17
        }
      ],
      "execution_count": 17
    },
    {
      "cell_type": "code",
      "id": "cefa36b9-eae5-4f0f-8d17-b05cc49380cc",
      "metadata": {
        "ExecuteTime": {
          "end_time": "2025-08-19T17:01:34.662714Z",
          "start_time": "2025-08-19T16:59:36.277231Z"
        },
        "id": "cefa36b9-eae5-4f0f-8d17-b05cc49380cc"
      },
      "source": [
        "if False:\n",
        "    n_genes = 100\n",
        "    np.random.seed(0)\n",
        "    chosen_gene_mask = np.zeros(adata.shape[1])\n",
        "    chosen_gene_mask[:n_genes] = 1.\n",
        "    np.random.shuffle(chosen_gene_mask)\n",
        "    chosen_gene_mask = chosen_gene_mask > 0.\n",
        "    adata = adata[:, chosen_gene_mask]\n",
        "gc.collect()\n",
        "\n",
        "# Normalizing to median total counts\n",
        "sc.pp.normalize_total(adata)\n",
        "# Logarithmize the data\n",
        "sc.pp.log1p(adata)"
      ],
      "outputs": [],
      "execution_count": 18
    },
    {
      "cell_type": "code",
      "id": "b7d2abae-2ea1-47cd-bebc-b8cd8e60be5f",
      "metadata": {
        "ExecuteTime": {
          "end_time": "2025-08-19T17:03:54.778301Z",
          "start_time": "2025-08-19T17:02:03.176688Z"
        },
        "id": "b7d2abae-2ea1-47cd-bebc-b8cd8e60be5f",
        "outputId": "8654f3ce-94a4-4537-a6b0-5167100ccc9e",
        "colab": {
          "base_uri": "https://localhost:8080/"
        }
      },
      "source": [
        "adatas = []\n",
        "for i in adata.obs['brain_section_label'].unique():\n",
        "    adatas.append(adata[adata.obs['brain_section_label'] == i])\n",
        "    adatas[-1].obs['global'] = 0"
      ],
      "outputs": [
        {
          "output_type": "stream",
          "name": "stderr",
          "text": [
            "/tmp/ipython-input-860651538.py:4: ImplicitModificationWarning: Trying to modify attribute `.obs` of view, initializing view as actual.\n",
            "  adatas[-1].obs['global'] = 0\n",
            "/tmp/ipython-input-860651538.py:4: ImplicitModificationWarning: Trying to modify attribute `.obs` of view, initializing view as actual.\n",
            "  adatas[-1].obs['global'] = 0\n",
            "/tmp/ipython-input-860651538.py:4: ImplicitModificationWarning: Trying to modify attribute `.obs` of view, initializing view as actual.\n",
            "  adatas[-1].obs['global'] = 0\n",
            "/tmp/ipython-input-860651538.py:4: ImplicitModificationWarning: Trying to modify attribute `.obs` of view, initializing view as actual.\n",
            "  adatas[-1].obs['global'] = 0\n"
          ]
        }
      ],
      "execution_count": 19
    },
    {
      "metadata": {
        "ExecuteTime": {
          "end_time": "2025-08-19T17:04:14.536099Z",
          "start_time": "2025-08-19T17:03:55.735749Z"
        },
        "id": "d9e0acc3223233e",
        "outputId": "a7d15827-2839-4f85-a491-7ca88995bf04",
        "colab": {
          "base_uri": "https://localhost:8080/",
          "height": 49,
          "referenced_widgets": [
            "2e4727cccefb4502b8861409a9d92723",
            "4ca7aa042490456691ea1289453243c5",
            "ae5e18c66537441a99e9993887455d74",
            "4748da8ce4b24da9988c27fa1185741b",
            "757a8ef218be4d76a1eeb855e6020f4d",
            "977a5383d87c447bbf956fb3eeb6cb1b",
            "b148747fbac84e668a091c92332293fa",
            "c50f1b62168141708250cef674809e3b",
            "ca435d1f4dc6487db734b5536ced3d3f",
            "05e1ad4b4704452fbffcbf29db15f330",
            "c87a6408f070465fac643b9b9a69ba5d"
          ]
        }
      },
      "cell_type": "code",
      "source": [
        "adatas = sf.prep_adatas(adatas, norm=False, log1p=False)"
      ],
      "id": "d9e0acc3223233e",
      "outputs": [
        {
          "output_type": "display_data",
          "data": {
            "text/plain": [
              "  0%|          | 0/4 [00:00<?, ?it/s]"
            ],
            "application/vnd.jupyter.widget-view+json": {
              "version_major": 2,
              "version_minor": 0,
              "model_id": "2e4727cccefb4502b8861409a9d92723"
            }
          },
          "metadata": {}
        }
      ],
      "execution_count": 20
    },
    {
      "metadata": {
        "ExecuteTime": {
          "end_time": "2025-08-19T17:05:59.910609Z",
          "start_time": "2025-08-19T17:04:14.561072Z"
        },
        "id": "87160bdcb6728b7b",
        "outputId": "1420aadc-8f23-4692-8263-64f550bd6d25",
        "colab": {
          "base_uri": "https://localhost:8080/",
          "height": 67,
          "referenced_widgets": [
            "5d1038b6483a4f11aa94b7c322918184",
            "c8d4af8584c74ed9b9d4ededba5e0975",
            "05cb8052483444a6b60763c903348d14",
            "302362e63b264a3987c79b173cf7825b",
            "ae04d93c407e41259de17de0fd5a0cb1",
            "9fb36812bc3242b0b44733d265c1e6a2",
            "9b8b08a70a814c5ab07113a6767d364d",
            "d59a532bab564600bf57f327f920ae84",
            "be6a3dec8b7b428c90a617630fdb2997",
            "90bcdab92376424dbbd6ac9eb9702d3e",
            "6c4f59b04a8543589b7834d24717a7bb"
          ]
        }
      },
      "cell_type": "code",
      "source": [
        "dataset = sf.make_dataset(adatas, sparse_graph=True, regional_obs=['global'])"
      ],
      "id": "87160bdcb6728b7b",
      "outputs": [
        {
          "output_type": "stream",
          "name": "stdout",
          "text": [
            "Using ['global'] as regional annotations.\n"
          ]
        },
        {
          "output_type": "display_data",
          "data": {
            "text/plain": [
              "  0%|          | 0/4 [00:00<?, ?it/s]"
            ],
            "application/vnd.jupyter.widget-view+json": {
              "version_major": 2,
              "version_minor": 0,
              "model_id": "5d1038b6483a4f11aa94b7c322918184"
            }
          },
          "metadata": {}
        }
      ],
      "execution_count": 21
    },
    {
      "cell_type": "code",
      "id": "75854034-e22e-478e-b6e0-f182c9707f95",
      "metadata": {
        "ExecuteTime": {
          "end_time": "2025-08-19T17:06:03.046858Z",
          "start_time": "2025-08-19T17:06:01.527276Z"
        },
        "id": "75854034-e22e-478e-b6e0-f182c9707f95"
      },
      "source": [
        "sf.set_random_seed(0)\n",
        "model = sm.Steamboat(adata.var_names.tolist(), n_heads=50, n_scales=3)\n",
        "model = model.to(device)\n",
        "# model.load_state_dict(torch.load('saved_models/mmbrain_new.pth', weights_only=True))\n"
      ],
      "outputs": [],
      "execution_count": 22
    },
    {
      "metadata": {
        "id": "533597d80c4c8259"
      },
      "cell_type": "code",
      "outputs": [],
      "execution_count": null,
      "source": [
        "model.fit(dataset, entry_masking_rate=0.1, feature_masking_rate=0.1,\n",
        "          max_epoch=10000,\n",
        "          loss_fun=torch.nn.MSELoss(reduction='sum'),\n",
        "          opt=torch.optim.Adam, opt_args=dict(lr=0.1), stop_eps=1e-3, report_per=200, stop_tol=200, device=device)"
      ],
      "id": "533597d80c4c8259"
    },
    {
      "metadata": {
        "ExecuteTime": {
          "end_time": "2025-08-19T17:06:03.645937Z",
          "start_time": "2025-08-19T17:06:03.389641Z"
        },
        "id": "776efe8fe38973bf",
        "outputId": "fd2828f7-3b52-4fdf-ff4f-d90168811121",
        "colab": {
          "base_uri": "https://localhost:8080/"
        }
      },
      "cell_type": "code",
      "source": [
        "\"\"\"\n",
        "Input and Output of the model:\n",
        "\n",
        "Input:\n",
        "\n",
        "Graph structure (adj_list, regional_adj_lists)\n",
        "\n",
        "Cell features (x, masked_x)\n",
        "\n",
        "Regional features (regional_xs)\n",
        "\n",
        "Output:\n",
        "\n",
        "Reconstructed cell features ([n_cells, n_genes])\n",
        "\n",
        "attention weights + embeddings (dict)\n",
        "\n",
        "\"\"\"\n",
        "\n",
        "model"
      ],
      "id": "776efe8fe38973bf",
      "outputs": [
        {
          "output_type": "execute_result",
          "data": {
            "text/plain": [
              "Steamboat(\n",
              "  (spatial_gather): BilinearAttention(\n",
              "    (bias): NonNegBias(\n",
              "      (elu): ELU(alpha=1.0)\n",
              "    )\n",
              "    (q): NonNegLinear(\n",
              "      (elu): ELU(alpha=1.0)\n",
              "    )\n",
              "    (k_local): NonNegLinear(\n",
              "      (elu): ELU(alpha=1.0)\n",
              "    )\n",
              "    (k_regionals): ModuleList(\n",
              "      (0): NonNegLinear(\n",
              "        (elu): ELU(alpha=1.0)\n",
              "      )\n",
              "    )\n",
              "    (w_ego): NonNegScale(\n",
              "      (elu): ELU(alpha=1.0)\n",
              "    )\n",
              "    (w_local): NonNegScale3(\n",
              "      (elu): ELU(alpha=1.0)\n",
              "    )\n",
              "    (w_global): NonNegScale3(\n",
              "      (elu): ELU(alpha=1.0)\n",
              "    )\n",
              "    (tanh): Tanh()\n",
              "    (v): NonNegLinear(\n",
              "      (elu): ELU(alpha=1.0)\n",
              "    )\n",
              "    (cosine_similarity): CosineSimilarity()\n",
              "  )\n",
              ")"
            ]
          },
          "metadata": {},
          "execution_count": 25
        }
      ],
      "execution_count": 25
    },
    {
      "cell_type": "code",
      "id": "6b464f55-99b0-486f-a026-a5cca20df976",
      "metadata": {
        "ExecuteTime": {
          "end_time": "2025-08-19T17:08:59.403273Z",
          "start_time": "2025-08-19T17:08:59.209670Z"
        },
        "id": "6b464f55-99b0-486f-a026-a5cca20df976"
      },
      "source": [
        "##working with google colab\n",
        "if False:\n",
        "    torch.save(model.state_dict(), '/content/Steamboat/examples/saved_models/mmbrain_new.pth')\n",
        "else:\n",
        "    model.load_state_dict(torch.load('/content/Steamboat/examples/saved_models/mmbrain.pth',weights_only=True))"
      ],
      "outputs": [],
      "execution_count": 26
    },
    {
      "cell_type": "code",
      "source": [
        "##working with laptop\n",
        "if False:\n",
        "    torch.save(model.state_dict(), 'saved_models/mmbrain_new.pth')\n",
        "else:\n",
        "    model.load_state_dict(torch.load('saved_models/mmbrain.pth', map_location=torch.device('cpu'),weights_only=True))"
      ],
      "metadata": {
        "id": "CxjyC5FVANJC"
      },
      "id": "CxjyC5FVANJC",
      "execution_count": null,
      "outputs": []
    },
    {
      "cell_type": "code",
      "id": "4abd7cc9-8de0-4479-8b5c-de04be84fbc5",
      "metadata": {
        "ExecuteTime": {
          "end_time": "2025-08-19T17:09:09.729457Z",
          "start_time": "2025-08-19T17:09:09.635149Z"
        },
        "id": "4abd7cc9-8de0-4479-8b5c-de04be84fbc5"
      },
      "source": [
        "# Ego, local, or global?\n",
        "\n",
        "def annotate_adatas(adatas: list[sc.AnnData], dataset, model,\n",
        "                    device=device, get_recon=False):\n",
        "    \"\"\"_summary_\n",
        "\n",
        "    :param adatas: _description_\n",
        "    :param dataset: _description_\n",
        "    :param model: _description_\n",
        "    :param device: _description_, defaults to 'cuda'\n",
        "    \"\"\"\n",
        "    # Safeguards\n",
        "    assert len(adatas) == len(dataset), \"mismatch in lenghths of adatas and dataset\"\n",
        "    for adata, data in zip(adatas, dataset):\n",
        "        assert adata.shape[0] == data[0].shape[0], f\"adata[{i}] has {adata.shape[0]} cells but dataset[{i}] has {data[0].shape[0]}.\"\n",
        "\n",
        "    for i, (x, adj_list, regional_xs, regional_adj_lists) in tqdm(enumerate(dataset), total=len(dataset)):\n",
        "        adj_list = adj_list.squeeze(0).to(device)\n",
        "        x = x.squeeze(0).to(device)\n",
        "        regional_adj_lists = [regional_adj_list.to(device) for regional_adj_list in regional_adj_lists]\n",
        "        regional_xs = [regional_x.to(device) for regional_x in regional_xs]\n",
        "\n",
        "        with torch.no_grad():\n",
        "            res, details = model(adj_list, x, x, regional_adj_lists, regional_xs, get_details=True)\n",
        "\n",
        "            if get_recon:\n",
        "                adatas[i].obsm['X_recon'] = res.cpu().numpy()\n",
        "\n",
        "            adatas[i].obsm['q_score'] = details['embq'].cpu().numpy()\n",
        "\n",
        "            adatas[i].obsm['k_score'] = details['embk'][0].cpu().numpy()\n",
        "            adatas[i].obsm['k_score_global'] = model.spatial_gather.k_regionals[0](x).cpu().numpy()\n",
        "            for j, emb in enumerate(details['embk'][1]):\n",
        "                adatas[i].uns[f'embk_{j}'] = emb.cpu().numpy()\n",
        "            adatas[i].obsm['attn'] = details['attn'].cpu().numpy()\n",
        "            adatas[i].obsm['ego_attn'] = details['attnm'][0].cpu().numpy()\n",
        "            adatas[i].obsm['local_attn'] = details['attnm'][1].cpu().numpy()\n",
        "            for j, matrix in enumerate(details['attnm'][2]):\n",
        "                adatas[i].obsm[f'regional_attn_{j}'] = matrix.cpu().numpy()\n",
        "\n",
        "            # local attention (as graph)\n",
        "            for j in range(model.spatial_gather.n_heads):\n",
        "                w = details['attnp'][1].cpu().numpy()[:, j, :].flatten()\n",
        "                # print(details['attnp'][1].cpu().shape)\n",
        "                # print(len(w))\n",
        "                uv = adj_list.cpu().numpy()\n",
        "                u = uv[0]\n",
        "                v = uv[1]\n",
        "                # print(len(u))\n",
        "                # print(len(v))\n",
        "                if uv.shape[0] == 3: # masked for unequal neighbors\n",
        "                    m = (uv[2] > 0)\n",
        "                    w, u, v = w[m], u[m], v[m]\n",
        "                adatas[i].obsp[f'local_attn_{j}'] = sp.sparse.csr_matrix((w, (u, v)),\n",
        "                                                                            shape=(adatas[i].shape[0],\n",
        "                                                                                adatas[i].shape[0]))"
      ],
      "outputs": [],
      "execution_count": 27
    },
    {
      "metadata": {
        "jupyter": {
          "is_executing": true
        },
        "ExecuteTime": {
          "start_time": "2025-08-19T17:09:11.958652Z"
        },
        "id": "6ed4fdd36447201d",
        "outputId": "fc33c9e8-dc19-4c29-f15d-e161ea897230",
        "colab": {
          "base_uri": "https://localhost:8080/",
          "height": 49,
          "referenced_widgets": [
            "61a3518269a14575852a49283162d224",
            "ce52158c1cf84aa7bd02dd730b6bd11a",
            "f753f0af992842f9ab87b02cbce64755",
            "ecdb0595f73a4d6a835e735f34f995c4",
            "d01358da034649a78e2e7b486714f7d1",
            "fd5bf853f8e347df9a4f7146dd89894d",
            "817f656c5c4e438e9cac4689fb850944",
            "b4bd70714fa9466fbc3cd3235fb33ce8",
            "1b4fd8e6164b4b2ab5517ed27b9e3cf3",
            "43196399859b4b9cb89c448732e217d2",
            "cdd44522688041cbb6336f623d831163"
          ]
        }
      },
      "cell_type": "code",
      "source": [
        "annotate_adatas(adatas, dataset, model, get_recon=True)"
      ],
      "id": "6ed4fdd36447201d",
      "outputs": [
        {
          "output_type": "display_data",
          "data": {
            "text/plain": [
              "  0%|          | 0/4 [00:00<?, ?it/s]"
            ],
            "application/vnd.jupyter.widget-view+json": {
              "version_major": 2,
              "version_minor": 0,
              "model_id": "61a3518269a14575852a49283162d224"
            }
          },
          "metadata": {}
        }
      ],
      "execution_count": 28
    },
    {
      "cell_type": "code",
      "execution_count": 29,
      "id": "e39a1e19-6ae0-42e3-97e5-220d324d761f",
      "metadata": {
        "id": "e39a1e19-6ae0-42e3-97e5-220d324d761f"
      },
      "outputs": [],
      "source": [
        "v_weights = model.spatial_gather.v.weight.detach().cpu().numpy().sum(axis=0)\n",
        "adata.uns['steamboat_v_weights'] = v_weights"
      ]
    },
    {
      "cell_type": "code",
      "execution_count": 30,
      "id": "8a201243-bcca-4cde-9b2e-22ccf90d5560",
      "metadata": {
        "id": "8a201243-bcca-4cde-9b2e-22ccf90d5560"
      },
      "outputs": [],
      "source": [
        "## For all samples:\n",
        "def gather_obs(adata, adatas):\n",
        "    all_embq = []\n",
        "    all_embk = []\n",
        "    all_embk_glb = []\n",
        "    all_ego_attn = []\n",
        "    all_local_attn = []\n",
        "    all_global_attn = []\n",
        "    all_attn = []\n",
        "    all_recon = []\n",
        "    for i in range(len(adatas)):\n",
        "        all_embq.append(adatas[i].obsm['q_score'])\n",
        "        all_embk.append(adatas[i].obsm['k_score'])\n",
        "        all_ego_attn.append(adatas[i].obsm['ego_attn'])\n",
        "        all_local_attn.append(adatas[i].obsm['local_attn'])\n",
        "        all_global_attn.append(adatas[i].obsm['regional_attn_0'])\n",
        "        all_recon.append(adatas[i].obsm['X_recon'])\n",
        "        all_attn.append(adatas[i].obsm['attn'])\n",
        "        all_embk_glb.append(adatas[i].obsm['k_score_global'])\n",
        "    adata.obsm['q_score'] = np.vstack(all_embq)\n",
        "    adata.obsm['k_score'] = np.vstack(all_embk)\n",
        "    adata.obsm['ego_attn'] = np.vstack(all_ego_attn)\n",
        "    adata.obsm['local_attn'] = np.vstack(all_local_attn)\n",
        "    adata.obsm['global_attn'] = np.vstack(all_global_attn)\n",
        "    adata.obsm['X_recon'] = np.vstack(all_recon)\n",
        "    adata.obsm['attn'] = np.vstack(all_attn)\n",
        "    adata.obsm['k_score_global'] = np.vstack(all_embk_glb)\n",
        "gather_obs(adata, adatas)"
      ]
    },
    {
      "cell_type": "code",
      "execution_count": null,
      "id": "bc2364f1-bad5-4ba8-bc1c-8ce87b460650",
      "metadata": {
        "id": "bc2364f1-bad5-4ba8-bc1c-8ce87b460650"
      },
      "outputs": [],
      "source": [
        "adata.write_h5ad(\"saved_h5ad/mmbrain.h5ad\")"
      ]
    },
    {
      "cell_type": "code",
      "execution_count": null,
      "id": "5fa04e78-bd41-415d-ab68-0749c2eda6a9",
      "metadata": {
        "id": "5fa04e78-bd41-415d-ab68-0749c2eda6a9",
        "outputId": "6cfaaaf9-a6b0-43b1-862c-9cc4c030d476",
        "colab": {
          "referenced_widgets": [
            "ac03c39d52f34dbe88c07a4874d7d08e"
          ]
        }
      },
      "outputs": [
        {
          "data": {
            "application/vnd.jupyter.widget-view+json": {
              "model_id": "ac03c39d52f34dbe88c07a4874d7d08e",
              "version_major": 2,
              "version_minor": 0
            },
            "text/plain": [
              "  0%|          | 0/129 [00:00<?, ?it/s]"
            ]
          },
          "metadata": {},
          "output_type": "display_data"
        }
      ],
      "source": [
        "for i, adata in enumerate(tqdm(adatas)):\n",
        "    adata.write_h5ad(f\"saved_h5ad/mmbrain_{i}.h5ad\")"
      ]
    },
    {
      "cell_type": "code",
      "source": [],
      "metadata": {
        "id": "a1gRyRG3l9xT"
      },
      "id": "a1gRyRG3l9xT",
      "execution_count": null,
      "outputs": []
    }
  ],
  "metadata": {
    "kernelspec": {
      "display_name": "Python 3",
      "name": "python3"
    },
    "language_info": {
      "codemirror_mode": {
        "name": "ipython",
        "version": 3
      },
      "file_extension": ".py",
      "mimetype": "text/x-python",
      "name": "python",
      "nbconvert_exporter": "python",
      "pygments_lexer": "ipython3",
      "version": "3.11.5"
    },
    "colab": {
      "provenance": [],
      "machine_shape": "hm",
      "gpuType": "T4"
    },
    "accelerator": "GPU",
    "widgets": {
      "application/vnd.jupyter.widget-state+json": {
        "2e4727cccefb4502b8861409a9d92723": {
          "model_module": "@jupyter-widgets/controls",
          "model_name": "HBoxModel",
          "model_module_version": "1.5.0",
          "state": {
            "_dom_classes": [],
            "_model_module": "@jupyter-widgets/controls",
            "_model_module_version": "1.5.0",
            "_model_name": "HBoxModel",
            "_view_count": null,
            "_view_module": "@jupyter-widgets/controls",
            "_view_module_version": "1.5.0",
            "_view_name": "HBoxView",
            "box_style": "",
            "children": [
              "IPY_MODEL_4ca7aa042490456691ea1289453243c5",
              "IPY_MODEL_ae5e18c66537441a99e9993887455d74",
              "IPY_MODEL_4748da8ce4b24da9988c27fa1185741b"
            ],
            "layout": "IPY_MODEL_757a8ef218be4d76a1eeb855e6020f4d"
          }
        },
        "4ca7aa042490456691ea1289453243c5": {
          "model_module": "@jupyter-widgets/controls",
          "model_name": "HTMLModel",
          "model_module_version": "1.5.0",
          "state": {
            "_dom_classes": [],
            "_model_module": "@jupyter-widgets/controls",
            "_model_module_version": "1.5.0",
            "_model_name": "HTMLModel",
            "_view_count": null,
            "_view_module": "@jupyter-widgets/controls",
            "_view_module_version": "1.5.0",
            "_view_name": "HTMLView",
            "description": "",
            "description_tooltip": null,
            "layout": "IPY_MODEL_977a5383d87c447bbf956fb3eeb6cb1b",
            "placeholder": "​",
            "style": "IPY_MODEL_b148747fbac84e668a091c92332293fa",
            "value": "100%"
          }
        },
        "ae5e18c66537441a99e9993887455d74": {
          "model_module": "@jupyter-widgets/controls",
          "model_name": "FloatProgressModel",
          "model_module_version": "1.5.0",
          "state": {
            "_dom_classes": [],
            "_model_module": "@jupyter-widgets/controls",
            "_model_module_version": "1.5.0",
            "_model_name": "FloatProgressModel",
            "_view_count": null,
            "_view_module": "@jupyter-widgets/controls",
            "_view_module_version": "1.5.0",
            "_view_name": "ProgressView",
            "bar_style": "success",
            "description": "",
            "description_tooltip": null,
            "layout": "IPY_MODEL_c50f1b62168141708250cef674809e3b",
            "max": 4,
            "min": 0,
            "orientation": "horizontal",
            "style": "IPY_MODEL_ca435d1f4dc6487db734b5536ced3d3f",
            "value": 4
          }
        },
        "4748da8ce4b24da9988c27fa1185741b": {
          "model_module": "@jupyter-widgets/controls",
          "model_name": "HTMLModel",
          "model_module_version": "1.5.0",
          "state": {
            "_dom_classes": [],
            "_model_module": "@jupyter-widgets/controls",
            "_model_module_version": "1.5.0",
            "_model_name": "HTMLModel",
            "_view_count": null,
            "_view_module": "@jupyter-widgets/controls",
            "_view_module_version": "1.5.0",
            "_view_name": "HTMLView",
            "description": "",
            "description_tooltip": null,
            "layout": "IPY_MODEL_05e1ad4b4704452fbffcbf29db15f330",
            "placeholder": "​",
            "style": "IPY_MODEL_c87a6408f070465fac643b9b9a69ba5d",
            "value": " 4/4 [00:00&lt;00:00,  8.74it/s]"
          }
        },
        "757a8ef218be4d76a1eeb855e6020f4d": {
          "model_module": "@jupyter-widgets/base",
          "model_name": "LayoutModel",
          "model_module_version": "1.2.0",
          "state": {
            "_model_module": "@jupyter-widgets/base",
            "_model_module_version": "1.2.0",
            "_model_name": "LayoutModel",
            "_view_count": null,
            "_view_module": "@jupyter-widgets/base",
            "_view_module_version": "1.2.0",
            "_view_name": "LayoutView",
            "align_content": null,
            "align_items": null,
            "align_self": null,
            "border": null,
            "bottom": null,
            "display": null,
            "flex": null,
            "flex_flow": null,
            "grid_area": null,
            "grid_auto_columns": null,
            "grid_auto_flow": null,
            "grid_auto_rows": null,
            "grid_column": null,
            "grid_gap": null,
            "grid_row": null,
            "grid_template_areas": null,
            "grid_template_columns": null,
            "grid_template_rows": null,
            "height": null,
            "justify_content": null,
            "justify_items": null,
            "left": null,
            "margin": null,
            "max_height": null,
            "max_width": null,
            "min_height": null,
            "min_width": null,
            "object_fit": null,
            "object_position": null,
            "order": null,
            "overflow": null,
            "overflow_x": null,
            "overflow_y": null,
            "padding": null,
            "right": null,
            "top": null,
            "visibility": null,
            "width": null
          }
        },
        "977a5383d87c447bbf956fb3eeb6cb1b": {
          "model_module": "@jupyter-widgets/base",
          "model_name": "LayoutModel",
          "model_module_version": "1.2.0",
          "state": {
            "_model_module": "@jupyter-widgets/base",
            "_model_module_version": "1.2.0",
            "_model_name": "LayoutModel",
            "_view_count": null,
            "_view_module": "@jupyter-widgets/base",
            "_view_module_version": "1.2.0",
            "_view_name": "LayoutView",
            "align_content": null,
            "align_items": null,
            "align_self": null,
            "border": null,
            "bottom": null,
            "display": null,
            "flex": null,
            "flex_flow": null,
            "grid_area": null,
            "grid_auto_columns": null,
            "grid_auto_flow": null,
            "grid_auto_rows": null,
            "grid_column": null,
            "grid_gap": null,
            "grid_row": null,
            "grid_template_areas": null,
            "grid_template_columns": null,
            "grid_template_rows": null,
            "height": null,
            "justify_content": null,
            "justify_items": null,
            "left": null,
            "margin": null,
            "max_height": null,
            "max_width": null,
            "min_height": null,
            "min_width": null,
            "object_fit": null,
            "object_position": null,
            "order": null,
            "overflow": null,
            "overflow_x": null,
            "overflow_y": null,
            "padding": null,
            "right": null,
            "top": null,
            "visibility": null,
            "width": null
          }
        },
        "b148747fbac84e668a091c92332293fa": {
          "model_module": "@jupyter-widgets/controls",
          "model_name": "DescriptionStyleModel",
          "model_module_version": "1.5.0",
          "state": {
            "_model_module": "@jupyter-widgets/controls",
            "_model_module_version": "1.5.0",
            "_model_name": "DescriptionStyleModel",
            "_view_count": null,
            "_view_module": "@jupyter-widgets/base",
            "_view_module_version": "1.2.0",
            "_view_name": "StyleView",
            "description_width": ""
          }
        },
        "c50f1b62168141708250cef674809e3b": {
          "model_module": "@jupyter-widgets/base",
          "model_name": "LayoutModel",
          "model_module_version": "1.2.0",
          "state": {
            "_model_module": "@jupyter-widgets/base",
            "_model_module_version": "1.2.0",
            "_model_name": "LayoutModel",
            "_view_count": null,
            "_view_module": "@jupyter-widgets/base",
            "_view_module_version": "1.2.0",
            "_view_name": "LayoutView",
            "align_content": null,
            "align_items": null,
            "align_self": null,
            "border": null,
            "bottom": null,
            "display": null,
            "flex": null,
            "flex_flow": null,
            "grid_area": null,
            "grid_auto_columns": null,
            "grid_auto_flow": null,
            "grid_auto_rows": null,
            "grid_column": null,
            "grid_gap": null,
            "grid_row": null,
            "grid_template_areas": null,
            "grid_template_columns": null,
            "grid_template_rows": null,
            "height": null,
            "justify_content": null,
            "justify_items": null,
            "left": null,
            "margin": null,
            "max_height": null,
            "max_width": null,
            "min_height": null,
            "min_width": null,
            "object_fit": null,
            "object_position": null,
            "order": null,
            "overflow": null,
            "overflow_x": null,
            "overflow_y": null,
            "padding": null,
            "right": null,
            "top": null,
            "visibility": null,
            "width": null
          }
        },
        "ca435d1f4dc6487db734b5536ced3d3f": {
          "model_module": "@jupyter-widgets/controls",
          "model_name": "ProgressStyleModel",
          "model_module_version": "1.5.0",
          "state": {
            "_model_module": "@jupyter-widgets/controls",
            "_model_module_version": "1.5.0",
            "_model_name": "ProgressStyleModel",
            "_view_count": null,
            "_view_module": "@jupyter-widgets/base",
            "_view_module_version": "1.2.0",
            "_view_name": "StyleView",
            "bar_color": null,
            "description_width": ""
          }
        },
        "05e1ad4b4704452fbffcbf29db15f330": {
          "model_module": "@jupyter-widgets/base",
          "model_name": "LayoutModel",
          "model_module_version": "1.2.0",
          "state": {
            "_model_module": "@jupyter-widgets/base",
            "_model_module_version": "1.2.0",
            "_model_name": "LayoutModel",
            "_view_count": null,
            "_view_module": "@jupyter-widgets/base",
            "_view_module_version": "1.2.0",
            "_view_name": "LayoutView",
            "align_content": null,
            "align_items": null,
            "align_self": null,
            "border": null,
            "bottom": null,
            "display": null,
            "flex": null,
            "flex_flow": null,
            "grid_area": null,
            "grid_auto_columns": null,
            "grid_auto_flow": null,
            "grid_auto_rows": null,
            "grid_column": null,
            "grid_gap": null,
            "grid_row": null,
            "grid_template_areas": null,
            "grid_template_columns": null,
            "grid_template_rows": null,
            "height": null,
            "justify_content": null,
            "justify_items": null,
            "left": null,
            "margin": null,
            "max_height": null,
            "max_width": null,
            "min_height": null,
            "min_width": null,
            "object_fit": null,
            "object_position": null,
            "order": null,
            "overflow": null,
            "overflow_x": null,
            "overflow_y": null,
            "padding": null,
            "right": null,
            "top": null,
            "visibility": null,
            "width": null
          }
        },
        "c87a6408f070465fac643b9b9a69ba5d": {
          "model_module": "@jupyter-widgets/controls",
          "model_name": "DescriptionStyleModel",
          "model_module_version": "1.5.0",
          "state": {
            "_model_module": "@jupyter-widgets/controls",
            "_model_module_version": "1.5.0",
            "_model_name": "DescriptionStyleModel",
            "_view_count": null,
            "_view_module": "@jupyter-widgets/base",
            "_view_module_version": "1.2.0",
            "_view_name": "StyleView",
            "description_width": ""
          }
        },
        "5d1038b6483a4f11aa94b7c322918184": {
          "model_module": "@jupyter-widgets/controls",
          "model_name": "HBoxModel",
          "model_module_version": "1.5.0",
          "state": {
            "_dom_classes": [],
            "_model_module": "@jupyter-widgets/controls",
            "_model_module_version": "1.5.0",
            "_model_name": "HBoxModel",
            "_view_count": null,
            "_view_module": "@jupyter-widgets/controls",
            "_view_module_version": "1.5.0",
            "_view_name": "HBoxView",
            "box_style": "",
            "children": [
              "IPY_MODEL_c8d4af8584c74ed9b9d4ededba5e0975",
              "IPY_MODEL_05cb8052483444a6b60763c903348d14",
              "IPY_MODEL_302362e63b264a3987c79b173cf7825b"
            ],
            "layout": "IPY_MODEL_ae04d93c407e41259de17de0fd5a0cb1"
          }
        },
        "c8d4af8584c74ed9b9d4ededba5e0975": {
          "model_module": "@jupyter-widgets/controls",
          "model_name": "HTMLModel",
          "model_module_version": "1.5.0",
          "state": {
            "_dom_classes": [],
            "_model_module": "@jupyter-widgets/controls",
            "_model_module_version": "1.5.0",
            "_model_name": "HTMLModel",
            "_view_count": null,
            "_view_module": "@jupyter-widgets/controls",
            "_view_module_version": "1.5.0",
            "_view_name": "HTMLView",
            "description": "",
            "description_tooltip": null,
            "layout": "IPY_MODEL_9fb36812bc3242b0b44733d265c1e6a2",
            "placeholder": "​",
            "style": "IPY_MODEL_9b8b08a70a814c5ab07113a6767d364d",
            "value": "100%"
          }
        },
        "05cb8052483444a6b60763c903348d14": {
          "model_module": "@jupyter-widgets/controls",
          "model_name": "FloatProgressModel",
          "model_module_version": "1.5.0",
          "state": {
            "_dom_classes": [],
            "_model_module": "@jupyter-widgets/controls",
            "_model_module_version": "1.5.0",
            "_model_name": "FloatProgressModel",
            "_view_count": null,
            "_view_module": "@jupyter-widgets/controls",
            "_view_module_version": "1.5.0",
            "_view_name": "ProgressView",
            "bar_style": "success",
            "description": "",
            "description_tooltip": null,
            "layout": "IPY_MODEL_d59a532bab564600bf57f327f920ae84",
            "max": 4,
            "min": 0,
            "orientation": "horizontal",
            "style": "IPY_MODEL_be6a3dec8b7b428c90a617630fdb2997",
            "value": 4
          }
        },
        "302362e63b264a3987c79b173cf7825b": {
          "model_module": "@jupyter-widgets/controls",
          "model_name": "HTMLModel",
          "model_module_version": "1.5.0",
          "state": {
            "_dom_classes": [],
            "_model_module": "@jupyter-widgets/controls",
            "_model_module_version": "1.5.0",
            "_model_name": "HTMLModel",
            "_view_count": null,
            "_view_module": "@jupyter-widgets/controls",
            "_view_module_version": "1.5.0",
            "_view_name": "HTMLView",
            "description": "",
            "description_tooltip": null,
            "layout": "IPY_MODEL_90bcdab92376424dbbd6ac9eb9702d3e",
            "placeholder": "​",
            "style": "IPY_MODEL_6c4f59b04a8543589b7834d24717a7bb",
            "value": " 4/4 [00:00&lt;00:00, 12.05it/s]"
          }
        },
        "ae04d93c407e41259de17de0fd5a0cb1": {
          "model_module": "@jupyter-widgets/base",
          "model_name": "LayoutModel",
          "model_module_version": "1.2.0",
          "state": {
            "_model_module": "@jupyter-widgets/base",
            "_model_module_version": "1.2.0",
            "_model_name": "LayoutModel",
            "_view_count": null,
            "_view_module": "@jupyter-widgets/base",
            "_view_module_version": "1.2.0",
            "_view_name": "LayoutView",
            "align_content": null,
            "align_items": null,
            "align_self": null,
            "border": null,
            "bottom": null,
            "display": null,
            "flex": null,
            "flex_flow": null,
            "grid_area": null,
            "grid_auto_columns": null,
            "grid_auto_flow": null,
            "grid_auto_rows": null,
            "grid_column": null,
            "grid_gap": null,
            "grid_row": null,
            "grid_template_areas": null,
            "grid_template_columns": null,
            "grid_template_rows": null,
            "height": null,
            "justify_content": null,
            "justify_items": null,
            "left": null,
            "margin": null,
            "max_height": null,
            "max_width": null,
            "min_height": null,
            "min_width": null,
            "object_fit": null,
            "object_position": null,
            "order": null,
            "overflow": null,
            "overflow_x": null,
            "overflow_y": null,
            "padding": null,
            "right": null,
            "top": null,
            "visibility": null,
            "width": null
          }
        },
        "9fb36812bc3242b0b44733d265c1e6a2": {
          "model_module": "@jupyter-widgets/base",
          "model_name": "LayoutModel",
          "model_module_version": "1.2.0",
          "state": {
            "_model_module": "@jupyter-widgets/base",
            "_model_module_version": "1.2.0",
            "_model_name": "LayoutModel",
            "_view_count": null,
            "_view_module": "@jupyter-widgets/base",
            "_view_module_version": "1.2.0",
            "_view_name": "LayoutView",
            "align_content": null,
            "align_items": null,
            "align_self": null,
            "border": null,
            "bottom": null,
            "display": null,
            "flex": null,
            "flex_flow": null,
            "grid_area": null,
            "grid_auto_columns": null,
            "grid_auto_flow": null,
            "grid_auto_rows": null,
            "grid_column": null,
            "grid_gap": null,
            "grid_row": null,
            "grid_template_areas": null,
            "grid_template_columns": null,
            "grid_template_rows": null,
            "height": null,
            "justify_content": null,
            "justify_items": null,
            "left": null,
            "margin": null,
            "max_height": null,
            "max_width": null,
            "min_height": null,
            "min_width": null,
            "object_fit": null,
            "object_position": null,
            "order": null,
            "overflow": null,
            "overflow_x": null,
            "overflow_y": null,
            "padding": null,
            "right": null,
            "top": null,
            "visibility": null,
            "width": null
          }
        },
        "9b8b08a70a814c5ab07113a6767d364d": {
          "model_module": "@jupyter-widgets/controls",
          "model_name": "DescriptionStyleModel",
          "model_module_version": "1.5.0",
          "state": {
            "_model_module": "@jupyter-widgets/controls",
            "_model_module_version": "1.5.0",
            "_model_name": "DescriptionStyleModel",
            "_view_count": null,
            "_view_module": "@jupyter-widgets/base",
            "_view_module_version": "1.2.0",
            "_view_name": "StyleView",
            "description_width": ""
          }
        },
        "d59a532bab564600bf57f327f920ae84": {
          "model_module": "@jupyter-widgets/base",
          "model_name": "LayoutModel",
          "model_module_version": "1.2.0",
          "state": {
            "_model_module": "@jupyter-widgets/base",
            "_model_module_version": "1.2.0",
            "_model_name": "LayoutModel",
            "_view_count": null,
            "_view_module": "@jupyter-widgets/base",
            "_view_module_version": "1.2.0",
            "_view_name": "LayoutView",
            "align_content": null,
            "align_items": null,
            "align_self": null,
            "border": null,
            "bottom": null,
            "display": null,
            "flex": null,
            "flex_flow": null,
            "grid_area": null,
            "grid_auto_columns": null,
            "grid_auto_flow": null,
            "grid_auto_rows": null,
            "grid_column": null,
            "grid_gap": null,
            "grid_row": null,
            "grid_template_areas": null,
            "grid_template_columns": null,
            "grid_template_rows": null,
            "height": null,
            "justify_content": null,
            "justify_items": null,
            "left": null,
            "margin": null,
            "max_height": null,
            "max_width": null,
            "min_height": null,
            "min_width": null,
            "object_fit": null,
            "object_position": null,
            "order": null,
            "overflow": null,
            "overflow_x": null,
            "overflow_y": null,
            "padding": null,
            "right": null,
            "top": null,
            "visibility": null,
            "width": null
          }
        },
        "be6a3dec8b7b428c90a617630fdb2997": {
          "model_module": "@jupyter-widgets/controls",
          "model_name": "ProgressStyleModel",
          "model_module_version": "1.5.0",
          "state": {
            "_model_module": "@jupyter-widgets/controls",
            "_model_module_version": "1.5.0",
            "_model_name": "ProgressStyleModel",
            "_view_count": null,
            "_view_module": "@jupyter-widgets/base",
            "_view_module_version": "1.2.0",
            "_view_name": "StyleView",
            "bar_color": null,
            "description_width": ""
          }
        },
        "90bcdab92376424dbbd6ac9eb9702d3e": {
          "model_module": "@jupyter-widgets/base",
          "model_name": "LayoutModel",
          "model_module_version": "1.2.0",
          "state": {
            "_model_module": "@jupyter-widgets/base",
            "_model_module_version": "1.2.0",
            "_model_name": "LayoutModel",
            "_view_count": null,
            "_view_module": "@jupyter-widgets/base",
            "_view_module_version": "1.2.0",
            "_view_name": "LayoutView",
            "align_content": null,
            "align_items": null,
            "align_self": null,
            "border": null,
            "bottom": null,
            "display": null,
            "flex": null,
            "flex_flow": null,
            "grid_area": null,
            "grid_auto_columns": null,
            "grid_auto_flow": null,
            "grid_auto_rows": null,
            "grid_column": null,
            "grid_gap": null,
            "grid_row": null,
            "grid_template_areas": null,
            "grid_template_columns": null,
            "grid_template_rows": null,
            "height": null,
            "justify_content": null,
            "justify_items": null,
            "left": null,
            "margin": null,
            "max_height": null,
            "max_width": null,
            "min_height": null,
            "min_width": null,
            "object_fit": null,
            "object_position": null,
            "order": null,
            "overflow": null,
            "overflow_x": null,
            "overflow_y": null,
            "padding": null,
            "right": null,
            "top": null,
            "visibility": null,
            "width": null
          }
        },
        "6c4f59b04a8543589b7834d24717a7bb": {
          "model_module": "@jupyter-widgets/controls",
          "model_name": "DescriptionStyleModel",
          "model_module_version": "1.5.0",
          "state": {
            "_model_module": "@jupyter-widgets/controls",
            "_model_module_version": "1.5.0",
            "_model_name": "DescriptionStyleModel",
            "_view_count": null,
            "_view_module": "@jupyter-widgets/base",
            "_view_module_version": "1.2.0",
            "_view_name": "StyleView",
            "description_width": ""
          }
        },
        "61a3518269a14575852a49283162d224": {
          "model_module": "@jupyter-widgets/controls",
          "model_name": "HBoxModel",
          "model_module_version": "1.5.0",
          "state": {
            "_dom_classes": [],
            "_model_module": "@jupyter-widgets/controls",
            "_model_module_version": "1.5.0",
            "_model_name": "HBoxModel",
            "_view_count": null,
            "_view_module": "@jupyter-widgets/controls",
            "_view_module_version": "1.5.0",
            "_view_name": "HBoxView",
            "box_style": "",
            "children": [
              "IPY_MODEL_ce52158c1cf84aa7bd02dd730b6bd11a",
              "IPY_MODEL_f753f0af992842f9ab87b02cbce64755",
              "IPY_MODEL_ecdb0595f73a4d6a835e735f34f995c4"
            ],
            "layout": "IPY_MODEL_d01358da034649a78e2e7b486714f7d1"
          }
        },
        "ce52158c1cf84aa7bd02dd730b6bd11a": {
          "model_module": "@jupyter-widgets/controls",
          "model_name": "HTMLModel",
          "model_module_version": "1.5.0",
          "state": {
            "_dom_classes": [],
            "_model_module": "@jupyter-widgets/controls",
            "_model_module_version": "1.5.0",
            "_model_name": "HTMLModel",
            "_view_count": null,
            "_view_module": "@jupyter-widgets/controls",
            "_view_module_version": "1.5.0",
            "_view_name": "HTMLView",
            "description": "",
            "description_tooltip": null,
            "layout": "IPY_MODEL_fd5bf853f8e347df9a4f7146dd89894d",
            "placeholder": "​",
            "style": "IPY_MODEL_817f656c5c4e438e9cac4689fb850944",
            "value": "100%"
          }
        },
        "f753f0af992842f9ab87b02cbce64755": {
          "model_module": "@jupyter-widgets/controls",
          "model_name": "FloatProgressModel",
          "model_module_version": "1.5.0",
          "state": {
            "_dom_classes": [],
            "_model_module": "@jupyter-widgets/controls",
            "_model_module_version": "1.5.0",
            "_model_name": "FloatProgressModel",
            "_view_count": null,
            "_view_module": "@jupyter-widgets/controls",
            "_view_module_version": "1.5.0",
            "_view_name": "ProgressView",
            "bar_style": "success",
            "description": "",
            "description_tooltip": null,
            "layout": "IPY_MODEL_b4bd70714fa9466fbc3cd3235fb33ce8",
            "max": 4,
            "min": 0,
            "orientation": "horizontal",
            "style": "IPY_MODEL_1b4fd8e6164b4b2ab5517ed27b9e3cf3",
            "value": 4
          }
        },
        "ecdb0595f73a4d6a835e735f34f995c4": {
          "model_module": "@jupyter-widgets/controls",
          "model_name": "HTMLModel",
          "model_module_version": "1.5.0",
          "state": {
            "_dom_classes": [],
            "_model_module": "@jupyter-widgets/controls",
            "_model_module_version": "1.5.0",
            "_model_name": "HTMLModel",
            "_view_count": null,
            "_view_module": "@jupyter-widgets/controls",
            "_view_module_version": "1.5.0",
            "_view_name": "HTMLView",
            "description": "",
            "description_tooltip": null,
            "layout": "IPY_MODEL_43196399859b4b9cb89c448732e217d2",
            "placeholder": "​",
            "style": "IPY_MODEL_cdd44522688041cbb6336f623d831163",
            "value": " 4/4 [00:06&lt;00:00,  1.44s/it]"
          }
        },
        "d01358da034649a78e2e7b486714f7d1": {
          "model_module": "@jupyter-widgets/base",
          "model_name": "LayoutModel",
          "model_module_version": "1.2.0",
          "state": {
            "_model_module": "@jupyter-widgets/base",
            "_model_module_version": "1.2.0",
            "_model_name": "LayoutModel",
            "_view_count": null,
            "_view_module": "@jupyter-widgets/base",
            "_view_module_version": "1.2.0",
            "_view_name": "LayoutView",
            "align_content": null,
            "align_items": null,
            "align_self": null,
            "border": null,
            "bottom": null,
            "display": null,
            "flex": null,
            "flex_flow": null,
            "grid_area": null,
            "grid_auto_columns": null,
            "grid_auto_flow": null,
            "grid_auto_rows": null,
            "grid_column": null,
            "grid_gap": null,
            "grid_row": null,
            "grid_template_areas": null,
            "grid_template_columns": null,
            "grid_template_rows": null,
            "height": null,
            "justify_content": null,
            "justify_items": null,
            "left": null,
            "margin": null,
            "max_height": null,
            "max_width": null,
            "min_height": null,
            "min_width": null,
            "object_fit": null,
            "object_position": null,
            "order": null,
            "overflow": null,
            "overflow_x": null,
            "overflow_y": null,
            "padding": null,
            "right": null,
            "top": null,
            "visibility": null,
            "width": null
          }
        },
        "fd5bf853f8e347df9a4f7146dd89894d": {
          "model_module": "@jupyter-widgets/base",
          "model_name": "LayoutModel",
          "model_module_version": "1.2.0",
          "state": {
            "_model_module": "@jupyter-widgets/base",
            "_model_module_version": "1.2.0",
            "_model_name": "LayoutModel",
            "_view_count": null,
            "_view_module": "@jupyter-widgets/base",
            "_view_module_version": "1.2.0",
            "_view_name": "LayoutView",
            "align_content": null,
            "align_items": null,
            "align_self": null,
            "border": null,
            "bottom": null,
            "display": null,
            "flex": null,
            "flex_flow": null,
            "grid_area": null,
            "grid_auto_columns": null,
            "grid_auto_flow": null,
            "grid_auto_rows": null,
            "grid_column": null,
            "grid_gap": null,
            "grid_row": null,
            "grid_template_areas": null,
            "grid_template_columns": null,
            "grid_template_rows": null,
            "height": null,
            "justify_content": null,
            "justify_items": null,
            "left": null,
            "margin": null,
            "max_height": null,
            "max_width": null,
            "min_height": null,
            "min_width": null,
            "object_fit": null,
            "object_position": null,
            "order": null,
            "overflow": null,
            "overflow_x": null,
            "overflow_y": null,
            "padding": null,
            "right": null,
            "top": null,
            "visibility": null,
            "width": null
          }
        },
        "817f656c5c4e438e9cac4689fb850944": {
          "model_module": "@jupyter-widgets/controls",
          "model_name": "DescriptionStyleModel",
          "model_module_version": "1.5.0",
          "state": {
            "_model_module": "@jupyter-widgets/controls",
            "_model_module_version": "1.5.0",
            "_model_name": "DescriptionStyleModel",
            "_view_count": null,
            "_view_module": "@jupyter-widgets/base",
            "_view_module_version": "1.2.0",
            "_view_name": "StyleView",
            "description_width": ""
          }
        },
        "b4bd70714fa9466fbc3cd3235fb33ce8": {
          "model_module": "@jupyter-widgets/base",
          "model_name": "LayoutModel",
          "model_module_version": "1.2.0",
          "state": {
            "_model_module": "@jupyter-widgets/base",
            "_model_module_version": "1.2.0",
            "_model_name": "LayoutModel",
            "_view_count": null,
            "_view_module": "@jupyter-widgets/base",
            "_view_module_version": "1.2.0",
            "_view_name": "LayoutView",
            "align_content": null,
            "align_items": null,
            "align_self": null,
            "border": null,
            "bottom": null,
            "display": null,
            "flex": null,
            "flex_flow": null,
            "grid_area": null,
            "grid_auto_columns": null,
            "grid_auto_flow": null,
            "grid_auto_rows": null,
            "grid_column": null,
            "grid_gap": null,
            "grid_row": null,
            "grid_template_areas": null,
            "grid_template_columns": null,
            "grid_template_rows": null,
            "height": null,
            "justify_content": null,
            "justify_items": null,
            "left": null,
            "margin": null,
            "max_height": null,
            "max_width": null,
            "min_height": null,
            "min_width": null,
            "object_fit": null,
            "object_position": null,
            "order": null,
            "overflow": null,
            "overflow_x": null,
            "overflow_y": null,
            "padding": null,
            "right": null,
            "top": null,
            "visibility": null,
            "width": null
          }
        },
        "1b4fd8e6164b4b2ab5517ed27b9e3cf3": {
          "model_module": "@jupyter-widgets/controls",
          "model_name": "ProgressStyleModel",
          "model_module_version": "1.5.0",
          "state": {
            "_model_module": "@jupyter-widgets/controls",
            "_model_module_version": "1.5.0",
            "_model_name": "ProgressStyleModel",
            "_view_count": null,
            "_view_module": "@jupyter-widgets/base",
            "_view_module_version": "1.2.0",
            "_view_name": "StyleView",
            "bar_color": null,
            "description_width": ""
          }
        },
        "43196399859b4b9cb89c448732e217d2": {
          "model_module": "@jupyter-widgets/base",
          "model_name": "LayoutModel",
          "model_module_version": "1.2.0",
          "state": {
            "_model_module": "@jupyter-widgets/base",
            "_model_module_version": "1.2.0",
            "_model_name": "LayoutModel",
            "_view_count": null,
            "_view_module": "@jupyter-widgets/base",
            "_view_module_version": "1.2.0",
            "_view_name": "LayoutView",
            "align_content": null,
            "align_items": null,
            "align_self": null,
            "border": null,
            "bottom": null,
            "display": null,
            "flex": null,
            "flex_flow": null,
            "grid_area": null,
            "grid_auto_columns": null,
            "grid_auto_flow": null,
            "grid_auto_rows": null,
            "grid_column": null,
            "grid_gap": null,
            "grid_row": null,
            "grid_template_areas": null,
            "grid_template_columns": null,
            "grid_template_rows": null,
            "height": null,
            "justify_content": null,
            "justify_items": null,
            "left": null,
            "margin": null,
            "max_height": null,
            "max_width": null,
            "min_height": null,
            "min_width": null,
            "object_fit": null,
            "object_position": null,
            "order": null,
            "overflow": null,
            "overflow_x": null,
            "overflow_y": null,
            "padding": null,
            "right": null,
            "top": null,
            "visibility": null,
            "width": null
          }
        },
        "cdd44522688041cbb6336f623d831163": {
          "model_module": "@jupyter-widgets/controls",
          "model_name": "DescriptionStyleModel",
          "model_module_version": "1.5.0",
          "state": {
            "_model_module": "@jupyter-widgets/controls",
            "_model_module_version": "1.5.0",
            "_model_name": "DescriptionStyleModel",
            "_view_count": null,
            "_view_module": "@jupyter-widgets/base",
            "_view_module_version": "1.2.0",
            "_view_name": "StyleView",
            "description_width": ""
          }
        }
      }
    }
  },
  "nbformat": 4,
  "nbformat_minor": 5
}