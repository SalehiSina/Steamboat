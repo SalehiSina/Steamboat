{
 "cells": [
  {
   "cell_type": "code",
   "execution_count": 1,
   "id": "04d75f4e-6ee4-4b6a-bfdf-6ff6b5177505",
   "metadata": {},
   "outputs": [
    {
     "name": "stderr",
     "output_type": "stream",
     "text": [
      "C:\\Users\\lshh\\miniconda3\\envs\\py311_torch211_cuda121\\Lib\\site-packages\\dask\\dataframe\\_pyarrow_compat.py:15: FutureWarning: Minimal version of pyarrow will soon be increased to 14.0.1. You are using 11.0.0. Please consider upgrading.\n",
      "  warnings.warn(\n"
     ]
    }
   ],
   "source": [
    "import scanpy as sc\n",
    "import squidpy as sq\n",
    "import pandas as pd\n",
    "import matplotlib.pyplot as plt\n",
    "from tqdm.notebook import tqdm\n",
    "import numba\n",
    "import numpy as np\n",
    "import torch\n",
    "\n",
    "import sys\n",
    "sys.path.append(\"../\")\n",
    "import steamboat as sf\n",
    "import steamboat.tools\n",
    "\n",
    "import matplotlib\n",
    "plt.rcParams['pdf.fonttype'] = 42\n",
    "matplotlib.rcParams['mathtext.fontset'] = 'dejavuserif'\n",
    "matplotlib.rcParams['font.family'] = 'arial'"
   ]
  },
  {
   "cell_type": "code",
   "execution_count": 2,
   "id": "ed0543f1-c938-48c6-9116-7db0ad4da7ec",
   "metadata": {},
   "outputs": [
    {
     "data": {
      "application/vnd.jupyter.widget-view+json": {
       "model_id": "08c69773d4d1427faab919db680719e9",
       "version_major": 2,
       "version_minor": 0
      },
      "text/plain": [
       "  0%|          | 0/1 [00:00<?, ?it/s]"
      ]
     },
     "metadata": {},
     "output_type": "display_data"
    }
   ],
   "source": [
    "adata = sc.read_h5ad(\"G:/data/perturbfish/cleaned/tumors_qc_test.h5ad\")\n",
    "adata\n",
    "\n",
    "# The stored data is already transformed. This step is to find the spatial neighbors.\n",
    "adatas = sf.prep_adatas([adata], norm=False, log1p=False, n_neighs=8)"
   ]
  },
  {
   "cell_type": "code",
   "execution_count": 3,
   "id": "e77fd7da-bba0-4458-b76c-3b2848449432",
   "metadata": {},
   "outputs": [],
   "source": [
    "test_vars = ['CHUK', 'IRAK1', 'TRAM1', 'LBP', 'IRAK4', 'PELI1', 'TAB2', 'MAP2K2', 'MAP2K6', 'IRF7', 'MYD88']"
   ]
  },
  {
   "cell_type": "code",
   "execution_count": 4,
   "id": "f08ca1d7-f58e-465a-8790-753608cda4e7",
   "metadata": {},
   "outputs": [
    {
     "name": "stderr",
     "output_type": "stream",
     "text": [
      "C:\\Users\\lshh\\miniconda3\\envs\\py311_torch211_cuda121\\Lib\\site-packages\\numpy\\core\\fromnumeric.py:86: FutureWarning: The behavior of DataFrame.sum with axis=None is deprecated, in a future version this will reduce over both axes and return a scalar. To retain the old behavior, pass axis=0 (or do not pass axis)\n",
      "  return reduction(axis=axis, out=out, **passkwargs)\n"
     ]
    },
    {
     "data": {
      "application/vnd.jupyter.widget-view+json": {
       "model_id": "97e74b3f26df428a99ae1b4f84e79d61",
       "version_major": 2,
       "version_minor": 0
      },
      "text/plain": [
       "  0%|          | 0/1 [00:00<?, ?it/s]"
      ]
     },
     "metadata": {},
     "output_type": "display_data"
    },
    {
     "name": "stdout",
     "output_type": "stream",
     "text": [
      "Using [] as regional annotations.\n"
     ]
    },
    {
     "data": {
      "application/vnd.jupyter.widget-view+json": {
       "model_id": "8118a42ce6194145be41d285fd4f02ef",
       "version_major": 2,
       "version_minor": 0
      },
      "text/plain": [
       "  0%|          | 0/1 [00:00<?, ?it/s]"
      ]
     },
     "metadata": {},
     "output_type": "display_data"
    },
    {
     "name": "stderr",
     "output_type": "stream",
     "text": [
      "[2025-05-29 06:56:23,215::train::INFO] Epoch 1: train_loss 87.13202\n",
      "[2025-05-29 06:56:32,706::train::INFO] Epoch 501: train_loss 29.81152\n",
      "[2025-05-29 06:56:42,214::train::INFO] Epoch 1001: train_loss 28.40072\n",
      "[2025-05-29 06:56:51,777::train::INFO] Epoch 1501: train_loss 27.06084\n",
      "[2025-05-29 06:57:01,549::train::INFO] Epoch 2001: train_loss 26.81887\n",
      "[2025-05-29 06:57:11,132::train::INFO] Epoch 2501: train_loss 25.92734\n",
      "[2025-05-29 06:57:11,173::train::INFO] Epoch 2503: train_loss 25.25998\n",
      "[2025-05-29 06:57:11,174::train::INFO] Stopping criterion met.\n"
     ]
    },
    {
     "name": "stdout",
     "output_type": "stream",
     "text": [
      "Using [] as regional annotations.\n"
     ]
    },
    {
     "data": {
      "application/vnd.jupyter.widget-view+json": {
       "model_id": "02e035c99204455098898ec805829089",
       "version_major": 2,
       "version_minor": 0
      },
      "text/plain": [
       "  0%|          | 0/1 [00:00<?, ?it/s]"
      ]
     },
     "metadata": {},
     "output_type": "display_data"
    },
    {
     "data": {
      "application/vnd.jupyter.widget-view+json": {
       "model_id": "effdb125318a49bbb4e44c29395aaea2",
       "version_major": 2,
       "version_minor": 0
      },
      "text/plain": [
       "  0%|          | 0/1 [00:00<?, ?it/s]"
      ]
     },
     "metadata": {},
     "output_type": "display_data"
    },
    {
     "data": {
      "application/vnd.jupyter.widget-view+json": {
       "model_id": "46e3639706ec463d8dd38ad6bf566b94",
       "version_major": 2,
       "version_minor": 0
      },
      "text/plain": [
       "  0%|          | 0/1 [00:00<?, ?it/s]"
      ]
     },
     "metadata": {},
     "output_type": "display_data"
    },
    {
     "name": "stderr",
     "output_type": "stream",
     "text": [
      "C:\\Users\\lshh\\miniconda3\\envs\\py311_torch211_cuda121\\Lib\\site-packages\\numpy\\core\\fromnumeric.py:86: FutureWarning: The behavior of DataFrame.sum with axis=None is deprecated, in a future version this will reduce over both axes and return a scalar. To retain the old behavior, pass axis=0 (or do not pass axis)\n",
      "  return reduction(axis=axis, out=out, **passkwargs)\n"
     ]
    },
    {
     "name": "stdout",
     "output_type": "stream",
     "text": [
      "CHUK:  0.05\n"
     ]
    },
    {
     "name": "stderr",
     "output_type": "stream",
     "text": [
      "C:\\Users\\lshh\\miniconda3\\envs\\py311_torch211_cuda121\\Lib\\site-packages\\numpy\\core\\fromnumeric.py:86: FutureWarning: The behavior of DataFrame.sum with axis=None is deprecated, in a future version this will reduce over both axes and return a scalar. To retain the old behavior, pass axis=0 (or do not pass axis)\n",
      "  return reduction(axis=axis, out=out, **passkwargs)\n"
     ]
    },
    {
     "data": {
      "application/vnd.jupyter.widget-view+json": {
       "model_id": "e1c14bd623984fd49eff80b3da90b1ed",
       "version_major": 2,
       "version_minor": 0
      },
      "text/plain": [
       "  0%|          | 0/1 [00:00<?, ?it/s]"
      ]
     },
     "metadata": {},
     "output_type": "display_data"
    },
    {
     "name": "stdout",
     "output_type": "stream",
     "text": [
      "Using [] as regional annotations.\n"
     ]
    },
    {
     "data": {
      "application/vnd.jupyter.widget-view+json": {
       "model_id": "c32da45af95740f198cafcb5036ecc9c",
       "version_major": 2,
       "version_minor": 0
      },
      "text/plain": [
       "  0%|          | 0/1 [00:00<?, ?it/s]"
      ]
     },
     "metadata": {},
     "output_type": "display_data"
    },
    {
     "name": "stderr",
     "output_type": "stream",
     "text": [
      "[2025-05-29 06:57:26,496::train::INFO] Epoch 1: train_loss 87.13274\n",
      "[2025-05-29 06:57:36,053::train::INFO] Epoch 501: train_loss 29.81694\n",
      "[2025-05-29 06:57:45,623::train::INFO] Epoch 1001: train_loss 28.39801\n",
      "[2025-05-29 06:57:55,242::train::INFO] Epoch 1501: train_loss 27.16671\n",
      "[2025-05-29 06:58:05,040::train::INFO] Epoch 2001: train_loss 26.70186\n",
      "[2025-05-29 06:58:14,658::train::INFO] Epoch 2501: train_loss 25.95170\n",
      "[2025-05-29 06:58:19,828::train::INFO] Epoch 2770: train_loss 25.45509\n",
      "[2025-05-29 06:58:19,829::train::INFO] Stopping criterion met.\n"
     ]
    },
    {
     "name": "stdout",
     "output_type": "stream",
     "text": [
      "Using [] as regional annotations.\n"
     ]
    },
    {
     "data": {
      "application/vnd.jupyter.widget-view+json": {
       "model_id": "41204420c46644d5821f36e4e7ff3e54",
       "version_major": 2,
       "version_minor": 0
      },
      "text/plain": [
       "  0%|          | 0/1 [00:00<?, ?it/s]"
      ]
     },
     "metadata": {},
     "output_type": "display_data"
    },
    {
     "data": {
      "application/vnd.jupyter.widget-view+json": {
       "model_id": "1b539db4aa334983afd82048783c014a",
       "version_major": 2,
       "version_minor": 0
      },
      "text/plain": [
       "  0%|          | 0/1 [00:00<?, ?it/s]"
      ]
     },
     "metadata": {},
     "output_type": "display_data"
    },
    {
     "data": {
      "application/vnd.jupyter.widget-view+json": {
       "model_id": "31c5074b3e654bf6af221f5721079da1",
       "version_major": 2,
       "version_minor": 0
      },
      "text/plain": [
       "  0%|          | 0/1 [00:00<?, ?it/s]"
      ]
     },
     "metadata": {},
     "output_type": "display_data"
    },
    {
     "name": "stderr",
     "output_type": "stream",
     "text": [
      "C:\\Users\\lshh\\miniconda3\\envs\\py311_torch211_cuda121\\Lib\\site-packages\\numpy\\core\\fromnumeric.py:86: FutureWarning: The behavior of DataFrame.sum with axis=None is deprecated, in a future version this will reduce over both axes and return a scalar. To retain the old behavior, pass axis=0 (or do not pass axis)\n",
      "  return reduction(axis=axis, out=out, **passkwargs)\n"
     ]
    },
    {
     "name": "stdout",
     "output_type": "stream",
     "text": [
      "IRAK1:  0.37\n"
     ]
    },
    {
     "name": "stderr",
     "output_type": "stream",
     "text": [
      "C:\\Users\\lshh\\miniconda3\\envs\\py311_torch211_cuda121\\Lib\\site-packages\\numpy\\core\\fromnumeric.py:86: FutureWarning: The behavior of DataFrame.sum with axis=None is deprecated, in a future version this will reduce over both axes and return a scalar. To retain the old behavior, pass axis=0 (or do not pass axis)\n",
      "  return reduction(axis=axis, out=out, **passkwargs)\n"
     ]
    },
    {
     "data": {
      "application/vnd.jupyter.widget-view+json": {
       "model_id": "e5c946e9809a4cc698b380d99b21a318",
       "version_major": 2,
       "version_minor": 0
      },
      "text/plain": [
       "  0%|          | 0/1 [00:00<?, ?it/s]"
      ]
     },
     "metadata": {},
     "output_type": "display_data"
    },
    {
     "name": "stdout",
     "output_type": "stream",
     "text": [
      "Using [] as regional annotations.\n"
     ]
    },
    {
     "data": {
      "application/vnd.jupyter.widget-view+json": {
       "model_id": "36fd3dbbf4374131b2a4aafca41f25a0",
       "version_major": 2,
       "version_minor": 0
      },
      "text/plain": [
       "  0%|          | 0/1 [00:00<?, ?it/s]"
      ]
     },
     "metadata": {},
     "output_type": "display_data"
    },
    {
     "name": "stderr",
     "output_type": "stream",
     "text": [
      "[2025-05-29 06:58:33,532::train::INFO] Epoch 1: train_loss 87.13361\n",
      "[2025-05-29 06:58:43,107::train::INFO] Epoch 501: train_loss 29.81323\n",
      "[2025-05-29 06:58:52,724::train::INFO] Epoch 1001: train_loss 28.38631\n",
      "[2025-05-29 06:59:02,450::train::INFO] Epoch 1501: train_loss 27.05764\n",
      "[2025-05-29 06:59:12,191::train::INFO] Epoch 2001: train_loss 26.82323\n",
      "[2025-05-29 06:59:21,816::train::INFO] Epoch 2501: train_loss 25.95886\n",
      "[2025-05-29 06:59:21,857::train::INFO] Epoch 2503: train_loss 25.30569\n",
      "[2025-05-29 06:59:21,858::train::INFO] Stopping criterion met.\n"
     ]
    },
    {
     "name": "stdout",
     "output_type": "stream",
     "text": [
      "Using [] as regional annotations.\n"
     ]
    },
    {
     "data": {
      "application/vnd.jupyter.widget-view+json": {
       "model_id": "783570ef504043c18bf147514ce7fd43",
       "version_major": 2,
       "version_minor": 0
      },
      "text/plain": [
       "  0%|          | 0/1 [00:00<?, ?it/s]"
      ]
     },
     "metadata": {},
     "output_type": "display_data"
    },
    {
     "data": {
      "application/vnd.jupyter.widget-view+json": {
       "model_id": "c70ada6ecea34d86836ffb1f8d248d6c",
       "version_major": 2,
       "version_minor": 0
      },
      "text/plain": [
       "  0%|          | 0/1 [00:00<?, ?it/s]"
      ]
     },
     "metadata": {},
     "output_type": "display_data"
    },
    {
     "data": {
      "application/vnd.jupyter.widget-view+json": {
       "model_id": "a3c5e153871b49ceb9cbd95395852b08",
       "version_major": 2,
       "version_minor": 0
      },
      "text/plain": [
       "  0%|          | 0/1 [00:00<?, ?it/s]"
      ]
     },
     "metadata": {},
     "output_type": "display_data"
    },
    {
     "name": "stderr",
     "output_type": "stream",
     "text": [
      "C:\\Users\\lshh\\miniconda3\\envs\\py311_torch211_cuda121\\Lib\\site-packages\\numpy\\core\\fromnumeric.py:86: FutureWarning: The behavior of DataFrame.sum with axis=None is deprecated, in a future version this will reduce over both axes and return a scalar. To retain the old behavior, pass axis=0 (or do not pass axis)\n",
      "  return reduction(axis=axis, out=out, **passkwargs)\n"
     ]
    },
    {
     "name": "stdout",
     "output_type": "stream",
     "text": [
      "TRAM1:  0.71\n"
     ]
    },
    {
     "name": "stderr",
     "output_type": "stream",
     "text": [
      "C:\\Users\\lshh\\miniconda3\\envs\\py311_torch211_cuda121\\Lib\\site-packages\\numpy\\core\\fromnumeric.py:86: FutureWarning: The behavior of DataFrame.sum with axis=None is deprecated, in a future version this will reduce over both axes and return a scalar. To retain the old behavior, pass axis=0 (or do not pass axis)\n",
      "  return reduction(axis=axis, out=out, **passkwargs)\n"
     ]
    },
    {
     "data": {
      "application/vnd.jupyter.widget-view+json": {
       "model_id": "a2ac5a1d273b4b1f873a14bfed0b0413",
       "version_major": 2,
       "version_minor": 0
      },
      "text/plain": [
       "  0%|          | 0/1 [00:00<?, ?it/s]"
      ]
     },
     "metadata": {},
     "output_type": "display_data"
    },
    {
     "name": "stdout",
     "output_type": "stream",
     "text": [
      "Using [] as regional annotations.\n"
     ]
    },
    {
     "data": {
      "application/vnd.jupyter.widget-view+json": {
       "model_id": "57a00342178145498721257a8cfc6c98",
       "version_major": 2,
       "version_minor": 0
      },
      "text/plain": [
       "  0%|          | 0/1 [00:00<?, ?it/s]"
      ]
     },
     "metadata": {},
     "output_type": "display_data"
    },
    {
     "name": "stderr",
     "output_type": "stream",
     "text": [
      "[2025-05-29 06:59:35,976::train::INFO] Epoch 1: train_loss 87.13337\n",
      "[2025-05-29 06:59:45,551::train::INFO] Epoch 501: train_loss 29.81038\n",
      "[2025-05-29 06:59:55,188::train::INFO] Epoch 1001: train_loss 28.42270\n",
      "[2025-05-29 07:00:04,907::train::INFO] Epoch 1501: train_loss 27.04279\n",
      "[2025-05-29 07:00:14,622::train::INFO] Epoch 2001: train_loss 26.81478\n",
      "[2025-05-29 07:00:24,259::train::INFO] Epoch 2501: train_loss 25.96813\n",
      "[2025-05-29 07:00:24,300::train::INFO] Epoch 2503: train_loss 25.31587\n",
      "[2025-05-29 07:00:24,300::train::INFO] Stopping criterion met.\n"
     ]
    },
    {
     "name": "stdout",
     "output_type": "stream",
     "text": [
      "Using [] as regional annotations.\n"
     ]
    },
    {
     "data": {
      "application/vnd.jupyter.widget-view+json": {
       "model_id": "a8b4ebbd785543ae8f1e1f06a7815f93",
       "version_major": 2,
       "version_minor": 0
      },
      "text/plain": [
       "  0%|          | 0/1 [00:00<?, ?it/s]"
      ]
     },
     "metadata": {},
     "output_type": "display_data"
    },
    {
     "data": {
      "application/vnd.jupyter.widget-view+json": {
       "model_id": "ac6699891ac0486a8b65a2f49b917cab",
       "version_major": 2,
       "version_minor": 0
      },
      "text/plain": [
       "  0%|          | 0/1 [00:00<?, ?it/s]"
      ]
     },
     "metadata": {},
     "output_type": "display_data"
    },
    {
     "data": {
      "application/vnd.jupyter.widget-view+json": {
       "model_id": "58686e853cdc4411b8edcf6de97db971",
       "version_major": 2,
       "version_minor": 0
      },
      "text/plain": [
       "  0%|          | 0/1 [00:00<?, ?it/s]"
      ]
     },
     "metadata": {},
     "output_type": "display_data"
    },
    {
     "name": "stderr",
     "output_type": "stream",
     "text": [
      "C:\\Users\\lshh\\miniconda3\\envs\\py311_torch211_cuda121\\Lib\\site-packages\\numpy\\core\\fromnumeric.py:86: FutureWarning: The behavior of DataFrame.sum with axis=None is deprecated, in a future version this will reduce over both axes and return a scalar. To retain the old behavior, pass axis=0 (or do not pass axis)\n",
      "  return reduction(axis=axis, out=out, **passkwargs)\n"
     ]
    },
    {
     "name": "stdout",
     "output_type": "stream",
     "text": [
      "LBP:  0.48\n"
     ]
    },
    {
     "name": "stderr",
     "output_type": "stream",
     "text": [
      "C:\\Users\\lshh\\miniconda3\\envs\\py311_torch211_cuda121\\Lib\\site-packages\\numpy\\core\\fromnumeric.py:86: FutureWarning: The behavior of DataFrame.sum with axis=None is deprecated, in a future version this will reduce over both axes and return a scalar. To retain the old behavior, pass axis=0 (or do not pass axis)\n",
      "  return reduction(axis=axis, out=out, **passkwargs)\n"
     ]
    },
    {
     "data": {
      "application/vnd.jupyter.widget-view+json": {
       "model_id": "7fd58c699fc34ab9a2e3c367a6ee68ba",
       "version_major": 2,
       "version_minor": 0
      },
      "text/plain": [
       "  0%|          | 0/1 [00:00<?, ?it/s]"
      ]
     },
     "metadata": {},
     "output_type": "display_data"
    },
    {
     "name": "stdout",
     "output_type": "stream",
     "text": [
      "Using [] as regional annotations.\n"
     ]
    },
    {
     "data": {
      "application/vnd.jupyter.widget-view+json": {
       "model_id": "8c77f25d17714592b2f9f8f9791a87c0",
       "version_major": 2,
       "version_minor": 0
      },
      "text/plain": [
       "  0%|          | 0/1 [00:00<?, ?it/s]"
      ]
     },
     "metadata": {},
     "output_type": "display_data"
    },
    {
     "name": "stderr",
     "output_type": "stream",
     "text": [
      "[2025-05-29 07:00:38,183::train::INFO] Epoch 1: train_loss 87.13642\n",
      "[2025-05-29 07:00:47,758::train::INFO] Epoch 501: train_loss 29.82709\n",
      "[2025-05-29 07:00:57,395::train::INFO] Epoch 1001: train_loss 28.40994\n",
      "[2025-05-29 07:01:07,121::train::INFO] Epoch 1501: train_loss 27.16258\n",
      "[2025-05-29 07:01:16,834::train::INFO] Epoch 2001: train_loss 26.71648\n",
      "[2025-05-29 07:01:26,456::train::INFO] Epoch 2501: train_loss 25.93661\n",
      "[2025-05-29 07:01:36,104::train::INFO] Epoch 3001: train_loss 25.19922\n",
      "[2025-05-29 07:01:41,093::train::INFO] Epoch 3260: train_loss 25.13174\n",
      "[2025-05-29 07:01:41,093::train::INFO] Stopping criterion met.\n"
     ]
    },
    {
     "name": "stdout",
     "output_type": "stream",
     "text": [
      "Using [] as regional annotations.\n"
     ]
    },
    {
     "data": {
      "application/vnd.jupyter.widget-view+json": {
       "model_id": "2704168eecb54ceb873a84bc4aa93915",
       "version_major": 2,
       "version_minor": 0
      },
      "text/plain": [
       "  0%|          | 0/1 [00:00<?, ?it/s]"
      ]
     },
     "metadata": {},
     "output_type": "display_data"
    },
    {
     "data": {
      "application/vnd.jupyter.widget-view+json": {
       "model_id": "1b08c44bdd3f415e88014c8662a6a4ec",
       "version_major": 2,
       "version_minor": 0
      },
      "text/plain": [
       "  0%|          | 0/1 [00:00<?, ?it/s]"
      ]
     },
     "metadata": {},
     "output_type": "display_data"
    },
    {
     "data": {
      "application/vnd.jupyter.widget-view+json": {
       "model_id": "96c3ed4a01a64edb872a13b3004de744",
       "version_major": 2,
       "version_minor": 0
      },
      "text/plain": [
       "  0%|          | 0/1 [00:00<?, ?it/s]"
      ]
     },
     "metadata": {},
     "output_type": "display_data"
    },
    {
     "name": "stderr",
     "output_type": "stream",
     "text": [
      "C:\\Users\\lshh\\miniconda3\\envs\\py311_torch211_cuda121\\Lib\\site-packages\\numpy\\core\\fromnumeric.py:86: FutureWarning: The behavior of DataFrame.sum with axis=None is deprecated, in a future version this will reduce over both axes and return a scalar. To retain the old behavior, pass axis=0 (or do not pass axis)\n",
      "  return reduction(axis=axis, out=out, **passkwargs)\n"
     ]
    },
    {
     "name": "stdout",
     "output_type": "stream",
     "text": [
      "IRAK4:  0.22\n"
     ]
    },
    {
     "name": "stderr",
     "output_type": "stream",
     "text": [
      "C:\\Users\\lshh\\miniconda3\\envs\\py311_torch211_cuda121\\Lib\\site-packages\\numpy\\core\\fromnumeric.py:86: FutureWarning: The behavior of DataFrame.sum with axis=None is deprecated, in a future version this will reduce over both axes and return a scalar. To retain the old behavior, pass axis=0 (or do not pass axis)\n",
      "  return reduction(axis=axis, out=out, **passkwargs)\n"
     ]
    },
    {
     "data": {
      "application/vnd.jupyter.widget-view+json": {
       "model_id": "64e01c1cf27b4a2592604a355a72b29d",
       "version_major": 2,
       "version_minor": 0
      },
      "text/plain": [
       "  0%|          | 0/1 [00:00<?, ?it/s]"
      ]
     },
     "metadata": {},
     "output_type": "display_data"
    },
    {
     "name": "stdout",
     "output_type": "stream",
     "text": [
      "Using [] as regional annotations.\n"
     ]
    },
    {
     "data": {
      "application/vnd.jupyter.widget-view+json": {
       "model_id": "c902194c637d4c668144a4b778491c16",
       "version_major": 2,
       "version_minor": 0
      },
      "text/plain": [
       "  0%|          | 0/1 [00:00<?, ?it/s]"
      ]
     },
     "metadata": {},
     "output_type": "display_data"
    },
    {
     "name": "stderr",
     "output_type": "stream",
     "text": [
      "[2025-05-29 07:01:55,812::train::INFO] Epoch 1: train_loss 87.13395\n",
      "[2025-05-29 07:02:05,416::train::INFO] Epoch 501: train_loss 29.82120\n",
      "[2025-05-29 07:02:15,252::train::INFO] Epoch 1001: train_loss 28.41534\n",
      "[2025-05-29 07:02:24,877::train::INFO] Epoch 1501: train_loss 27.05967\n",
      "[2025-05-29 07:02:34,502::train::INFO] Epoch 2001: train_loss 26.81615\n",
      "[2025-05-29 07:02:44,141::train::INFO] Epoch 2501: train_loss 26.01119\n",
      "[2025-05-29 07:02:44,181::train::INFO] Epoch 2503: train_loss 25.34945\n",
      "[2025-05-29 07:02:44,182::train::INFO] Stopping criterion met.\n"
     ]
    },
    {
     "name": "stdout",
     "output_type": "stream",
     "text": [
      "Using [] as regional annotations.\n"
     ]
    },
    {
     "data": {
      "application/vnd.jupyter.widget-view+json": {
       "model_id": "adc3131f1f684fd496ddb810fae9f70b",
       "version_major": 2,
       "version_minor": 0
      },
      "text/plain": [
       "  0%|          | 0/1 [00:00<?, ?it/s]"
      ]
     },
     "metadata": {},
     "output_type": "display_data"
    },
    {
     "data": {
      "application/vnd.jupyter.widget-view+json": {
       "model_id": "c82a7ef681be4fcf9b59d3d414961c0a",
       "version_major": 2,
       "version_minor": 0
      },
      "text/plain": [
       "  0%|          | 0/1 [00:00<?, ?it/s]"
      ]
     },
     "metadata": {},
     "output_type": "display_data"
    },
    {
     "data": {
      "application/vnd.jupyter.widget-view+json": {
       "model_id": "f85cd73372004232a70d8f36cb489c6b",
       "version_major": 2,
       "version_minor": 0
      },
      "text/plain": [
       "  0%|          | 0/1 [00:00<?, ?it/s]"
      ]
     },
     "metadata": {},
     "output_type": "display_data"
    },
    {
     "name": "stderr",
     "output_type": "stream",
     "text": [
      "C:\\Users\\lshh\\miniconda3\\envs\\py311_torch211_cuda121\\Lib\\site-packages\\numpy\\core\\fromnumeric.py:86: FutureWarning: The behavior of DataFrame.sum with axis=None is deprecated, in a future version this will reduce over both axes and return a scalar. To retain the old behavior, pass axis=0 (or do not pass axis)\n",
      "  return reduction(axis=axis, out=out, **passkwargs)\n"
     ]
    },
    {
     "name": "stdout",
     "output_type": "stream",
     "text": [
      "PELI1:  0.70\n"
     ]
    },
    {
     "name": "stderr",
     "output_type": "stream",
     "text": [
      "C:\\Users\\lshh\\miniconda3\\envs\\py311_torch211_cuda121\\Lib\\site-packages\\numpy\\core\\fromnumeric.py:86: FutureWarning: The behavior of DataFrame.sum with axis=None is deprecated, in a future version this will reduce over both axes and return a scalar. To retain the old behavior, pass axis=0 (or do not pass axis)\n",
      "  return reduction(axis=axis, out=out, **passkwargs)\n"
     ]
    },
    {
     "data": {
      "application/vnd.jupyter.widget-view+json": {
       "model_id": "ca457e7ebbf245cd98a85aec654ed6c5",
       "version_major": 2,
       "version_minor": 0
      },
      "text/plain": [
       "  0%|          | 0/1 [00:00<?, ?it/s]"
      ]
     },
     "metadata": {},
     "output_type": "display_data"
    },
    {
     "name": "stdout",
     "output_type": "stream",
     "text": [
      "Using [] as regional annotations.\n"
     ]
    },
    {
     "data": {
      "application/vnd.jupyter.widget-view+json": {
       "model_id": "0111b92b5f9e426b8ffacf7f2b802aaa",
       "version_major": 2,
       "version_minor": 0
      },
      "text/plain": [
       "  0%|          | 0/1 [00:00<?, ?it/s]"
      ]
     },
     "metadata": {},
     "output_type": "display_data"
    },
    {
     "name": "stderr",
     "output_type": "stream",
     "text": [
      "[2025-05-29 07:03:00,284::train::INFO] Epoch 1: train_loss 87.13257\n",
      "[2025-05-29 07:03:10,009::train::INFO] Epoch 501: train_loss 29.81552\n",
      "[2025-05-29 07:03:19,583::train::INFO] Epoch 1001: train_loss 28.40267\n",
      "[2025-05-29 07:03:29,167::train::INFO] Epoch 1501: train_loss 27.09154\n",
      "[2025-05-29 07:03:38,751::train::INFO] Epoch 2001: train_loss 26.66153\n",
      "[2025-05-29 07:03:48,338::train::INFO] Epoch 2501: train_loss 25.90419\n",
      "[2025-05-29 07:03:48,377::train::INFO] Epoch 2503: train_loss 25.23844\n",
      "[2025-05-29 07:03:48,378::train::INFO] Stopping criterion met.\n"
     ]
    },
    {
     "name": "stdout",
     "output_type": "stream",
     "text": [
      "Using [] as regional annotations.\n"
     ]
    },
    {
     "data": {
      "application/vnd.jupyter.widget-view+json": {
       "model_id": "e36b2065292945c3b95a7f6d77ad5c52",
       "version_major": 2,
       "version_minor": 0
      },
      "text/plain": [
       "  0%|          | 0/1 [00:00<?, ?it/s]"
      ]
     },
     "metadata": {},
     "output_type": "display_data"
    },
    {
     "data": {
      "application/vnd.jupyter.widget-view+json": {
       "model_id": "b0784127dd2a49599e149c4335a97d08",
       "version_major": 2,
       "version_minor": 0
      },
      "text/plain": [
       "  0%|          | 0/1 [00:00<?, ?it/s]"
      ]
     },
     "metadata": {},
     "output_type": "display_data"
    },
    {
     "data": {
      "application/vnd.jupyter.widget-view+json": {
       "model_id": "b913caf669464d46a1c3afcc18dd4d0d",
       "version_major": 2,
       "version_minor": 0
      },
      "text/plain": [
       "  0%|          | 0/1 [00:00<?, ?it/s]"
      ]
     },
     "metadata": {},
     "output_type": "display_data"
    },
    {
     "name": "stderr",
     "output_type": "stream",
     "text": [
      "C:\\Users\\lshh\\miniconda3\\envs\\py311_torch211_cuda121\\Lib\\site-packages\\numpy\\core\\fromnumeric.py:86: FutureWarning: The behavior of DataFrame.sum with axis=None is deprecated, in a future version this will reduce over both axes and return a scalar. To retain the old behavior, pass axis=0 (or do not pass axis)\n",
      "  return reduction(axis=axis, out=out, **passkwargs)\n"
     ]
    },
    {
     "name": "stdout",
     "output_type": "stream",
     "text": [
      "TAB2:  0.34\n"
     ]
    },
    {
     "name": "stderr",
     "output_type": "stream",
     "text": [
      "C:\\Users\\lshh\\miniconda3\\envs\\py311_torch211_cuda121\\Lib\\site-packages\\numpy\\core\\fromnumeric.py:86: FutureWarning: The behavior of DataFrame.sum with axis=None is deprecated, in a future version this will reduce over both axes and return a scalar. To retain the old behavior, pass axis=0 (or do not pass axis)\n",
      "  return reduction(axis=axis, out=out, **passkwargs)\n"
     ]
    },
    {
     "data": {
      "application/vnd.jupyter.widget-view+json": {
       "model_id": "ebd2a95d09894b6298830530dc636f16",
       "version_major": 2,
       "version_minor": 0
      },
      "text/plain": [
       "  0%|          | 0/1 [00:00<?, ?it/s]"
      ]
     },
     "metadata": {},
     "output_type": "display_data"
    },
    {
     "name": "stdout",
     "output_type": "stream",
     "text": [
      "Using [] as regional annotations.\n"
     ]
    },
    {
     "data": {
      "application/vnd.jupyter.widget-view+json": {
       "model_id": "f367c78041044e7d99996255e86da75d",
       "version_major": 2,
       "version_minor": 0
      },
      "text/plain": [
       "  0%|          | 0/1 [00:00<?, ?it/s]"
      ]
     },
     "metadata": {},
     "output_type": "display_data"
    },
    {
     "name": "stderr",
     "output_type": "stream",
     "text": [
      "[2025-05-29 07:04:02,295::train::INFO] Epoch 1: train_loss 87.13354\n",
      "[2025-05-29 07:04:12,108::train::INFO] Epoch 501: train_loss 29.81968\n",
      "[2025-05-29 07:04:21,656::train::INFO] Epoch 1001: train_loss 28.41932\n",
      "[2025-05-29 07:04:31,214::train::INFO] Epoch 1501: train_loss 27.05893\n",
      "[2025-05-29 07:04:40,772::train::INFO] Epoch 2001: train_loss 26.83900\n",
      "[2025-05-29 07:04:50,348::train::INFO] Epoch 2501: train_loss 25.91199\n",
      "[2025-05-29 07:04:50,387::train::INFO] Epoch 2503: train_loss 25.25336\n",
      "[2025-05-29 07:04:50,388::train::INFO] Stopping criterion met.\n"
     ]
    },
    {
     "name": "stdout",
     "output_type": "stream",
     "text": [
      "Using [] as regional annotations.\n"
     ]
    },
    {
     "data": {
      "application/vnd.jupyter.widget-view+json": {
       "model_id": "b0d9e88e827646119d0dc42817acd0c5",
       "version_major": 2,
       "version_minor": 0
      },
      "text/plain": [
       "  0%|          | 0/1 [00:00<?, ?it/s]"
      ]
     },
     "metadata": {},
     "output_type": "display_data"
    },
    {
     "data": {
      "application/vnd.jupyter.widget-view+json": {
       "model_id": "6ba64861c5144217a361265689056cec",
       "version_major": 2,
       "version_minor": 0
      },
      "text/plain": [
       "  0%|          | 0/1 [00:00<?, ?it/s]"
      ]
     },
     "metadata": {},
     "output_type": "display_data"
    },
    {
     "data": {
      "application/vnd.jupyter.widget-view+json": {
       "model_id": "187a6527ad0a4831a0405346486560df",
       "version_major": 2,
       "version_minor": 0
      },
      "text/plain": [
       "  0%|          | 0/1 [00:00<?, ?it/s]"
      ]
     },
     "metadata": {},
     "output_type": "display_data"
    },
    {
     "name": "stderr",
     "output_type": "stream",
     "text": [
      "C:\\Users\\lshh\\miniconda3\\envs\\py311_torch211_cuda121\\Lib\\site-packages\\numpy\\core\\fromnumeric.py:86: FutureWarning: The behavior of DataFrame.sum with axis=None is deprecated, in a future version this will reduce over both axes and return a scalar. To retain the old behavior, pass axis=0 (or do not pass axis)\n",
      "  return reduction(axis=axis, out=out, **passkwargs)\n"
     ]
    },
    {
     "name": "stdout",
     "output_type": "stream",
     "text": [
      "MAP2K2:  0.70\n"
     ]
    },
    {
     "name": "stderr",
     "output_type": "stream",
     "text": [
      "C:\\Users\\lshh\\miniconda3\\envs\\py311_torch211_cuda121\\Lib\\site-packages\\numpy\\core\\fromnumeric.py:86: FutureWarning: The behavior of DataFrame.sum with axis=None is deprecated, in a future version this will reduce over both axes and return a scalar. To retain the old behavior, pass axis=0 (or do not pass axis)\n",
      "  return reduction(axis=axis, out=out, **passkwargs)\n"
     ]
    },
    {
     "data": {
      "application/vnd.jupyter.widget-view+json": {
       "model_id": "0f3f00015d2c4228bf1b9fb34801e732",
       "version_major": 2,
       "version_minor": 0
      },
      "text/plain": [
       "  0%|          | 0/1 [00:00<?, ?it/s]"
      ]
     },
     "metadata": {},
     "output_type": "display_data"
    },
    {
     "name": "stdout",
     "output_type": "stream",
     "text": [
      "Using [] as regional annotations.\n"
     ]
    },
    {
     "data": {
      "application/vnd.jupyter.widget-view+json": {
       "model_id": "85f39219ca1a481899f305dcf6155837",
       "version_major": 2,
       "version_minor": 0
      },
      "text/plain": [
       "  0%|          | 0/1 [00:00<?, ?it/s]"
      ]
     },
     "metadata": {},
     "output_type": "display_data"
    },
    {
     "name": "stderr",
     "output_type": "stream",
     "text": [
      "[2025-05-29 07:05:03,466::train::INFO] Epoch 1: train_loss 87.13128\n",
      "[2025-05-29 07:05:13,016::train::INFO] Epoch 501: train_loss 29.82348\n",
      "[2025-05-29 07:05:22,590::train::INFO] Epoch 1001: train_loss 28.43519\n",
      "[2025-05-29 07:05:32,161::train::INFO] Epoch 1501: train_loss 26.93173\n",
      "[2025-05-29 07:05:41,734::train::INFO] Epoch 2001: train_loss 26.87436\n",
      "[2025-05-29 07:05:51,334::train::INFO] Epoch 2501: train_loss 26.09140\n",
      "[2025-05-29 07:05:51,375::train::INFO] Epoch 2503: train_loss 25.39158\n",
      "[2025-05-29 07:05:51,375::train::INFO] Stopping criterion met.\n"
     ]
    },
    {
     "name": "stdout",
     "output_type": "stream",
     "text": [
      "Using [] as regional annotations.\n"
     ]
    },
    {
     "data": {
      "application/vnd.jupyter.widget-view+json": {
       "model_id": "3565f333d22048b0889035f3e3c6bbe2",
       "version_major": 2,
       "version_minor": 0
      },
      "text/plain": [
       "  0%|          | 0/1 [00:00<?, ?it/s]"
      ]
     },
     "metadata": {},
     "output_type": "display_data"
    },
    {
     "data": {
      "application/vnd.jupyter.widget-view+json": {
       "model_id": "f72a4fdda6c94a79bf18840ccfc5bf7a",
       "version_major": 2,
       "version_minor": 0
      },
      "text/plain": [
       "  0%|          | 0/1 [00:00<?, ?it/s]"
      ]
     },
     "metadata": {},
     "output_type": "display_data"
    },
    {
     "data": {
      "application/vnd.jupyter.widget-view+json": {
       "model_id": "035502e318064566acb35fd12f8f5291",
       "version_major": 2,
       "version_minor": 0
      },
      "text/plain": [
       "  0%|          | 0/1 [00:00<?, ?it/s]"
      ]
     },
     "metadata": {},
     "output_type": "display_data"
    },
    {
     "name": "stderr",
     "output_type": "stream",
     "text": [
      "C:\\Users\\lshh\\miniconda3\\envs\\py311_torch211_cuda121\\Lib\\site-packages\\numpy\\core\\fromnumeric.py:86: FutureWarning: The behavior of DataFrame.sum with axis=None is deprecated, in a future version this will reduce over both axes and return a scalar. To retain the old behavior, pass axis=0 (or do not pass axis)\n",
      "  return reduction(axis=axis, out=out, **passkwargs)\n"
     ]
    },
    {
     "name": "stdout",
     "output_type": "stream",
     "text": [
      "MAP2K6:  0.29\n"
     ]
    },
    {
     "name": "stderr",
     "output_type": "stream",
     "text": [
      "C:\\Users\\lshh\\miniconda3\\envs\\py311_torch211_cuda121\\Lib\\site-packages\\numpy\\core\\fromnumeric.py:86: FutureWarning: The behavior of DataFrame.sum with axis=None is deprecated, in a future version this will reduce over both axes and return a scalar. To retain the old behavior, pass axis=0 (or do not pass axis)\n",
      "  return reduction(axis=axis, out=out, **passkwargs)\n"
     ]
    },
    {
     "data": {
      "application/vnd.jupyter.widget-view+json": {
       "model_id": "a25af27aac64486d81eb56e2f2aacb07",
       "version_major": 2,
       "version_minor": 0
      },
      "text/plain": [
       "  0%|          | 0/1 [00:00<?, ?it/s]"
      ]
     },
     "metadata": {},
     "output_type": "display_data"
    },
    {
     "name": "stdout",
     "output_type": "stream",
     "text": [
      "Using [] as regional annotations.\n"
     ]
    },
    {
     "data": {
      "application/vnd.jupyter.widget-view+json": {
       "model_id": "8d74a08271034f4eb38a38a3a7e1c934",
       "version_major": 2,
       "version_minor": 0
      },
      "text/plain": [
       "  0%|          | 0/1 [00:00<?, ?it/s]"
      ]
     },
     "metadata": {},
     "output_type": "display_data"
    },
    {
     "name": "stderr",
     "output_type": "stream",
     "text": [
      "[2025-05-29 07:06:05,847::train::INFO] Epoch 1: train_loss 87.13795\n",
      "[2025-05-29 07:06:15,617::train::INFO] Epoch 501: train_loss 29.83226\n",
      "[2025-05-29 07:06:25,284::train::INFO] Epoch 1001: train_loss 28.41406\n",
      "[2025-05-29 07:06:34,905::train::INFO] Epoch 1501: train_loss 26.94826\n",
      "[2025-05-29 07:06:44,526::train::INFO] Epoch 2001: train_loss 26.82843\n",
      "[2025-05-29 07:06:54,328::train::INFO] Epoch 2501: train_loss 25.91732\n",
      "[2025-05-29 07:06:54,368::train::INFO] Epoch 2503: train_loss 25.27829\n",
      "[2025-05-29 07:06:54,369::train::INFO] Stopping criterion met.\n"
     ]
    },
    {
     "name": "stdout",
     "output_type": "stream",
     "text": [
      "Using [] as regional annotations.\n"
     ]
    },
    {
     "data": {
      "application/vnd.jupyter.widget-view+json": {
       "model_id": "bf3b5ea993c841f09a2110ed1619f4a6",
       "version_major": 2,
       "version_minor": 0
      },
      "text/plain": [
       "  0%|          | 0/1 [00:00<?, ?it/s]"
      ]
     },
     "metadata": {},
     "output_type": "display_data"
    },
    {
     "data": {
      "application/vnd.jupyter.widget-view+json": {
       "model_id": "2a558144505546e7af1c8997f60d2fa0",
       "version_major": 2,
       "version_minor": 0
      },
      "text/plain": [
       "  0%|          | 0/1 [00:00<?, ?it/s]"
      ]
     },
     "metadata": {},
     "output_type": "display_data"
    },
    {
     "data": {
      "application/vnd.jupyter.widget-view+json": {
       "model_id": "3cbfbd9c67ba437189978b4e1bfc8bd1",
       "version_major": 2,
       "version_minor": 0
      },
      "text/plain": [
       "  0%|          | 0/1 [00:00<?, ?it/s]"
      ]
     },
     "metadata": {},
     "output_type": "display_data"
    },
    {
     "name": "stderr",
     "output_type": "stream",
     "text": [
      "C:\\Users\\lshh\\miniconda3\\envs\\py311_torch211_cuda121\\Lib\\site-packages\\numpy\\core\\fromnumeric.py:86: FutureWarning: The behavior of DataFrame.sum with axis=None is deprecated, in a future version this will reduce over both axes and return a scalar. To retain the old behavior, pass axis=0 (or do not pass axis)\n",
      "  return reduction(axis=axis, out=out, **passkwargs)\n"
     ]
    },
    {
     "name": "stdout",
     "output_type": "stream",
     "text": [
      "IRF7:  0.62\n"
     ]
    },
    {
     "name": "stderr",
     "output_type": "stream",
     "text": [
      "C:\\Users\\lshh\\miniconda3\\envs\\py311_torch211_cuda121\\Lib\\site-packages\\numpy\\core\\fromnumeric.py:86: FutureWarning: The behavior of DataFrame.sum with axis=None is deprecated, in a future version this will reduce over both axes and return a scalar. To retain the old behavior, pass axis=0 (or do not pass axis)\n",
      "  return reduction(axis=axis, out=out, **passkwargs)\n"
     ]
    },
    {
     "data": {
      "application/vnd.jupyter.widget-view+json": {
       "model_id": "44cff74e62c0493f8c9b920733118acb",
       "version_major": 2,
       "version_minor": 0
      },
      "text/plain": [
       "  0%|          | 0/1 [00:00<?, ?it/s]"
      ]
     },
     "metadata": {},
     "output_type": "display_data"
    },
    {
     "name": "stdout",
     "output_type": "stream",
     "text": [
      "Using [] as regional annotations.\n"
     ]
    },
    {
     "data": {
      "application/vnd.jupyter.widget-view+json": {
       "model_id": "ddb241411d5b4383afe8db4bfdb375ac",
       "version_major": 2,
       "version_minor": 0
      },
      "text/plain": [
       "  0%|          | 0/1 [00:00<?, ?it/s]"
      ]
     },
     "metadata": {},
     "output_type": "display_data"
    },
    {
     "name": "stderr",
     "output_type": "stream",
     "text": [
      "[2025-05-29 07:07:09,214::train::INFO] Epoch 1: train_loss 87.13075\n",
      "[2025-05-29 07:07:19,223::train::INFO] Epoch 501: train_loss 29.81181\n",
      "[2025-05-29 07:07:28,911::train::INFO] Epoch 1001: train_loss 28.39847\n",
      "[2025-05-29 07:07:38,693::train::INFO] Epoch 1501: train_loss 27.08238\n",
      "[2025-05-29 07:07:48,353::train::INFO] Epoch 2001: train_loss 26.66256\n",
      "[2025-05-29 07:07:58,166::train::INFO] Epoch 2501: train_loss 25.95692\n",
      "[2025-05-29 07:07:58,206::train::INFO] Epoch 2503: train_loss 25.29110\n",
      "[2025-05-29 07:07:58,207::train::INFO] Stopping criterion met.\n"
     ]
    },
    {
     "name": "stdout",
     "output_type": "stream",
     "text": [
      "Using [] as regional annotations.\n"
     ]
    },
    {
     "data": {
      "application/vnd.jupyter.widget-view+json": {
       "model_id": "a4413382613346cf8cc393a907f02782",
       "version_major": 2,
       "version_minor": 0
      },
      "text/plain": [
       "  0%|          | 0/1 [00:00<?, ?it/s]"
      ]
     },
     "metadata": {},
     "output_type": "display_data"
    },
    {
     "data": {
      "application/vnd.jupyter.widget-view+json": {
       "model_id": "d752b176a0894a819769bba6aba17f6e",
       "version_major": 2,
       "version_minor": 0
      },
      "text/plain": [
       "  0%|          | 0/1 [00:00<?, ?it/s]"
      ]
     },
     "metadata": {},
     "output_type": "display_data"
    },
    {
     "data": {
      "application/vnd.jupyter.widget-view+json": {
       "model_id": "1a12182ddced40f8aa3b0703511f490c",
       "version_major": 2,
       "version_minor": 0
      },
      "text/plain": [
       "  0%|          | 0/1 [00:00<?, ?it/s]"
      ]
     },
     "metadata": {},
     "output_type": "display_data"
    },
    {
     "name": "stderr",
     "output_type": "stream",
     "text": [
      "C:\\Users\\lshh\\miniconda3\\envs\\py311_torch211_cuda121\\Lib\\site-packages\\numpy\\core\\fromnumeric.py:86: FutureWarning: The behavior of DataFrame.sum with axis=None is deprecated, in a future version this will reduce over both axes and return a scalar. To retain the old behavior, pass axis=0 (or do not pass axis)\n",
      "  return reduction(axis=axis, out=out, **passkwargs)\n"
     ]
    },
    {
     "name": "stdout",
     "output_type": "stream",
     "text": [
      "MYD88:  0.30\n"
     ]
    },
    {
     "data": {
      "image/png": "[encoded data removed]",
      "text/plain": [
       "<Figure size 150x150 with 1 Axes>"
      ]
     },
     "metadata": {},
     "output_type": "display_data"
    },
    {
     "data": {
      "image/png": "[encoded data removed]",
      "text/plain": [
       "<Figure size 150x150 with 1 Axes>"
      ]
     },
     "metadata": {},
     "output_type": "display_data"
    },
    {
     "data": {
      "image/png": "[encoded data removed]",
      "text/plain": [
       "<Figure size 150x150 with 1 Axes>"
      ]
     },
     "metadata": {},
     "output_type": "display_data"
    },
    {
     "data": {
      "image/png": "[encoded data removed]",
      "text/plain": [
       "<Figure size 150x150 with 1 Axes>"
      ]
     },
     "metadata": {},
     "output_type": "display_data"
    },
    {
     "data": {
      "image/png": "[encoded data removed]",
      "text/plain": [
       "<Figure size 150x150 with 1 Axes>"
      ]
     },
     "metadata": {},
     "output_type": "display_data"
    },
    {
     "data": {
      "image/png": "[encoded data removed]",
      "text/plain": [
       "<Figure size 150x150 with 1 Axes>"
      ]
     },
     "metadata": {},
     "output_type": "display_data"
    },
    {
     "data": {
      "image/png": "[encoded data removed]",
      "text/plain": [
       "<Figure size 150x150 with 1 Axes>"
      ]
     },
     "metadata": {},
     "output_type": "display_data"
    },
    {
     "data": {
      "image/png": "[encoded data removed]",
      "text/plain": [
       "<Figure size 150x150 with 1 Axes>"
      ]
     },
     "metadata": {},
     "output_type": "display_data"
    },
    {
     "data": {
      "image/png": "[encoded data removed]",
      "text/plain": [
       "<Figure size 150x150 with 1 Axes>"
      ]
     },
     "metadata": {},
     "output_type": "display_data"
    },
    {
     "data": {
      "image/png": "[encoded data removed]",
      "text/plain": [
       "<Figure size 150x150 with 1 Axes>"
      ]
     },
     "metadata": {},
     "output_type": "display_data"
    },
    {
     "data": {
      "image/png": "[encoded data removed]",
      "text/plain": [
       "<Figure size 150x150 with 1 Axes>"
      ]
     },
     "metadata": {},
     "output_type": "display_data"
    }
   ],
   "source": [
    "res = {}\n",
    "\n",
    "for test_var in test_vars:\n",
    "    # find all cells near ko or control tumor cells\n",
    "    adata.obs['near_ko'] = (adata.obsp['spatial_connectivities'] @ (adata.obs['perturbation'] == test_var).to_numpy()[:, None]) > 0\n",
    "    adata.obs['near_control'] = (adata.obsp['spatial_connectivities'] @ (adata.obs['perturbation'] == 'Control').to_numpy()[:, None]) > 0\n",
    "    \n",
    "    # find T cells near ko or control tumor cells\n",
    "    adata.obs['t_near_ko'] = (adata.obs['near_ko'] & (adata.obs['celltype2'] == 'T cells'))\n",
    "    adata.obs['t_near_control'] = (adata.obs['near_control'] & (adata.obs['celltype2'] == 'T cells'))\n",
    "    \n",
    "    # Find ground truth DEGs\n",
    "    sub_adata = adata[adata.obs['t_near_ko'] | adata.obs['t_near_control']].copy()\n",
    "    sub_adata.obs['test_group'] = sub_adata.obs['t_near_ko'].apply(lambda x: 'test' if x else 'control')\n",
    "    sc.tl.rank_genes_groups(sub_adata, 'test_group', method='wilcoxon', key_added = \"wilcoxon\")\n",
    "    # sc.pl.rank_genes_groups(sub_adata, n_genes=25, sharey=False, key=\"wilcoxon\")\n",
    "    cmp_df_gt = sc.get.rank_genes_groups_df(sub_adata, group=\"test\", key='wilcoxon')\n",
    "    # cmp_df_gt\n",
    "    \n",
    "    # keep a copy of ko cells and remove those cells (prevent leakage of data in training)\n",
    "    substitute = adata.X[adata.obs['perturbation'] == test_var]\n",
    "    train_adata = adata[adata.obs['perturbation'] != test_var, :].copy()\n",
    "    train_adatas = sf.prep_adatas([train_adata], norm=False, log1p=False, n_neighs=8)\n",
    "    train_dataset = sf.make_dataset(train_adatas, sparse_graph=True, regional_obs=[])\n",
    "    \n",
    "    # Train the model\n",
    "    device = 'cuda'\n",
    "    sf.set_random_seed(0)\n",
    "    model = sf.Steamboat(adata.var_names.tolist(), n_heads=50, n_scales=2)\n",
    "    model = model.to(device)\n",
    "    \n",
    "    model.fit(train_dataset.to(device), entry_masking_rate=0.1, feature_masking_rate=0.1,\n",
    "              max_epoch=10000, \n",
    "              loss_fun=torch.nn.MSELoss(reduction='sum'),\n",
    "              opt=torch.optim.Adam, opt_args=dict(lr=0.1), stop_eps=1e-4, report_per=500, stop_tol=200, device=device)\n",
    "    \n",
    "    # Substitute control cells with random ko cells\n",
    "    test_adata = train_adata.copy()\n",
    "    test_adata.X[test_adata.obs['perturbation'] == 'Control'] = substitute[np.random.choice(substitute.shape[0], \n",
    "                                                                                           (adata.obs['perturbation'] == 'Control').sum(), \n",
    "                                                                                           replace=True)]\n",
    "    \n",
    "    # Reconstruct the cells\n",
    "    test_dataset = sf.make_dataset([test_adata], sparse_graph=True, regional_obs=[])\n",
    "    sf.tools.calc_obs([test_adata], test_dataset, model, get_recon=True)\n",
    "    sf.tools.calc_obs([train_adata], train_dataset, model, get_recon=True)\n",
    "    \n",
    "    subset = test_adata.obs['t_near_control'] & (~test_adata.obs['t_near_ko'])\n",
    "    cmp_adata = sc.AnnData(np.vstack([test_adata[subset].obsm['X_recon'], \n",
    "                                      train_adata[subset].obsm['X_recon']]), \n",
    "                           var=test_adata.var.copy())\n",
    "    \n",
    "    cmp_adata.obs['grp'] = ['KO'] * subset.sum() + ['WT'] * subset.sum()\n",
    "    sc.tl.rank_genes_groups(cmp_adata, groupby='grp', method='wilcoxon')\n",
    "    cmp_df_sf = sc.get.rank_genes_groups_df(cmp_adata, group=\"KO\")\n",
    "    # cmp_df_sf\n",
    "    \n",
    "    cmp_df_merge = pd.merge(cmp_df_gt, cmp_df_sf, left_on='names', right_on='names', suffixes=['_gt', '_sf'])\n",
    "    # cmp_df_merge\n",
    "    \n",
    "    cmp_df_merge.to_csv(f\"perturbfish-oos/{test_var}.csv\")\n",
    "    \n",
    "    fig, ax = plt.subplots(figsize=(1.5, 1.5))\n",
    "    rho = cmp_df_merge[['logfoldchanges_gt', 'logfoldchanges_sf']].corr(method='spearman').iloc[0, 1]\n",
    "    cmp_df_merge.plot(x='logfoldchanges_gt', y='logfoldchanges_sf', kind='scatter', s=1, ax=ax)\n",
    "    ax.set_title(f\"{test_var}: {rho: .2f}\")\n",
    "    ax.set_xlabel('Ground-truth change')\n",
    "    ax.set_ylabel('Predicted change')\n",
    "    fig.savefig(f\"perturbfish-oos/{test_var}.pdf\")\n",
    "    \n",
    "    print(f\"{test_var}: {rho: .2f}\")\n",
    "    res[test_var] = rho"
   ]
  },
  {
   "cell_type": "code",
   "execution_count": 17,
   "id": "983c79e8-439b-4de6-913d-c6dc7a9b0d53",
   "metadata": {},
   "outputs": [
    {
     "data": {
      "text/plain": [
       "<matplotlib.lines.Line2D at 0x2845bb2b510>"
      ]
     },
     "execution_count": 17,
     "metadata": {},
     "output_type": "execute_result"
    },
    {
     "data": {
      "image/png": "[encoded data removed]",
      "text/plain": [
       "<Figure size 200x100 with 1 Axes>"
      ]
     },
     "metadata": {},
     "output_type": "display_data"
    }
   ],
   "source": [
    "pd.Series(res).sort_values(ascending=False).plot(kind='bar', figsize=(2, 1))\n",
    "plt.ylabel('correlation with\\nground truth')\n",
    "plt.axhline(0.3, ls='--', c='r')"
   ]
  },
  {
   "cell_type": "code",
   "execution_count": 10,
   "id": "e0495ad9-5b95-4069-97f1-fe66344e0a58",
   "metadata": {},
   "outputs": [],
   "source": [
    "pd.Series(res).to_csv(\"perturbfish-oos/steamboat_summary.csv\")"
   ]
  }
 ],
 "metadata": {
  "kernelspec": {
   "display_name": "Python 3 (ipykernel)",
   "language": "python",
   "name": "python3"
  },
  "language_info": {
   "codemirror_mode": {
    "name": "ipython",
    "version": 3
   },
   "file_extension": ".py",
   "mimetype": "text/x-python",
   "name": "python",
   "nbconvert_exporter": "python",
   "pygments_lexer": "ipython3",
   "version": "3.11.5"
  }
 },
 "nbformat": 4,
 "nbformat_minor": 5
}
